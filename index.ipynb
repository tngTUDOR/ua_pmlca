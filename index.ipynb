{
 "cells": [
  {
   "cell_type": "markdown",
   "id": "c50ffc71-14d4-4757-9ede-51cac6fb1c3c",
   "metadata": {},
   "source": [
    "# uncertainty analysisis (ua) in pavement management life cycle assessment (pmlca)\n",
    "\n",
    "This repository contains the following notebooks:\n",
    "\n",
    "+ [0_setup.ipynb](0_setup.ipynb) - Describes the python environment used to run this notebooks\n",
    "+ [1_background_db.ipynb](1_background_db.ipynb) - Setting up the background database.\n",
    "+ [2_foreground_db.ipynb](2_foreground_db.ipynb) - Setting up the foreground database."
   ]
  }
 ],
 "metadata": {
  "kernelspec": {
   "display_name": "Python 3 (ipykernel)",
   "language": "python",
   "name": "python3"
  },
  "language_info": {
   "codemirror_mode": {
    "name": "ipython",
    "version": 3
   },
   "file_extension": ".py",
   "mimetype": "text/x-python",
   "name": "python",
   "nbconvert_exporter": "python",
   "pygments_lexer": "ipython3",
   "version": "3.11.8"
  }
 },
 "nbformat": 4,
 "nbformat_minor": 5
}
