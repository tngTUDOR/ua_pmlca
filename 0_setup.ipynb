{
 "cells": [
  {
   "cell_type": "markdown",
   "id": "8a980ccd-8d14-435d-8293-8cb0fd426f6d",
   "metadata": {},
   "source": [
    "# Setup the environment\n",
    "\n",
    "## Dependency files\n",
    "This notebooks run on a recent [brightway25](https://brightway.dev) environment. Besides this, you will also need a jupyter install.\n",
    "The different dependencies required to run this notebooks are listed in convenient [requirements.txt](requirements.txt) (for `pip/pipenv` users, or as a `conda`/`mamba` [environment.yaml](environment.yaml) files.\n",
    "\n",
    "\n",
    "## Dependencies\n",
    "\n",
    "+ jupyter lab\n",
    "+ brightway25\n"
   ]
  }
 ],
 "metadata": {
  "kernelspec": {
   "display_name": "Python 3 (ipykernel)",
   "language": "python",
   "name": "python3"
  },
  "language_info": {
   "codemirror_mode": {
    "name": "ipython",
    "version": 3
   },
   "file_extension": ".py",
   "mimetype": "text/x-python",
   "name": "python",
   "nbconvert_exporter": "python",
   "pygments_lexer": "ipython3",
   "version": "3.11.8"
  }
 },
 "nbformat": 4,
 "nbformat_minor": 5
}
