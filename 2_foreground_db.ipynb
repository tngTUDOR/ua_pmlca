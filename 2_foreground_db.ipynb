{
 "cells": [
  {
   "cell_type": "markdown",
   "id": "e1abc8f5-c684-4d79-b7fc-27dbf8a72daa",
   "metadata": {},
   "source": [
    "# Foreground database import\n",
    "\n",
    "This notebook contains the required steps to import the foreground datatabase.\n",
    "The database comes originally as an [excel file](Foreground.xlsx).\n"
   ]
  },
  {
   "cell_type": "code",
   "execution_count": 1,
   "id": "cbe842ce-3edf-4029-b18a-287bf8da4533",
   "metadata": {},
   "outputs": [],
   "source": [
    "from pathlib import Path\n",
    "from pprint import pprint"
   ]
  },
  {
   "cell_type": "code",
   "execution_count": 2,
   "id": "a21363b0-d4bd-4e9f-bdf4-feb95a2a52d0",
   "metadata": {},
   "outputs": [],
   "source": [
    "import bw2data as bd\n",
    "import bw2io as bi"
   ]
  },
  {
   "cell_type": "code",
   "execution_count": 3,
   "id": "d82c6030-5791-419b-bb06-1869f8edef34",
   "metadata": {},
   "outputs": [],
   "source": [
    "from project_details import EI_DB_NAME, PROJECT_NAME"
   ]
  },
  {
   "cell_type": "code",
   "execution_count": 4,
   "id": "d09e2d65-209e-40d3-a9c0-9d84fd7753c1",
   "metadata": {},
   "outputs": [
    {
     "data": {
      "text/plain": [
       "Databases dictionary with 2 object(s):\n",
       "\tbiosphere3\n",
       "\tecoinvent-3.9.1-cutoff"
      ]
     },
     "execution_count": 4,
     "metadata": {},
     "output_type": "execute_result"
    }
   ],
   "source": [
    "bd.projects.set_current(PROJECT_NAME)\n",
    "bd.databases"
   ]
  },
  {
   "cell_type": "code",
   "execution_count": 5,
   "id": "1f3f2cfd-c151-49f1-a468-41817f5be436",
   "metadata": {},
   "outputs": [],
   "source": [
    "# Is the background database name the same as the one we wrote in `propject_details.py`?\n",
    "assert EI_DB_NAME in bd.databases"
   ]
  },
  {
   "cell_type": "markdown",
   "id": "e8ec2ec6-5086-4278-9fb7-08b4204272c4",
   "metadata": {},
   "source": [
    "## Extract the foreground inventory data"
   ]
  },
  {
   "cell_type": "code",
   "execution_count": 6,
   "id": "aec099cb-e215-4777-830a-f250e131e48c",
   "metadata": {},
   "outputs": [
    {
     "name": "stdout",
     "output_type": "stream",
     "text": [
      "Extracted 1 worksheets in 0.02 seconds\n"
     ]
    }
   ],
   "source": [
    "# Include the path to the foreground database\n",
    "fg_db = Path(\"./Foreground.xlsx\")\n",
    "\n",
    "# Import your LCI\n",
    "lci = bi.ExcelImporter(fg_db)"
   ]
  },
  {
   "cell_type": "markdown",
   "id": "01635dd8-5db7-4d02-9367-29f971ff0acd",
   "metadata": {},
   "source": [
    "## Transform the data from xlsx format to Brightway format"
   ]
  },
  {
   "cell_type": "markdown",
   "id": "c435504d-b620-4047-913f-797c77e87c58",
   "metadata": {},
   "source": [
    "### Match the foreground database to itself"
   ]
  },
  {
   "cell_type": "code",
   "execution_count": 7,
   "id": "8cd72d81-be70-4587-bb9c-9c3b73902907",
   "metadata": {},
   "outputs": [
    {
     "name": "stdout",
     "output_type": "stream",
     "text": [
      "Applying strategy: link_iterable_by_fields\n"
     ]
    }
   ],
   "source": [
    "# Need to match FG_DB to itself\n",
    "lci.match_database(fields=[\"name\", \"unit\", \"location\"])"
   ]
  },
  {
   "cell_type": "markdown",
   "id": "6230bb5b-7d0c-4396-83d4-e65947e5cd7d",
   "metadata": {},
   "source": [
    "### Match the FG_DB to the background db"
   ]
  },
  {
   "cell_type": "code",
   "execution_count": 8,
   "id": "3ec7e6da-254c-4a60-9452-f0ea97051e17",
   "metadata": {},
   "outputs": [
    {
     "name": "stdout",
     "output_type": "stream",
     "text": [
      "Applying strategy: link_iterable_by_fields\n"
     ]
    }
   ],
   "source": [
    "# Need to match FG_DB to the biosphere\n",
    "lci.match_database(EI_DB_NAME, fields=[\"name\", \"reference product\", \"location\", \"unit\"])"
   ]
  },
  {
   "cell_type": "markdown",
   "id": "51038ae2-3014-4c03-8f6d-ba2ecfc7170e",
   "metadata": {},
   "source": [
    "### Match the FG_DB to the biosphere3 database"
   ]
  },
  {
   "cell_type": "code",
   "execution_count": 9,
   "id": "74c022f3-625a-483f-9bf8-b6ad4ce74dc1",
   "metadata": {},
   "outputs": [
    {
     "name": "stdout",
     "output_type": "stream",
     "text": [
      "Applying strategy: link_iterable_by_fields\n"
     ]
    }
   ],
   "source": [
    "# Need to match FG_DB to the biosphere\n",
    "lci.match_database(\"biosphere3\", fields=[\"name\", \"categories\"])"
   ]
  },
  {
   "cell_type": "code",
   "execution_count": 10,
   "id": "518aa21b-886f-4bd9-80d1-c7eab264131f",
   "metadata": {},
   "outputs": [
    {
     "name": "stdout",
     "output_type": "stream",
     "text": [
      "Applying strategy: csv_restore_tuples\n",
      "Applying strategy: csv_restore_booleans\n",
      "Applying strategy: csv_numerize\n",
      "Applying strategy: csv_drop_unknown\n",
      "Applying strategy: csv_add_missing_exchanges_section\n",
      "Applying strategy: normalize_units\n",
      "Applying strategy: normalize_biosphere_categories\n",
      "Applying strategy: normalize_biosphere_names\n",
      "Applying strategy: strip_biosphere_exc_locations\n",
      "Applying strategy: set_code_by_activity_hash\n",
      "Applying strategy: link_iterable_by_fields\n",
      "Applying strategy: assign_only_product_as_production\n",
      "Applying strategy: link_technosphere_by_activity_hash\n",
      "Applying strategy: drop_falsey_uncertainty_fields_but_keep_zeros\n",
      "Applying strategy: convert_uncertainty_types_to_integers\n",
      "Applying strategy: convert_activity_parameters_to_list\n",
      "Applied 16 strategies in 6.74 seconds\n",
      "20 datasets\n",
      "118 exchanges\n",
      "0 unlinked exchanges\n",
      "  \n"
     ]
    },
    {
     "data": {
      "text/plain": [
       "(20, 118, 0)"
      ]
     },
     "execution_count": 10,
     "metadata": {},
     "output_type": "execute_result"
    }
   ],
   "source": [
    "bi.create_core_migrations()\n",
    "# Once your package is imported we need to apply strategies\n",
    "lci.apply_strategies()\n",
    "\n",
    "# We need to match databases - name and categories but ATTENTION! the categories in\n",
    "# the excel file is \"None\" so we willlci.write_excel() also need to match against unit.\n",
    "\n",
    "lci.statistics()"
   ]
  },
  {
   "cell_type": "code",
   "execution_count": 11,
   "id": "7bcea6f0-75db-4d2b-a705-9e9e2b4c24fe",
   "metadata": {},
   "outputs": [
    {
     "name": "stdout",
     "output_type": "stream",
     "text": [
      "Not able to determine geocollections for all datasets. This database is not ready for regionalization.\n"
     ]
    },
    {
     "name": "stderr",
     "output_type": "stream",
     "text": [
      "100%|█████████████████████████████████████████████████████████████████████████████████████████████| 20/20 [00:00<00:00, 49666.12it/s]"
     ]
    },
    {
     "name": "stdout",
     "output_type": "stream",
     "text": [
      "Vacuuming database \n"
     ]
    },
    {
     "name": "stderr",
     "output_type": "stream",
     "text": [
      "\n"
     ]
    },
    {
     "name": "stdout",
     "output_type": "stream",
     "text": [
      "Created database: asphalt\n"
     ]
    },
    {
     "data": {
      "text/plain": [
       "Databases dictionary with 3 object(s):\n",
       "\tasphalt\n",
       "\tbiosphere3\n",
       "\tecoinvent-3.9.1-cutoff"
      ]
     },
     "execution_count": 11,
     "metadata": {},
     "output_type": "execute_result"
    }
   ],
   "source": [
    "import_statistics = lci.statistics(print_stats=False)\n",
    "\n",
    "# If all exchanges have been linked, proceed to write the database\n",
    "if import_statistics[2] == 0:\n",
    "    lci.write_database()\n",
    "else:\n",
    "    print(f\"There are unlinked exchanges {import_statistics}\")\n",
    "    lci.write_excel()\n",
    "    for unlinked_exchange in lci.unlinked:\n",
    "        pprint(unlinked_exchange)\n",
    "\n",
    "bd.databases"
   ]
  }
 ],
 "metadata": {
  "kernelspec": {
   "display_name": "Python 3 (ipykernel)",
   "language": "python",
   "name": "python3"
  },
  "language_info": {
   "codemirror_mode": {
    "name": "ipython",
    "version": 3
   },
   "file_extension": ".py",
   "mimetype": "text/x-python",
   "name": "python",
   "nbconvert_exporter": "python",
   "pygments_lexer": "ipython3",
   "version": "3.11.8"
  }
 },
 "nbformat": 4,
 "nbformat_minor": 5
}
