{
 "cells": [
  {
   "cell_type": "markdown",
   "id": "54b3b037-954f-469f-a2e2-a535ed814329",
   "metadata": {},
   "source": [
    "# Modify Background Database\n",
    "\n",
    "In this project, certain processes based on exisiting processes contained in the background databases must be added to their respective background database. These processes are based on:\n",
    "\n",
    "- diesel, burned in building machine - GLO; from `EI_DB_NAME`;\n",
    "- transport, freight, lorry 7.5-16 metric ton, EURO5 - RER; from `EI_DB_NAME`;\n",
    "- transport, passenger car, medium size, petrol, EURO 5 - RER; from `EI_DB_NAME`;\n",
    "- basalt quarry operation - RER; from `EI_DB_NAME`;\n",
    "- gravel production, crushed - RoW; from `EI_DB_NAME`;\n",
    "- cellulose fibre production - RoW from `EI_DB_NAME`.\n"
   ]
  },
  {
   "cell_type": "code",
   "execution_count": 1,
   "id": "545a8324-3000-45b4-8ca2-905e5cf8bb6a",
   "metadata": {},
   "outputs": [],
   "source": [
    "from pprint import pprint\n",
    "\n",
    "import bw2data as bd\n",
    "import bw2io as bi\n",
    "from bw2data.query import Filter, Query\n",
    "from tabulate import tabulate"
   ]
  },
  {
   "cell_type": "code",
   "execution_count": 2,
   "id": "720331fa-eca1-483a-8c36-2590e0bcbcca",
   "metadata": {},
   "outputs": [],
   "source": [
    "# Importing the variables with the project name and background db\n",
    "from project_details import EI_DB_NAME, PROJECT_NAME"
   ]
  },
  {
   "cell_type": "code",
   "execution_count": 3,
   "id": "5cb03f8c-8ec6-4472-ade9-a498cd029e6f",
   "metadata": {},
   "outputs": [
    {
     "data": {
      "text/plain": [
       "Databases dictionary with 2 object(s):\n",
       "\tbiosphere3\n",
       "\tecoinvent-3.9.1-cutoff"
      ]
     },
     "execution_count": 3,
     "metadata": {},
     "output_type": "execute_result"
    }
   ],
   "source": [
    "# Set project\n",
    "bd.projects.set_current(PROJECT_NAME)\n",
    "# Check databases included in project\n",
    "bd.databases"
   ]
  },
  {
   "cell_type": "code",
   "execution_count": 4,
   "id": "694b9621-d706-4d42-aa02-46d48e052bb4",
   "metadata": {},
   "outputs": [],
   "source": [
    "# Is the background database name the same as the one we wrote in `project_details.py`?\n",
    "assert EI_DB_NAME in bd.databases"
   ]
  },
  {
   "cell_type": "markdown",
   "id": "f090e043-df41-4d82-ae7f-a620c0cd1b04",
   "metadata": {},
   "source": [
    "## Adding modified diesel processes\n",
    "First, two processes based on the ecoinvent process \"diesel, burned in building machine - GLO\" must be added. These processes correspond to the diesel consumption attributed to the machinery use to lay and mill asphalt during the construction (A5) and EOL (C1) life cycle phases of our system under analysis. Therefore, we will create two processes named as follows:\n",
    "\n",
    "- A5, diesel, burned in building machine - GLO\n",
    "- C1, diesel, burned in building machine - GLO\n",
    "\n",
    "The emissions of these processes are modified to comply with the specifications of the [NL-PCR](https://www.bouwendnederland.nl/media/12923/pcr-asfalt-v20.pdf).\n",
    "\n",
    "The emissions that we are modifying and their respective new values are:\n",
    "\n",
    "| Name                                               | A5 (kg)               | C1 (kg)               |\n",
    "|----------------------------------------------------|-----------------------|-----------------------|\n",
    "| Ammonia                                            | 2.33222e-07           | 2.33222e-07           |\n",
    "| Carbon dioxide, fossil                            | 7.44086e-05           | 7.44086e-05           |\n",
    "| Carbon monoxide, fossil                           | 3.19444e-08           | 1.00901e-08           |\n",
    "| Dinitrogen monoxide                               | 4.99833e-10           | 4.99833e-10           |\n",
    "| Nitrogen oxides                                   | 7.67056e-08           | 3.83334e-08           |\n",
    "| NMVOC, non-methane volatile organic compounds     | 8.91294e-10           | 4.08334e-10           |\n",
    "| Particulate Matter, < 2.5 um                      | 1.29832e-09           | 1.63390e-09           |\n",
    "| Particulate Matter, > 10 um                       | 6.83056e-11           | 3.22335e-09           |\n",
    "| Particulate Matter, > 2.5 um and < 10um           | 1.23587e-09           | 1.89703e-09           |\n",
    "| Sulfur dioxide                                    | 4.66667e-10           | 4.66667e-10           |\n",
    "\n",
    "Furthermore, the diesel exchange *market group for diesel - GLO* must be replaced by *market for diesel, low-sulfur - Europe without Switzerland* in both new processes."
   ]
  },
  {
   "cell_type": "code",
   "execution_count": 5,
   "id": "8e51d6aa-05e1-4036-99fb-6dd86a20e2d5",
   "metadata": {},
   "outputs": [],
   "source": [
    "EI_DB = bd.Database(EI_DB_NAME)"
   ]
  },
  {
   "cell_type": "code",
   "execution_count": 6,
   "id": "81057b9e-8627-41ea-9d6c-08bd5775b99f",
   "metadata": {},
   "outputs": [
    {
     "name": "stdout",
     "output_type": "stream",
     "text": [
      "'A5, diesel, burned in building machine' (megajoule, GLO, None)\n",
      "'C1, diesel, burned in building machine' (megajoule, GLO, None)\n"
     ]
    }
   ],
   "source": [
    "# Delete the diesel a5 and c1 in case we ran this notebook multiple times\n",
    "res = EI_DB.search(\"A5, diesel, burned in building machine\")\n",
    "for r in res:\n",
    "    print(r)\n",
    "    r.delete()\n",
    "res = EI_DB.search(\"C1, diesel, burned in building machine\")\n",
    "for r in res:\n",
    "    print(r)\n",
    "    r.delete()"
   ]
  },
  {
   "cell_type": "code",
   "execution_count": 7,
   "id": "3a51de99-4225-40da-bb62-0eb8aa6c473b",
   "metadata": {},
   "outputs": [],
   "source": [
    "eidb_data = bd.Database(EI_DB_NAME).load()"
   ]
  },
  {
   "cell_type": "markdown",
   "id": "04510720-d504-48e3-bb8f-766c74146900",
   "metadata": {},
   "source": [
    "### copy original processes"
   ]
  },
  {
   "cell_type": "code",
   "execution_count": 8,
   "id": "b5259e31-ccc8-4b48-8bee-4487442affc3",
   "metadata": {},
   "outputs": [
    {
     "data": {
      "text/plain": [
       "'diesel, burned in building machine' (megajoule, GLO, None)"
      ]
     },
     "execution_count": 8,
     "metadata": {},
     "output_type": "execute_result"
    }
   ],
   "source": [
    "# Search for original diesel process in background database\n",
    "q = Query()\n",
    "filter_name = Filter(\"name\", \"is\", \"diesel, burned in building machine\")\n",
    "filter_location = Filter(\"location\", \"is\", \"GLO\")\n",
    "q.add(filter_name)\n",
    "q.add(filter_location)\n",
    "res = q(eidb_data)\n",
    "if len(res) == 1:\n",
    "    diesel = bd.get_activity(list(res).pop())\n",
    "diesel"
   ]
  },
  {
   "cell_type": "code",
   "execution_count": 9,
   "id": "8114b605-21e1-4f9b-a5b6-b31c8fabc16d",
   "metadata": {},
   "outputs": [
    {
     "data": {
      "text/html": [
       "<table>\n",
       "<tbody>\n",
       "<tr><td>production  </td><td>diesel, burned in building machine                      </td><td>megajoule</td><td style=\"text-align: right;\"> 1          </td><td>&#x27;diesel, burned in building machine&#x27; (megajoule, GLO, None)                          </td></tr>\n",
       "<tr><td>technosphere</td><td>building machine                                        </td><td>unit     </td><td style=\"text-align: right;\"> 1.34e-07   </td><td>&#x27;market for building machine&#x27; (unit, GLO, None)                                      </td></tr>\n",
       "<tr><td>technosphere</td><td>diesel                                                  </td><td>kilogram </td><td style=\"text-align: right;\"> 0.0234     </td><td>&#x27;market group for diesel&#x27; (kilogram, GLO, None)                                      </td></tr>\n",
       "<tr><td>technosphere</td><td>lubricating oil                                         </td><td>kilogram </td><td style=\"text-align: right;\"> 8.9436e-05 </td><td>&#x27;market for lubricating oil&#x27; (kilogram, RER, None)                                   </td></tr>\n",
       "<tr><td>technosphere</td><td>lubricating oil                                         </td><td>kilogram </td><td style=\"text-align: right;\"> 0.000424564</td><td>&#x27;market for lubricating oil&#x27; (kilogram, RoW, None)                                   </td></tr>\n",
       "<tr><td>technosphere</td><td>waste mineral oil                                       </td><td>kilogram </td><td style=\"text-align: right;\">-0.000369419</td><td>&#x27;market for waste mineral oil&#x27; (kilogram, RoW, None)                                 </td></tr>\n",
       "<tr><td>technosphere</td><td>waste mineral oil                                       </td><td>kilogram </td><td style=\"text-align: right;\">-0.000141088</td><td>&#x27;market for waste mineral oil&#x27; (kilogram, Europe without Switzerland, None)          </td></tr>\n",
       "<tr><td>technosphere</td><td>waste mineral oil                                       </td><td>kilogram </td><td style=\"text-align: right;\">-3.49279e-06</td><td>&#x27;market for waste mineral oil&#x27; (kilogram, CH, None)                                  </td></tr>\n",
       "<tr><td>biosphere   </td><td>Ammonia                                                 </td><td>kilogram </td><td style=\"text-align: right;\"> 4.67e-07   </td><td>&#x27;Ammonia&#x27; (kilogram, None, (&#x27;air&#x27;,))                                                 </td></tr>\n",
       "<tr><td>biosphere   </td><td>Benzo(a)pyrene                                          </td><td>kilogram </td><td style=\"text-align: right;\"> 7.01e-10   </td><td>&#x27;Benzo(a)pyrene&#x27; (kilogram, None, (&#x27;air&#x27;,))                                          </td></tr>\n",
       "<tr><td>biosphere   </td><td>Cadmium II                                              </td><td>kilogram </td><td style=\"text-align: right;\"> 2.34e-10   </td><td>&#x27;Cadmium II&#x27; (kilogram, None, (&#x27;air&#x27;,))                                              </td></tr>\n",
       "<tr><td>biosphere   </td><td>Carbon dioxide, fossil                                  </td><td>kilogram </td><td style=\"text-align: right;\"> 0.073      </td><td>&#x27;Carbon dioxide, fossil&#x27; (kilogram, None, (&#x27;air&#x27;,))                                  </td></tr>\n",
       "<tr><td>biosphere   </td><td>Carbon monoxide, fossil                                 </td><td>kilogram </td><td style=\"text-align: right;\"> 0.000266   </td><td>&#x27;Carbon monoxide, fossil&#x27; (kilogram, None, (&#x27;air&#x27;,))                                 </td></tr>\n",
       "<tr><td>biosphere   </td><td>Chromium III                                            </td><td>kilogram </td><td style=\"text-align: right;\"> 1.17e-09   </td><td>&#x27;Chromium III&#x27; (kilogram, None, (&#x27;air&#x27;,))                                            </td></tr>\n",
       "<tr><td>biosphere   </td><td>Copper ion                                              </td><td>kilogram </td><td style=\"text-align: right;\"> 3.97e-08   </td><td>&#x27;Copper ion&#x27; (kilogram, None, (&#x27;air&#x27;,))                                              </td></tr>\n",
       "<tr><td>biosphere   </td><td>Dinitrogen monoxide                                     </td><td>kilogram </td><td style=\"text-align: right;\"> 2.8e-06    </td><td>&#x27;Dinitrogen monoxide&#x27; (kilogram, None, (&#x27;air&#x27;,))                                     </td></tr>\n",
       "<tr><td>biosphere   </td><td>Dioxins, measured as 2,3,7,8-tetrachlorodibenzo-p-dioxin</td><td>kilogram </td><td style=\"text-align: right;\"> 1.4e-15    </td><td>&#x27;Dioxins, measured as 2,3,7,8-tetrachlorodibenzo-p-dioxin&#x27; (kilogram, None, (&#x27;air&#x27;,))</td></tr>\n",
       "<tr><td>biosphere   </td><td>Methane, fossil                                         </td><td>kilogram </td><td style=\"text-align: right;\"> 3.75e-06   </td><td>&#x27;Methane, fossil&#x27; (kilogram, None, (&#x27;air&#x27;,))                                         </td></tr>\n",
       "<tr><td>biosphere   </td><td>NMVOC, non-methane volatile organic compounds           </td><td>kilogram </td><td style=\"text-align: right;\"> 0.000121   </td><td>&#x27;NMVOC, non-methane volatile organic compounds&#x27; (kilogram, None, (&#x27;air&#x27;,))           </td></tr>\n",
       "<tr><td>biosphere   </td><td>Nickel II                                               </td><td>kilogram </td><td style=\"text-align: right;\"> 1.64e-09   </td><td>&#x27;Nickel II&#x27; (kilogram, None, (&#x27;air&#x27;,))                                               </td></tr>\n",
       "<tr><td>biosphere   </td><td>Nitrogen oxides                                         </td><td>kilogram </td><td style=\"text-align: right;\"> 0.00103    </td><td>&#x27;Nitrogen oxides&#x27; (kilogram, None, (&#x27;air&#x27;,))                                         </td></tr>\n",
       "<tr><td>biosphere   </td><td>PAH, polycyclic aromatic hydrocarbons                   </td><td>kilogram </td><td style=\"text-align: right;\"> 7.85e-08   </td><td>&#x27;PAH, polycyclic aromatic hydrocarbons&#x27; (kilogram, None, (&#x27;air&#x27;,))                   </td></tr>\n",
       "<tr><td>biosphere   </td><td>Particulate Matter, &lt; 2.5 um                            </td><td>kilogram </td><td style=\"text-align: right;\"> 9.43e-05   </td><td>&#x27;Particulate Matter, &lt; 2.5 um&#x27; (kilogram, None, (&#x27;air&#x27;,))                            </td></tr>\n",
       "<tr><td>biosphere   </td><td>Particulate Matter, &gt; 10 um                             </td><td>kilogram </td><td style=\"text-align: right;\"> 6.28e-06   </td><td>&#x27;Particulate Matter, &gt; 10 um&#x27; (kilogram, None, (&#x27;air&#x27;,))                             </td></tr>\n",
       "<tr><td>biosphere   </td><td>Particulate Matter, &gt; 2.5 um and &lt; 10um                 </td><td>kilogram </td><td style=\"text-align: right;\"> 4.19e-06   </td><td>&#x27;Particulate Matter, &gt; 2.5 um and &lt; 10um&#x27; (kilogram, None, (&#x27;air&#x27;,))                 </td></tr>\n",
       "<tr><td>biosphere   </td><td>Selenium IV                                             </td><td>kilogram </td><td style=\"text-align: right;\"> 2.34e-10   </td><td>&#x27;Selenium IV&#x27; (kilogram, None, (&#x27;air&#x27;,))                                             </td></tr>\n",
       "<tr><td>biosphere   </td><td>Sulfur dioxide                                          </td><td>kilogram </td><td style=\"text-align: right;\"> 2.36e-05   </td><td>&#x27;Sulfur dioxide&#x27; (kilogram, None, (&#x27;air&#x27;,))                                          </td></tr>\n",
       "<tr><td>biosphere   </td><td>Zinc II                                                 </td><td>kilogram </td><td style=\"text-align: right;\"> 2.34e-08   </td><td>&#x27;Zinc II&#x27; (kilogram, None, (&#x27;air&#x27;,))                                                 </td></tr>\n",
       "</tbody>\n",
       "</table>"
      ],
      "text/plain": [
       "'<table>\\n<tbody>\\n<tr><td>production  </td><td>diesel, burned in building machine                      </td><td>megajoule</td><td style=\"text-align: right;\"> 1          </td><td>&#x27;diesel, burned in building machine&#x27; (megajoule, GLO, None)                          </td></tr>\\n<tr><td>technosphere</td><td>building machine                                        </td><td>unit     </td><td style=\"text-align: right;\"> 1.34e-07   </td><td>&#x27;market for building machine&#x27; (unit, GLO, None)                                      </td></tr>\\n<tr><td>technosphere</td><td>diesel                                                  </td><td>kilogram </td><td style=\"text-align: right;\"> 0.0234     </td><td>&#x27;market group for diesel&#x27; (kilogram, GLO, None)                                      </td></tr>\\n<tr><td>technosphere</td><td>lubricating oil                                         </td><td>kilogram </td><td style=\"text-align: right;\"> 8.9436e-05 </td><td>&#x27;market for lubricating oil&#x27; (kilogram, RER, None)                                   </td></tr>\\n<tr><td>technosphere</td><td>lubricating oil                                         </td><td>kilogram </td><td style=\"text-align: right;\"> 0.000424564</td><td>&#x27;market for lubricating oil&#x27; (kilogram, RoW, None)                                   </td></tr>\\n<tr><td>technosphere</td><td>waste mineral oil                                       </td><td>kilogram </td><td style=\"text-align: right;\">-0.000369419</td><td>&#x27;market for waste mineral oil&#x27; (kilogram, RoW, None)                                 </td></tr>\\n<tr><td>technosphere</td><td>waste mineral oil                                       </td><td>kilogram </td><td style=\"text-align: right;\">-0.000141088</td><td>&#x27;market for waste mineral oil&#x27; (kilogram, Europe without Switzerland, None)          </td></tr>\\n<tr><td>technosphere</td><td>waste mineral oil                                       </td><td>kilogram </td><td style=\"text-align: right;\">-3.49279e-06</td><td>&#x27;market for waste mineral oil&#x27; (kilogram, CH, None)                                  </td></tr>\\n<tr><td>biosphere   </td><td>Ammonia                                                 </td><td>kilogram </td><td style=\"text-align: right;\"> 4.67e-07   </td><td>&#x27;Ammonia&#x27; (kilogram, None, (&#x27;air&#x27;,))                                                 </td></tr>\\n<tr><td>biosphere   </td><td>Benzo(a)pyrene                                          </td><td>kilogram </td><td style=\"text-align: right;\"> 7.01e-10   </td><td>&#x27;Benzo(a)pyrene&#x27; (kilogram, None, (&#x27;air&#x27;,))                                          </td></tr>\\n<tr><td>biosphere   </td><td>Cadmium II                                              </td><td>kilogram </td><td style=\"text-align: right;\"> 2.34e-10   </td><td>&#x27;Cadmium II&#x27; (kilogram, None, (&#x27;air&#x27;,))                                              </td></tr>\\n<tr><td>biosphere   </td><td>Carbon dioxide, fossil                                  </td><td>kilogram </td><td style=\"text-align: right;\"> 0.073      </td><td>&#x27;Carbon dioxide, fossil&#x27; (kilogram, None, (&#x27;air&#x27;,))                                  </td></tr>\\n<tr><td>biosphere   </td><td>Carbon monoxide, fossil                                 </td><td>kilogram </td><td style=\"text-align: right;\"> 0.000266   </td><td>&#x27;Carbon monoxide, fossil&#x27; (kilogram, None, (&#x27;air&#x27;,))                                 </td></tr>\\n<tr><td>biosphere   </td><td>Chromium III                                            </td><td>kilogram </td><td style=\"text-align: right;\"> 1.17e-09   </td><td>&#x27;Chromium III&#x27; (kilogram, None, (&#x27;air&#x27;,))                                            </td></tr>\\n<tr><td>biosphere   </td><td>Copper ion                                              </td><td>kilogram </td><td style=\"text-align: right;\"> 3.97e-08   </td><td>&#x27;Copper ion&#x27; (kilogram, None, (&#x27;air&#x27;,))                                              </td></tr>\\n<tr><td>biosphere   </td><td>Dinitrogen monoxide                                     </td><td>kilogram </td><td style=\"text-align: right;\"> 2.8e-06    </td><td>&#x27;Dinitrogen monoxide&#x27; (kilogram, None, (&#x27;air&#x27;,))                                     </td></tr>\\n<tr><td>biosphere   </td><td>Dioxins, measured as 2,3,7,8-tetrachlorodibenzo-p-dioxin</td><td>kilogram </td><td style=\"text-align: right;\"> 1.4e-15    </td><td>&#x27;Dioxins, measured as 2,3,7,8-tetrachlorodibenzo-p-dioxin&#x27; (kilogram, None, (&#x27;air&#x27;,))</td></tr>\\n<tr><td>biosphere   </td><td>Methane, fossil                                         </td><td>kilogram </td><td style=\"text-align: right;\"> 3.75e-06   </td><td>&#x27;Methane, fossil&#x27; (kilogram, None, (&#x27;air&#x27;,))                                         </td></tr>\\n<tr><td>biosphere   </td><td>NMVOC, non-methane volatile organic compounds           </td><td>kilogram </td><td style=\"text-align: right;\"> 0.000121   </td><td>&#x27;NMVOC, non-methane volatile organic compounds&#x27; (kilogram, None, (&#x27;air&#x27;,))           </td></tr>\\n<tr><td>biosphere   </td><td>Nickel II                                               </td><td>kilogram </td><td style=\"text-align: right;\"> 1.64e-09   </td><td>&#x27;Nickel II&#x27; (kilogram, None, (&#x27;air&#x27;,))                                               </td></tr>\\n<tr><td>biosphere   </td><td>Nitrogen oxides                                         </td><td>kilogram </td><td style=\"text-align: right;\"> 0.00103    </td><td>&#x27;Nitrogen oxides&#x27; (kilogram, None, (&#x27;air&#x27;,))                                         </td></tr>\\n<tr><td>biosphere   </td><td>PAH, polycyclic aromatic hydrocarbons                   </td><td>kilogram </td><td style=\"text-align: right;\"> 7.85e-08   </td><td>&#x27;PAH, polycyclic aromatic hydrocarbons&#x27; (kilogram, None, (&#x27;air&#x27;,))                   </td></tr>\\n<tr><td>biosphere   </td><td>Particulate Matter, &lt; 2.5 um                            </td><td>kilogram </td><td style=\"text-align: right;\"> 9.43e-05   </td><td>&#x27;Particulate Matter, &lt; 2.5 um&#x27; (kilogram, None, (&#x27;air&#x27;,))                            </td></tr>\\n<tr><td>biosphere   </td><td>Particulate Matter, &gt; 10 um                             </td><td>kilogram </td><td style=\"text-align: right;\"> 6.28e-06   </td><td>&#x27;Particulate Matter, &gt; 10 um&#x27; (kilogram, None, (&#x27;air&#x27;,))                             </td></tr>\\n<tr><td>biosphere   </td><td>Particulate Matter, &gt; 2.5 um and &lt; 10um                 </td><td>kilogram </td><td style=\"text-align: right;\"> 4.19e-06   </td><td>&#x27;Particulate Matter, &gt; 2.5 um and &lt; 10um&#x27; (kilogram, None, (&#x27;air&#x27;,))                 </td></tr>\\n<tr><td>biosphere   </td><td>Selenium IV                                             </td><td>kilogram </td><td style=\"text-align: right;\"> 2.34e-10   </td><td>&#x27;Selenium IV&#x27; (kilogram, None, (&#x27;air&#x27;,))                                             </td></tr>\\n<tr><td>biosphere   </td><td>Sulfur dioxide                                          </td><td>kilogram </td><td style=\"text-align: right;\"> 2.36e-05   </td><td>&#x27;Sulfur dioxide&#x27; (kilogram, None, (&#x27;air&#x27;,))                                          </td></tr>\\n<tr><td>biosphere   </td><td>Zinc II                                                 </td><td>kilogram </td><td style=\"text-align: right;\"> 2.34e-08   </td><td>&#x27;Zinc II&#x27; (kilogram, None, (&#x27;air&#x27;,))                                                 </td></tr>\\n</tbody>\\n</table>'"
      ]
     },
     "execution_count": 9,
     "metadata": {},
     "output_type": "execute_result"
    }
   ],
   "source": [
    "# Look at exhanges characterizing activity\n",
    "rows = []\n",
    "for exc in diesel.exchanges():\n",
    "    exc_row = {\n",
    "        field: value\n",
    "        for field, value in exc.as_dict().items()\n",
    "        if field in [\"amount\", \"unit\", \"name\", \"type\"]\n",
    "    }\n",
    "    exchange_activity = bd.get_activity(exc[\"input\"])\n",
    "    exc_row[\"activity\"] = str(exchange_activity)\n",
    "    rows.append(exc_row)\n",
    "tabulate(rows, tablefmt=\"html\")"
   ]
  },
  {
   "cell_type": "code",
   "execution_count": 10,
   "id": "17ca25c5-eebf-4a10-bdf3-fbe42059552d",
   "metadata": {},
   "outputs": [],
   "source": [
    "# Copy existing diesel process\n",
    "diesel_A5 = diesel.copy(name=\"A5, diesel, burned in building machine\")\n",
    "diesel_C1 = diesel.copy(name=\"C1, diesel, burned in building machine\")"
   ]
  },
  {
   "cell_type": "code",
   "execution_count": 11,
   "id": "099bcbca-a03c-450b-858b-2128d65d0ccf",
   "metadata": {},
   "outputs": [
    {
     "data": {
      "text/plain": [
       "['market for diesel, burned in building machine' (megajoule, GLO, None),\n",
       " 'diesel, burned in building machine' (megajoule, GLO, None),\n",
       " 'A5, diesel, burned in building machine' (megajoule, GLO, None),\n",
       " 'C1, diesel, burned in building machine' (megajoule, GLO, None),\n",
       " 'propane, burned in building machine' (megajoule, GLO, None),\n",
       " 'market for propane, burned in building machine' (megajoule, GLO, None),\n",
       " 'market for diesel, burned in diesel-electric generating set, 10MW' (megajoule, GLO, None)]"
      ]
     },
     "execution_count": 11,
     "metadata": {},
     "output_type": "execute_result"
    }
   ],
   "source": [
    "# Check that new processes are saved to background database\n",
    "EI_DB.search(\"diesel, burned in building machine\")"
   ]
  },
  {
   "cell_type": "code",
   "execution_count": 12,
   "id": "409925df-704d-4949-8144-9d491d9078ba",
   "metadata": {
    "scrolled": true
   },
   "outputs": [
    {
     "data": {
      "text/html": [
       "<table>\n",
       "<tbody>\n",
       "<tr><td>production  </td><td>diesel, burned in building machine                      </td><td>megajoule</td><td style=\"text-align: right;\"> 1          </td><td>&#x27;A5, diesel, burned in building machine&#x27; (megajoule, GLO, None)                      </td></tr>\n",
       "<tr><td>technosphere</td><td>building machine                                        </td><td>unit     </td><td style=\"text-align: right;\"> 1.34e-07   </td><td>&#x27;market for building machine&#x27; (unit, GLO, None)                                      </td></tr>\n",
       "<tr><td>technosphere</td><td>diesel                                                  </td><td>kilogram </td><td style=\"text-align: right;\"> 0.0234     </td><td>&#x27;market group for diesel&#x27; (kilogram, GLO, None)                                      </td></tr>\n",
       "<tr><td>technosphere</td><td>lubricating oil                                         </td><td>kilogram </td><td style=\"text-align: right;\"> 8.9436e-05 </td><td>&#x27;market for lubricating oil&#x27; (kilogram, RER, None)                                   </td></tr>\n",
       "<tr><td>technosphere</td><td>lubricating oil                                         </td><td>kilogram </td><td style=\"text-align: right;\"> 0.000424564</td><td>&#x27;market for lubricating oil&#x27; (kilogram, RoW, None)                                   </td></tr>\n",
       "<tr><td>technosphere</td><td>waste mineral oil                                       </td><td>kilogram </td><td style=\"text-align: right;\">-0.000369419</td><td>&#x27;market for waste mineral oil&#x27; (kilogram, RoW, None)                                 </td></tr>\n",
       "<tr><td>technosphere</td><td>waste mineral oil                                       </td><td>kilogram </td><td style=\"text-align: right;\">-0.000141088</td><td>&#x27;market for waste mineral oil&#x27; (kilogram, Europe without Switzerland, None)          </td></tr>\n",
       "<tr><td>technosphere</td><td>waste mineral oil                                       </td><td>kilogram </td><td style=\"text-align: right;\">-3.49279e-06</td><td>&#x27;market for waste mineral oil&#x27; (kilogram, CH, None)                                  </td></tr>\n",
       "<tr><td>biosphere   </td><td>Ammonia                                                 </td><td>kilogram </td><td style=\"text-align: right;\"> 4.67e-07   </td><td>&#x27;Ammonia&#x27; (kilogram, None, (&#x27;air&#x27;,))                                                 </td></tr>\n",
       "<tr><td>biosphere   </td><td>Benzo(a)pyrene                                          </td><td>kilogram </td><td style=\"text-align: right;\"> 7.01e-10   </td><td>&#x27;Benzo(a)pyrene&#x27; (kilogram, None, (&#x27;air&#x27;,))                                          </td></tr>\n",
       "<tr><td>biosphere   </td><td>Cadmium II                                              </td><td>kilogram </td><td style=\"text-align: right;\"> 2.34e-10   </td><td>&#x27;Cadmium II&#x27; (kilogram, None, (&#x27;air&#x27;,))                                              </td></tr>\n",
       "<tr><td>biosphere   </td><td>Carbon dioxide, fossil                                  </td><td>kilogram </td><td style=\"text-align: right;\"> 0.073      </td><td>&#x27;Carbon dioxide, fossil&#x27; (kilogram, None, (&#x27;air&#x27;,))                                  </td></tr>\n",
       "<tr><td>biosphere   </td><td>Carbon monoxide, fossil                                 </td><td>kilogram </td><td style=\"text-align: right;\"> 0.000266   </td><td>&#x27;Carbon monoxide, fossil&#x27; (kilogram, None, (&#x27;air&#x27;,))                                 </td></tr>\n",
       "<tr><td>biosphere   </td><td>Chromium III                                            </td><td>kilogram </td><td style=\"text-align: right;\"> 1.17e-09   </td><td>&#x27;Chromium III&#x27; (kilogram, None, (&#x27;air&#x27;,))                                            </td></tr>\n",
       "<tr><td>biosphere   </td><td>Copper ion                                              </td><td>kilogram </td><td style=\"text-align: right;\"> 3.97e-08   </td><td>&#x27;Copper ion&#x27; (kilogram, None, (&#x27;air&#x27;,))                                              </td></tr>\n",
       "<tr><td>biosphere   </td><td>Dinitrogen monoxide                                     </td><td>kilogram </td><td style=\"text-align: right;\"> 2.8e-06    </td><td>&#x27;Dinitrogen monoxide&#x27; (kilogram, None, (&#x27;air&#x27;,))                                     </td></tr>\n",
       "<tr><td>biosphere   </td><td>Dioxins, measured as 2,3,7,8-tetrachlorodibenzo-p-dioxin</td><td>kilogram </td><td style=\"text-align: right;\"> 1.4e-15    </td><td>&#x27;Dioxins, measured as 2,3,7,8-tetrachlorodibenzo-p-dioxin&#x27; (kilogram, None, (&#x27;air&#x27;,))</td></tr>\n",
       "<tr><td>biosphere   </td><td>Methane, fossil                                         </td><td>kilogram </td><td style=\"text-align: right;\"> 3.75e-06   </td><td>&#x27;Methane, fossil&#x27; (kilogram, None, (&#x27;air&#x27;,))                                         </td></tr>\n",
       "<tr><td>biosphere   </td><td>NMVOC, non-methane volatile organic compounds           </td><td>kilogram </td><td style=\"text-align: right;\"> 0.000121   </td><td>&#x27;NMVOC, non-methane volatile organic compounds&#x27; (kilogram, None, (&#x27;air&#x27;,))           </td></tr>\n",
       "<tr><td>biosphere   </td><td>Nickel II                                               </td><td>kilogram </td><td style=\"text-align: right;\"> 1.64e-09   </td><td>&#x27;Nickel II&#x27; (kilogram, None, (&#x27;air&#x27;,))                                               </td></tr>\n",
       "<tr><td>biosphere   </td><td>Nitrogen oxides                                         </td><td>kilogram </td><td style=\"text-align: right;\"> 0.00103    </td><td>&#x27;Nitrogen oxides&#x27; (kilogram, None, (&#x27;air&#x27;,))                                         </td></tr>\n",
       "<tr><td>biosphere   </td><td>PAH, polycyclic aromatic hydrocarbons                   </td><td>kilogram </td><td style=\"text-align: right;\"> 7.85e-08   </td><td>&#x27;PAH, polycyclic aromatic hydrocarbons&#x27; (kilogram, None, (&#x27;air&#x27;,))                   </td></tr>\n",
       "<tr><td>biosphere   </td><td>Particulate Matter, &lt; 2.5 um                            </td><td>kilogram </td><td style=\"text-align: right;\"> 9.43e-05   </td><td>&#x27;Particulate Matter, &lt; 2.5 um&#x27; (kilogram, None, (&#x27;air&#x27;,))                            </td></tr>\n",
       "<tr><td>biosphere   </td><td>Particulate Matter, &gt; 10 um                             </td><td>kilogram </td><td style=\"text-align: right;\"> 6.28e-06   </td><td>&#x27;Particulate Matter, &gt; 10 um&#x27; (kilogram, None, (&#x27;air&#x27;,))                             </td></tr>\n",
       "<tr><td>biosphere   </td><td>Particulate Matter, &gt; 2.5 um and &lt; 10um                 </td><td>kilogram </td><td style=\"text-align: right;\"> 4.19e-06   </td><td>&#x27;Particulate Matter, &gt; 2.5 um and &lt; 10um&#x27; (kilogram, None, (&#x27;air&#x27;,))                 </td></tr>\n",
       "<tr><td>biosphere   </td><td>Selenium IV                                             </td><td>kilogram </td><td style=\"text-align: right;\"> 2.34e-10   </td><td>&#x27;Selenium IV&#x27; (kilogram, None, (&#x27;air&#x27;,))                                             </td></tr>\n",
       "<tr><td>biosphere   </td><td>Sulfur dioxide                                          </td><td>kilogram </td><td style=\"text-align: right;\"> 2.36e-05   </td><td>&#x27;Sulfur dioxide&#x27; (kilogram, None, (&#x27;air&#x27;,))                                          </td></tr>\n",
       "<tr><td>biosphere   </td><td>Zinc II                                                 </td><td>kilogram </td><td style=\"text-align: right;\"> 2.34e-08   </td><td>&#x27;Zinc II&#x27; (kilogram, None, (&#x27;air&#x27;,))                                                 </td></tr>\n",
       "</tbody>\n",
       "</table>"
      ],
      "text/plain": [
       "'<table>\\n<tbody>\\n<tr><td>production  </td><td>diesel, burned in building machine                      </td><td>megajoule</td><td style=\"text-align: right;\"> 1          </td><td>&#x27;A5, diesel, burned in building machine&#x27; (megajoule, GLO, None)                      </td></tr>\\n<tr><td>technosphere</td><td>building machine                                        </td><td>unit     </td><td style=\"text-align: right;\"> 1.34e-07   </td><td>&#x27;market for building machine&#x27; (unit, GLO, None)                                      </td></tr>\\n<tr><td>technosphere</td><td>diesel                                                  </td><td>kilogram </td><td style=\"text-align: right;\"> 0.0234     </td><td>&#x27;market group for diesel&#x27; (kilogram, GLO, None)                                      </td></tr>\\n<tr><td>technosphere</td><td>lubricating oil                                         </td><td>kilogram </td><td style=\"text-align: right;\"> 8.9436e-05 </td><td>&#x27;market for lubricating oil&#x27; (kilogram, RER, None)                                   </td></tr>\\n<tr><td>technosphere</td><td>lubricating oil                                         </td><td>kilogram </td><td style=\"text-align: right;\"> 0.000424564</td><td>&#x27;market for lubricating oil&#x27; (kilogram, RoW, None)                                   </td></tr>\\n<tr><td>technosphere</td><td>waste mineral oil                                       </td><td>kilogram </td><td style=\"text-align: right;\">-0.000369419</td><td>&#x27;market for waste mineral oil&#x27; (kilogram, RoW, None)                                 </td></tr>\\n<tr><td>technosphere</td><td>waste mineral oil                                       </td><td>kilogram </td><td style=\"text-align: right;\">-0.000141088</td><td>&#x27;market for waste mineral oil&#x27; (kilogram, Europe without Switzerland, None)          </td></tr>\\n<tr><td>technosphere</td><td>waste mineral oil                                       </td><td>kilogram </td><td style=\"text-align: right;\">-3.49279e-06</td><td>&#x27;market for waste mineral oil&#x27; (kilogram, CH, None)                                  </td></tr>\\n<tr><td>biosphere   </td><td>Ammonia                                                 </td><td>kilogram </td><td style=\"text-align: right;\"> 4.67e-07   </td><td>&#x27;Ammonia&#x27; (kilogram, None, (&#x27;air&#x27;,))                                                 </td></tr>\\n<tr><td>biosphere   </td><td>Benzo(a)pyrene                                          </td><td>kilogram </td><td style=\"text-align: right;\"> 7.01e-10   </td><td>&#x27;Benzo(a)pyrene&#x27; (kilogram, None, (&#x27;air&#x27;,))                                          </td></tr>\\n<tr><td>biosphere   </td><td>Cadmium II                                              </td><td>kilogram </td><td style=\"text-align: right;\"> 2.34e-10   </td><td>&#x27;Cadmium II&#x27; (kilogram, None, (&#x27;air&#x27;,))                                              </td></tr>\\n<tr><td>biosphere   </td><td>Carbon dioxide, fossil                                  </td><td>kilogram </td><td style=\"text-align: right;\"> 0.073      </td><td>&#x27;Carbon dioxide, fossil&#x27; (kilogram, None, (&#x27;air&#x27;,))                                  </td></tr>\\n<tr><td>biosphere   </td><td>Carbon monoxide, fossil                                 </td><td>kilogram </td><td style=\"text-align: right;\"> 0.000266   </td><td>&#x27;Carbon monoxide, fossil&#x27; (kilogram, None, (&#x27;air&#x27;,))                                 </td></tr>\\n<tr><td>biosphere   </td><td>Chromium III                                            </td><td>kilogram </td><td style=\"text-align: right;\"> 1.17e-09   </td><td>&#x27;Chromium III&#x27; (kilogram, None, (&#x27;air&#x27;,))                                            </td></tr>\\n<tr><td>biosphere   </td><td>Copper ion                                              </td><td>kilogram </td><td style=\"text-align: right;\"> 3.97e-08   </td><td>&#x27;Copper ion&#x27; (kilogram, None, (&#x27;air&#x27;,))                                              </td></tr>\\n<tr><td>biosphere   </td><td>Dinitrogen monoxide                                     </td><td>kilogram </td><td style=\"text-align: right;\"> 2.8e-06    </td><td>&#x27;Dinitrogen monoxide&#x27; (kilogram, None, (&#x27;air&#x27;,))                                     </td></tr>\\n<tr><td>biosphere   </td><td>Dioxins, measured as 2,3,7,8-tetrachlorodibenzo-p-dioxin</td><td>kilogram </td><td style=\"text-align: right;\"> 1.4e-15    </td><td>&#x27;Dioxins, measured as 2,3,7,8-tetrachlorodibenzo-p-dioxin&#x27; (kilogram, None, (&#x27;air&#x27;,))</td></tr>\\n<tr><td>biosphere   </td><td>Methane, fossil                                         </td><td>kilogram </td><td style=\"text-align: right;\"> 3.75e-06   </td><td>&#x27;Methane, fossil&#x27; (kilogram, None, (&#x27;air&#x27;,))                                         </td></tr>\\n<tr><td>biosphere   </td><td>NMVOC, non-methane volatile organic compounds           </td><td>kilogram </td><td style=\"text-align: right;\"> 0.000121   </td><td>&#x27;NMVOC, non-methane volatile organic compounds&#x27; (kilogram, None, (&#x27;air&#x27;,))           </td></tr>\\n<tr><td>biosphere   </td><td>Nickel II                                               </td><td>kilogram </td><td style=\"text-align: right;\"> 1.64e-09   </td><td>&#x27;Nickel II&#x27; (kilogram, None, (&#x27;air&#x27;,))                                               </td></tr>\\n<tr><td>biosphere   </td><td>Nitrogen oxides                                         </td><td>kilogram </td><td style=\"text-align: right;\"> 0.00103    </td><td>&#x27;Nitrogen oxides&#x27; (kilogram, None, (&#x27;air&#x27;,))                                         </td></tr>\\n<tr><td>biosphere   </td><td>PAH, polycyclic aromatic hydrocarbons                   </td><td>kilogram </td><td style=\"text-align: right;\"> 7.85e-08   </td><td>&#x27;PAH, polycyclic aromatic hydrocarbons&#x27; (kilogram, None, (&#x27;air&#x27;,))                   </td></tr>\\n<tr><td>biosphere   </td><td>Particulate Matter, &lt; 2.5 um                            </td><td>kilogram </td><td style=\"text-align: right;\"> 9.43e-05   </td><td>&#x27;Particulate Matter, &lt; 2.5 um&#x27; (kilogram, None, (&#x27;air&#x27;,))                            </td></tr>\\n<tr><td>biosphere   </td><td>Particulate Matter, &gt; 10 um                             </td><td>kilogram </td><td style=\"text-align: right;\"> 6.28e-06   </td><td>&#x27;Particulate Matter, &gt; 10 um&#x27; (kilogram, None, (&#x27;air&#x27;,))                             </td></tr>\\n<tr><td>biosphere   </td><td>Particulate Matter, &gt; 2.5 um and &lt; 10um                 </td><td>kilogram </td><td style=\"text-align: right;\"> 4.19e-06   </td><td>&#x27;Particulate Matter, &gt; 2.5 um and &lt; 10um&#x27; (kilogram, None, (&#x27;air&#x27;,))                 </td></tr>\\n<tr><td>biosphere   </td><td>Selenium IV                                             </td><td>kilogram </td><td style=\"text-align: right;\"> 2.34e-10   </td><td>&#x27;Selenium IV&#x27; (kilogram, None, (&#x27;air&#x27;,))                                             </td></tr>\\n<tr><td>biosphere   </td><td>Sulfur dioxide                                          </td><td>kilogram </td><td style=\"text-align: right;\"> 2.36e-05   </td><td>&#x27;Sulfur dioxide&#x27; (kilogram, None, (&#x27;air&#x27;,))                                          </td></tr>\\n<tr><td>biosphere   </td><td>Zinc II                                                 </td><td>kilogram </td><td style=\"text-align: right;\"> 2.34e-08   </td><td>&#x27;Zinc II&#x27; (kilogram, None, (&#x27;air&#x27;,))                                                 </td></tr>\\n</tbody>\\n</table>'"
      ]
     },
     "execution_count": 12,
     "metadata": {},
     "output_type": "execute_result"
    }
   ],
   "source": [
    "# Look at exhanges characterizing activity\n",
    "rows = []\n",
    "for exc in diesel_A5.exchanges():\n",
    "    exc_row = {\n",
    "        field: value\n",
    "        for field, value in exc.as_dict().items()\n",
    "        if field in [\"amount\", \"unit\", \"name\", \"type\"]\n",
    "    }\n",
    "    exchange_activity = bd.get_activity(exc[\"input\"])\n",
    "    exc_row[\"activity\"] = str(exchange_activity)\n",
    "    rows.append(exc_row)\n",
    "tabulate(rows, tablefmt=\"html\")"
   ]
  },
  {
   "cell_type": "code",
   "execution_count": 13,
   "id": "837fa627-2b75-4f75-82c3-9ae5b75f869b",
   "metadata": {
    "scrolled": true
   },
   "outputs": [
    {
     "data": {
      "text/plain": [
       "{'flow': '87883a4e-1e3e-4c9d-90c0-f1bea36f8014',\n",
       " 'type': 'biosphere',\n",
       " 'name': 'Ammonia',\n",
       " 'classifications': {'CPC': []},\n",
       " 'production volume': 0.0,\n",
       " 'properties': {'carbon allocation': {'amount': 0.0, 'unit': 'kg'},\n",
       "  'carbon content': {'amount': 0.0, 'unit': 'dimensionless'},\n",
       "  'carbon content, fossil': {'amount': 0.0, 'unit': 'dimensionless'},\n",
       "  'carbon content, non-fossil': {'amount': 0.0, 'unit': 'dimensionless'},\n",
       "  'dry mass': {'amount': 1.0, 'unit': 'kg'},\n",
       "  'water content': {'amount': 0.0,\n",
       "   'comment': 'water mass/dry mass',\n",
       "   'unit': 'dimensionless'},\n",
       "  'water in wet mass': {'amount': 0.0, 'unit': 'kg'},\n",
       "  'wet mass': {'amount': 1.0, 'unit': 'kg'}},\n",
       " 'unit': 'kilogram',\n",
       " 'amount': 4.67e-07,\n",
       " 'pedigree': {'reliability': 1,\n",
       "  'completeness': 5,\n",
       "  'temporal correlation': 5,\n",
       "  'geographical correlation': 3,\n",
       "  'further technological correlation': 1},\n",
       " 'uncertainty type': 2,\n",
       " 'loc': -14.576936579277515,\n",
       " 'scale': 0.3132091952673165,\n",
       " 'scale without pedigree': 0.22360679774997896,\n",
       " 'input': ('biosphere3', '87883a4e-1e3e-4c9d-90c0-f1bea36f8014'),\n",
       " 'output': ('ecoinvent-3.9.1-cutoff', 'c5a0e650d7b546b2acd49b894e71066d')}"
      ]
     },
     "execution_count": 13,
     "metadata": {},
     "output_type": "execute_result"
    }
   ],
   "source": [
    "# detail look to exchanges of interest\n",
    "[\n",
    "    exc for exc in diesel_A5.exchanges() if exc.get(\"name\", \"\") == \"Ammonia\"\n",
    "].pop().as_dict()  # Ammonia"
   ]
  },
  {
   "cell_type": "markdown",
   "id": "02aa61c3-5a10-4394-921e-2852c30e8b1a",
   "metadata": {},
   "source": [
    "### define new values for the exchanges of the new activities"
   ]
  },
  {
   "cell_type": "code",
   "execution_count": 14,
   "id": "6da97f56-c797-42c3-bc16-6f495d6651b0",
   "metadata": {},
   "outputs": [],
   "source": [
    "# Create dictionaries with new emissions for each activity\n",
    "A5_emissions = [\n",
    "    {\"name\": \"Ammonia\", \"amount\": 2.33222e-07},\n",
    "    {\"name\": \"Carbon dioxide, fossil\", \"amount\": 7.44086e-05},\n",
    "    {\"name\": \"Carbon monoxide, fossil\", \"amount\": 3.19444e-08},\n",
    "    {\"name\": \"Dinitrogen monoxide\", \"amount\": 4.99833e-10},\n",
    "    {\"name\": \"Nitrogen oxides\", \"amount\": 7.67056e-08},\n",
    "    {\"name\": \"NMVOC, non-methane volatile organic compounds\", \"amount\": 8.91294e-10},\n",
    "    {\"name\": \"Particulate Matter, < 2.5 um\", \"amount\": 1.29832e-09},\n",
    "    {\"name\": \"Particulate Matter, > 10 um\", \"amount\": 6.83056e-11},\n",
    "    {\"name\": \"Particulate Matter, > 2.5 um and < 10um\", \"amount\": 1.23587e-09},\n",
    "    {\"name\": \"Sulfur dioxide\", \"amount\": 4.66667e-10},\n",
    "]\n",
    "\n",
    "C1_emissions = [\n",
    "    {\"name\": \"Ammonia\", \"amount\": 2.33222e-07},\n",
    "    {\"name\": \"Carbon dioxide, fossil\", \"amount\": 7.44086e-05},\n",
    "    {\"name\": \"Carbon monoxide, fossil\", \"amount\": 1.00901e-08},\n",
    "    {\"name\": \"Dinitrogen monoxide\", \"amount\": 4.99833e-10},\n",
    "    {\"name\": \"Nitrogen oxides\", \"amount\": 3.83334e-08},\n",
    "    {\"name\": \"NMVOC, non-methane volatile organic compounds\", \"amount\": 4.08334e-10},\n",
    "    {\"name\": \"Particulates, <2.5 µm\", \"amount\": 1.63390e-09},\n",
    "    {\"name\": \"Particulates, >2.5 µm and <10 µm\", \"amount\": 3.22335e-09},\n",
    "    {\"name\": \"Particulates, >10 µm\", \"amount\": 1.89703e-09},\n",
    "    {\"name\": \"Sulphur dioxide\", \"amount\": 4.66667e-10},\n",
    "]"
   ]
  },
  {
   "cell_type": "markdown",
   "id": "c6c6109f-8194-4558-a595-055172fafa18",
   "metadata": {},
   "source": [
    "### modify the emissions of the new activities"
   ]
  },
  {
   "cell_type": "code",
   "execution_count": 15,
   "id": "47e70133-0c13-42a4-9ccc-5babf53cab06",
   "metadata": {},
   "outputs": [],
   "source": [
    "def modify_emission(exc, new_emissions):\n",
    "    \"\"\"\n",
    "    Modify the amount of the exchange, based on the new_emissions list.\n",
    "\n",
    "    the new emissions list contains dictionaries.\n",
    "    Each dictionnary specifies an emission name and the amount to use.\n",
    "    \"\"\"\n",
    "    new_emission_names = [emission[\"name\"] for emission in new_emissions]\n",
    "    # only apply a change if the exchange name is in the new_emissions name\n",
    "    if exc.get(\"name\", \"\") in new_emission_names:\n",
    "        new_emission = [\n",
    "            emission for emission in new_emissions if emission[\"name\"] == exc[\"name\"]\n",
    "        ][0]\n",
    "        # print(f\"Modifying {exc['name']} with {new_emission}\")\n",
    "        exc[\"amount\"] = new_emission[\"amount\"]\n",
    "        exc.save()"
   ]
  },
  {
   "cell_type": "code",
   "execution_count": 16,
   "id": "32ee9e31-893f-4945-bf68-c0780d75814a",
   "metadata": {},
   "outputs": [],
   "source": [
    "# Modify exchanges in diesel_A5\n",
    "for exc in diesel_A5.exchanges():\n",
    "    modify_emission(exc, A5_emissions)"
   ]
  },
  {
   "cell_type": "code",
   "execution_count": 17,
   "id": "c19158a5-3421-45d5-bc20-beb948e0ed6e",
   "metadata": {},
   "outputs": [],
   "source": [
    "# Modify exchanges in diesel_C1\n",
    "for exc in diesel_C1.exchanges():\n",
    "    modify_emission(exc, C1_emissions)"
   ]
  },
  {
   "cell_type": "markdown",
   "id": "b9f03379-2291-4f33-a028-c6b5e282bfa6",
   "metadata": {},
   "source": [
    "Verification: were the exchange amounts indeed updated?"
   ]
  },
  {
   "cell_type": "code",
   "execution_count": 18,
   "id": "1e9e3ec7-2833-486d-a0ca-de563f3f0244",
   "metadata": {
    "scrolled": true
   },
   "outputs": [
    {
     "data": {
      "text/html": [
       "<table>\n",
       "<tbody>\n",
       "<tr><td>production  </td><td>diesel, burned in building machine                      </td><td>megajoule</td><td style=\"text-align: right;\"> 1          </td><td>&#x27;A5, diesel, burned in building machine&#x27; (megajoule, GLO, None)                      </td></tr>\n",
       "<tr><td>technosphere</td><td>building machine                                        </td><td>unit     </td><td style=\"text-align: right;\"> 1.34e-07   </td><td>&#x27;market for building machine&#x27; (unit, GLO, None)                                      </td></tr>\n",
       "<tr><td>technosphere</td><td>diesel                                                  </td><td>kilogram </td><td style=\"text-align: right;\"> 0.0234     </td><td>&#x27;market group for diesel&#x27; (kilogram, GLO, None)                                      </td></tr>\n",
       "<tr><td>technosphere</td><td>lubricating oil                                         </td><td>kilogram </td><td style=\"text-align: right;\"> 8.9436e-05 </td><td>&#x27;market for lubricating oil&#x27; (kilogram, RER, None)                                   </td></tr>\n",
       "<tr><td>technosphere</td><td>lubricating oil                                         </td><td>kilogram </td><td style=\"text-align: right;\"> 0.000424564</td><td>&#x27;market for lubricating oil&#x27; (kilogram, RoW, None)                                   </td></tr>\n",
       "<tr><td>technosphere</td><td>waste mineral oil                                       </td><td>kilogram </td><td style=\"text-align: right;\">-0.000369419</td><td>&#x27;market for waste mineral oil&#x27; (kilogram, RoW, None)                                 </td></tr>\n",
       "<tr><td>technosphere</td><td>waste mineral oil                                       </td><td>kilogram </td><td style=\"text-align: right;\">-0.000141088</td><td>&#x27;market for waste mineral oil&#x27; (kilogram, Europe without Switzerland, None)          </td></tr>\n",
       "<tr><td>technosphere</td><td>waste mineral oil                                       </td><td>kilogram </td><td style=\"text-align: right;\">-3.49279e-06</td><td>&#x27;market for waste mineral oil&#x27; (kilogram, CH, None)                                  </td></tr>\n",
       "<tr><td>biosphere   </td><td>Ammonia                                                 </td><td>kilogram </td><td style=\"text-align: right;\"> 2.33222e-07</td><td>&#x27;Ammonia&#x27; (kilogram, None, (&#x27;air&#x27;,))                                                 </td></tr>\n",
       "<tr><td>biosphere   </td><td>Benzo(a)pyrene                                          </td><td>kilogram </td><td style=\"text-align: right;\"> 7.01e-10   </td><td>&#x27;Benzo(a)pyrene&#x27; (kilogram, None, (&#x27;air&#x27;,))                                          </td></tr>\n",
       "<tr><td>biosphere   </td><td>Cadmium II                                              </td><td>kilogram </td><td style=\"text-align: right;\"> 2.34e-10   </td><td>&#x27;Cadmium II&#x27; (kilogram, None, (&#x27;air&#x27;,))                                              </td></tr>\n",
       "<tr><td>biosphere   </td><td>Carbon dioxide, fossil                                  </td><td>kilogram </td><td style=\"text-align: right;\"> 7.44086e-05</td><td>&#x27;Carbon dioxide, fossil&#x27; (kilogram, None, (&#x27;air&#x27;,))                                  </td></tr>\n",
       "<tr><td>biosphere   </td><td>Carbon monoxide, fossil                                 </td><td>kilogram </td><td style=\"text-align: right;\"> 3.19444e-08</td><td>&#x27;Carbon monoxide, fossil&#x27; (kilogram, None, (&#x27;air&#x27;,))                                 </td></tr>\n",
       "<tr><td>biosphere   </td><td>Chromium III                                            </td><td>kilogram </td><td style=\"text-align: right;\"> 1.17e-09   </td><td>&#x27;Chromium III&#x27; (kilogram, None, (&#x27;air&#x27;,))                                            </td></tr>\n",
       "<tr><td>biosphere   </td><td>Copper ion                                              </td><td>kilogram </td><td style=\"text-align: right;\"> 3.97e-08   </td><td>&#x27;Copper ion&#x27; (kilogram, None, (&#x27;air&#x27;,))                                              </td></tr>\n",
       "<tr><td>biosphere   </td><td>Dinitrogen monoxide                                     </td><td>kilogram </td><td style=\"text-align: right;\"> 4.99833e-10</td><td>&#x27;Dinitrogen monoxide&#x27; (kilogram, None, (&#x27;air&#x27;,))                                     </td></tr>\n",
       "<tr><td>biosphere   </td><td>Dioxins, measured as 2,3,7,8-tetrachlorodibenzo-p-dioxin</td><td>kilogram </td><td style=\"text-align: right;\"> 1.4e-15    </td><td>&#x27;Dioxins, measured as 2,3,7,8-tetrachlorodibenzo-p-dioxin&#x27; (kilogram, None, (&#x27;air&#x27;,))</td></tr>\n",
       "<tr><td>biosphere   </td><td>Methane, fossil                                         </td><td>kilogram </td><td style=\"text-align: right;\"> 3.75e-06   </td><td>&#x27;Methane, fossil&#x27; (kilogram, None, (&#x27;air&#x27;,))                                         </td></tr>\n",
       "<tr><td>biosphere   </td><td>NMVOC, non-methane volatile organic compounds           </td><td>kilogram </td><td style=\"text-align: right;\"> 8.91294e-10</td><td>&#x27;NMVOC, non-methane volatile organic compounds&#x27; (kilogram, None, (&#x27;air&#x27;,))           </td></tr>\n",
       "<tr><td>biosphere   </td><td>Nickel II                                               </td><td>kilogram </td><td style=\"text-align: right;\"> 1.64e-09   </td><td>&#x27;Nickel II&#x27; (kilogram, None, (&#x27;air&#x27;,))                                               </td></tr>\n",
       "<tr><td>biosphere   </td><td>Nitrogen oxides                                         </td><td>kilogram </td><td style=\"text-align: right;\"> 7.67056e-08</td><td>&#x27;Nitrogen oxides&#x27; (kilogram, None, (&#x27;air&#x27;,))                                         </td></tr>\n",
       "<tr><td>biosphere   </td><td>PAH, polycyclic aromatic hydrocarbons                   </td><td>kilogram </td><td style=\"text-align: right;\"> 7.85e-08   </td><td>&#x27;PAH, polycyclic aromatic hydrocarbons&#x27; (kilogram, None, (&#x27;air&#x27;,))                   </td></tr>\n",
       "<tr><td>biosphere   </td><td>Particulate Matter, &lt; 2.5 um                            </td><td>kilogram </td><td style=\"text-align: right;\"> 1.29832e-09</td><td>&#x27;Particulate Matter, &lt; 2.5 um&#x27; (kilogram, None, (&#x27;air&#x27;,))                            </td></tr>\n",
       "<tr><td>biosphere   </td><td>Particulate Matter, &gt; 10 um                             </td><td>kilogram </td><td style=\"text-align: right;\"> 6.83056e-11</td><td>&#x27;Particulate Matter, &gt; 10 um&#x27; (kilogram, None, (&#x27;air&#x27;,))                             </td></tr>\n",
       "<tr><td>biosphere   </td><td>Particulate Matter, &gt; 2.5 um and &lt; 10um                 </td><td>kilogram </td><td style=\"text-align: right;\"> 1.23587e-09</td><td>&#x27;Particulate Matter, &gt; 2.5 um and &lt; 10um&#x27; (kilogram, None, (&#x27;air&#x27;,))                 </td></tr>\n",
       "<tr><td>biosphere   </td><td>Selenium IV                                             </td><td>kilogram </td><td style=\"text-align: right;\"> 2.34e-10   </td><td>&#x27;Selenium IV&#x27; (kilogram, None, (&#x27;air&#x27;,))                                             </td></tr>\n",
       "<tr><td>biosphere   </td><td>Sulfur dioxide                                          </td><td>kilogram </td><td style=\"text-align: right;\"> 4.66667e-10</td><td>&#x27;Sulfur dioxide&#x27; (kilogram, None, (&#x27;air&#x27;,))                                          </td></tr>\n",
       "<tr><td>biosphere   </td><td>Zinc II                                                 </td><td>kilogram </td><td style=\"text-align: right;\"> 2.34e-08   </td><td>&#x27;Zinc II&#x27; (kilogram, None, (&#x27;air&#x27;,))                                                 </td></tr>\n",
       "</tbody>\n",
       "</table>"
      ],
      "text/plain": [
       "'<table>\\n<tbody>\\n<tr><td>production  </td><td>diesel, burned in building machine                      </td><td>megajoule</td><td style=\"text-align: right;\"> 1          </td><td>&#x27;A5, diesel, burned in building machine&#x27; (megajoule, GLO, None)                      </td></tr>\\n<tr><td>technosphere</td><td>building machine                                        </td><td>unit     </td><td style=\"text-align: right;\"> 1.34e-07   </td><td>&#x27;market for building machine&#x27; (unit, GLO, None)                                      </td></tr>\\n<tr><td>technosphere</td><td>diesel                                                  </td><td>kilogram </td><td style=\"text-align: right;\"> 0.0234     </td><td>&#x27;market group for diesel&#x27; (kilogram, GLO, None)                                      </td></tr>\\n<tr><td>technosphere</td><td>lubricating oil                                         </td><td>kilogram </td><td style=\"text-align: right;\"> 8.9436e-05 </td><td>&#x27;market for lubricating oil&#x27; (kilogram, RER, None)                                   </td></tr>\\n<tr><td>technosphere</td><td>lubricating oil                                         </td><td>kilogram </td><td style=\"text-align: right;\"> 0.000424564</td><td>&#x27;market for lubricating oil&#x27; (kilogram, RoW, None)                                   </td></tr>\\n<tr><td>technosphere</td><td>waste mineral oil                                       </td><td>kilogram </td><td style=\"text-align: right;\">-0.000369419</td><td>&#x27;market for waste mineral oil&#x27; (kilogram, RoW, None)                                 </td></tr>\\n<tr><td>technosphere</td><td>waste mineral oil                                       </td><td>kilogram </td><td style=\"text-align: right;\">-0.000141088</td><td>&#x27;market for waste mineral oil&#x27; (kilogram, Europe without Switzerland, None)          </td></tr>\\n<tr><td>technosphere</td><td>waste mineral oil                                       </td><td>kilogram </td><td style=\"text-align: right;\">-3.49279e-06</td><td>&#x27;market for waste mineral oil&#x27; (kilogram, CH, None)                                  </td></tr>\\n<tr><td>biosphere   </td><td>Ammonia                                                 </td><td>kilogram </td><td style=\"text-align: right;\"> 2.33222e-07</td><td>&#x27;Ammonia&#x27; (kilogram, None, (&#x27;air&#x27;,))                                                 </td></tr>\\n<tr><td>biosphere   </td><td>Benzo(a)pyrene                                          </td><td>kilogram </td><td style=\"text-align: right;\"> 7.01e-10   </td><td>&#x27;Benzo(a)pyrene&#x27; (kilogram, None, (&#x27;air&#x27;,))                                          </td></tr>\\n<tr><td>biosphere   </td><td>Cadmium II                                              </td><td>kilogram </td><td style=\"text-align: right;\"> 2.34e-10   </td><td>&#x27;Cadmium II&#x27; (kilogram, None, (&#x27;air&#x27;,))                                              </td></tr>\\n<tr><td>biosphere   </td><td>Carbon dioxide, fossil                                  </td><td>kilogram </td><td style=\"text-align: right;\"> 7.44086e-05</td><td>&#x27;Carbon dioxide, fossil&#x27; (kilogram, None, (&#x27;air&#x27;,))                                  </td></tr>\\n<tr><td>biosphere   </td><td>Carbon monoxide, fossil                                 </td><td>kilogram </td><td style=\"text-align: right;\"> 3.19444e-08</td><td>&#x27;Carbon monoxide, fossil&#x27; (kilogram, None, (&#x27;air&#x27;,))                                 </td></tr>\\n<tr><td>biosphere   </td><td>Chromium III                                            </td><td>kilogram </td><td style=\"text-align: right;\"> 1.17e-09   </td><td>&#x27;Chromium III&#x27; (kilogram, None, (&#x27;air&#x27;,))                                            </td></tr>\\n<tr><td>biosphere   </td><td>Copper ion                                              </td><td>kilogram </td><td style=\"text-align: right;\"> 3.97e-08   </td><td>&#x27;Copper ion&#x27; (kilogram, None, (&#x27;air&#x27;,))                                              </td></tr>\\n<tr><td>biosphere   </td><td>Dinitrogen monoxide                                     </td><td>kilogram </td><td style=\"text-align: right;\"> 4.99833e-10</td><td>&#x27;Dinitrogen monoxide&#x27; (kilogram, None, (&#x27;air&#x27;,))                                     </td></tr>\\n<tr><td>biosphere   </td><td>Dioxins, measured as 2,3,7,8-tetrachlorodibenzo-p-dioxin</td><td>kilogram </td><td style=\"text-align: right;\"> 1.4e-15    </td><td>&#x27;Dioxins, measured as 2,3,7,8-tetrachlorodibenzo-p-dioxin&#x27; (kilogram, None, (&#x27;air&#x27;,))</td></tr>\\n<tr><td>biosphere   </td><td>Methane, fossil                                         </td><td>kilogram </td><td style=\"text-align: right;\"> 3.75e-06   </td><td>&#x27;Methane, fossil&#x27; (kilogram, None, (&#x27;air&#x27;,))                                         </td></tr>\\n<tr><td>biosphere   </td><td>NMVOC, non-methane volatile organic compounds           </td><td>kilogram </td><td style=\"text-align: right;\"> 8.91294e-10</td><td>&#x27;NMVOC, non-methane volatile organic compounds&#x27; (kilogram, None, (&#x27;air&#x27;,))           </td></tr>\\n<tr><td>biosphere   </td><td>Nickel II                                               </td><td>kilogram </td><td style=\"text-align: right;\"> 1.64e-09   </td><td>&#x27;Nickel II&#x27; (kilogram, None, (&#x27;air&#x27;,))                                               </td></tr>\\n<tr><td>biosphere   </td><td>Nitrogen oxides                                         </td><td>kilogram </td><td style=\"text-align: right;\"> 7.67056e-08</td><td>&#x27;Nitrogen oxides&#x27; (kilogram, None, (&#x27;air&#x27;,))                                         </td></tr>\\n<tr><td>biosphere   </td><td>PAH, polycyclic aromatic hydrocarbons                   </td><td>kilogram </td><td style=\"text-align: right;\"> 7.85e-08   </td><td>&#x27;PAH, polycyclic aromatic hydrocarbons&#x27; (kilogram, None, (&#x27;air&#x27;,))                   </td></tr>\\n<tr><td>biosphere   </td><td>Particulate Matter, &lt; 2.5 um                            </td><td>kilogram </td><td style=\"text-align: right;\"> 1.29832e-09</td><td>&#x27;Particulate Matter, &lt; 2.5 um&#x27; (kilogram, None, (&#x27;air&#x27;,))                            </td></tr>\\n<tr><td>biosphere   </td><td>Particulate Matter, &gt; 10 um                             </td><td>kilogram </td><td style=\"text-align: right;\"> 6.83056e-11</td><td>&#x27;Particulate Matter, &gt; 10 um&#x27; (kilogram, None, (&#x27;air&#x27;,))                             </td></tr>\\n<tr><td>biosphere   </td><td>Particulate Matter, &gt; 2.5 um and &lt; 10um                 </td><td>kilogram </td><td style=\"text-align: right;\"> 1.23587e-09</td><td>&#x27;Particulate Matter, &gt; 2.5 um and &lt; 10um&#x27; (kilogram, None, (&#x27;air&#x27;,))                 </td></tr>\\n<tr><td>biosphere   </td><td>Selenium IV                                             </td><td>kilogram </td><td style=\"text-align: right;\"> 2.34e-10   </td><td>&#x27;Selenium IV&#x27; (kilogram, None, (&#x27;air&#x27;,))                                             </td></tr>\\n<tr><td>biosphere   </td><td>Sulfur dioxide                                          </td><td>kilogram </td><td style=\"text-align: right;\"> 4.66667e-10</td><td>&#x27;Sulfur dioxide&#x27; (kilogram, None, (&#x27;air&#x27;,))                                          </td></tr>\\n<tr><td>biosphere   </td><td>Zinc II                                                 </td><td>kilogram </td><td style=\"text-align: right;\"> 2.34e-08   </td><td>&#x27;Zinc II&#x27; (kilogram, None, (&#x27;air&#x27;,))                                                 </td></tr>\\n</tbody>\\n</table>'"
      ]
     },
     "execution_count": 18,
     "metadata": {},
     "output_type": "execute_result"
    }
   ],
   "source": [
    "# Look at exhanges characterizing activity diesel_A5\n",
    "rows = []\n",
    "for exc in diesel_A5.exchanges():\n",
    "    exc_row = {\n",
    "        field: value\n",
    "        for field, value in exc.as_dict().items()\n",
    "        if field in [\"amount\", \"unit\", \"name\", \"type\"]\n",
    "    }\n",
    "    exchange_activity = bd.get_activity(exc[\"input\"])\n",
    "    exc_row[\"activity\"] = str(exchange_activity)\n",
    "    rows.append(exc_row)\n",
    "tabulate(rows, tablefmt=\"html\")"
   ]
  },
  {
   "cell_type": "markdown",
   "id": "5d333bec-864e-4e9e-bc51-46eee24956b3",
   "metadata": {},
   "source": [
    "### Modify the source of the makert group for diesel\n",
    "Now we change the diesel exchange from *market group for diesel - GLO* to *market for diesel, low-sulfur - Europe without Switzerland* in the new activities."
   ]
  },
  {
   "cell_type": "code",
   "execution_count": 19,
   "id": "69a69da0-4689-4693-952a-002a41c66c82",
   "metadata": {},
   "outputs": [
    {
     "data": {
      "text/plain": [
       "Exchange: 0.0234 kilogram 'market group for diesel' (kilogram, GLO, None) to 'A5, diesel, burned in building machine' (megajoule, GLO, None)>"
      ]
     },
     "execution_count": 19,
     "metadata": {},
     "output_type": "execute_result"
    }
   ],
   "source": [
    "# Store original diesel exchange as a variable\n",
    "diesel_og = [\n",
    "    exc for exc in diesel_A5.exchanges() if \"diesel\" in exc.get(\"name\", \"\")\n",
    "].pop()  # Market group for diesel\n",
    "diesel_og"
   ]
  },
  {
   "cell_type": "code",
   "execution_count": 20,
   "id": "89ecb6ec-a5b3-40a8-be20-89f78c92527c",
   "metadata": {},
   "outputs": [
    {
     "data": {
      "text/plain": [
       "{'flow': '291fc06d-1b3e-4077-aabb-346b588ed24b',\n",
       " 'type': 'technosphere',\n",
       " 'name': 'diesel',\n",
       " 'classifications': {'CPC': ['33360: Gas oil']},\n",
       " 'production volume': 0.0,\n",
       " 'properties': {'carbon allocation': {'amount': 0.865, 'unit': 'kg'},\n",
       "  'carbon content': {'amount': 0.865, 'unit': 'dimensionless'},\n",
       "  'carbon content, fossil': {'amount': 0.865,\n",
       "   'comment': 'C-content of diesel is 86.5% (ecoinvent v2.2 report 6_IV, Tab 3.14)',\n",
       "   'unit': 'dimensionless'},\n",
       "  'carbon content, non-fossil': {'amount': 0.0, 'unit': 'dimensionless'},\n",
       "  'dry mass': {'amount': 1.0, 'unit': 'kg'},\n",
       "  'heating value, net': {'amount': 42.8,\n",
       "   'comment': 'Based on literature, page 16, Report6, part 4',\n",
       "   'unit': 'MJ'},\n",
       "  'water content': {'amount': 0.0,\n",
       "   'comment': 'water mass/dry mass',\n",
       "   'unit': 'dimensionless'},\n",
       "  'water in wet mass': {'amount': 0.0, 'unit': 'kg'},\n",
       "  'wet mass': {'amount': 1.0, 'unit': 'kg'}},\n",
       " 'activity': '4df5d193-687d-534a-b8e5-9f80e6a93b2d',\n",
       " 'unit': 'kilogram',\n",
       " 'comment': 'EcoSpold01Location=RER',\n",
       " 'amount': 0.0234,\n",
       " 'pedigree': {'reliability': 1,\n",
       "  'completeness': 5,\n",
       "  'temporal correlation': 5,\n",
       "  'geographical correlation': 3,\n",
       "  'further technological correlation': 1},\n",
       " 'uncertainty type': 2,\n",
       " 'loc': -3.7550192566184815,\n",
       " 'scale': 0.241039415863879,\n",
       " 'scale without pedigree': 0.1,\n",
       " 'input': ('ecoinvent-3.9.1-cutoff', '59e551f337bff8f8d7578bcd0c48472e'),\n",
       " 'output': ('ecoinvent-3.9.1-cutoff', 'c5a0e650d7b546b2acd49b894e71066d')}"
      ]
     },
     "execution_count": 20,
     "metadata": {},
     "output_type": "execute_result"
    }
   ],
   "source": [
    "# Take a closer look to diesel_og\n",
    "diesel_og.as_dict()"
   ]
  },
  {
   "cell_type": "code",
   "execution_count": 21,
   "id": "a3e0c169-5275-4de8-8990-065187aff31c",
   "metadata": {},
   "outputs": [
    {
     "data": {
      "text/plain": [
       "'market for diesel, low-sulfur' (kilogram, Europe without Switzerland, None)"
      ]
     },
     "execution_count": 21,
     "metadata": {},
     "output_type": "execute_result"
    }
   ],
   "source": [
    "# find replacement exchange for diesel_og: market for diesel, low-sulfur - Europe without Switzerland\n",
    "q = Query()\n",
    "filter_name = Filter(\"name\", \"is\", \"market for diesel, low-sulfur\")\n",
    "filter_location = Filter(\"location\", \"is\", \"Europe without Switzerland\")\n",
    "q.add(filter_name)\n",
    "q.add(filter_location)\n",
    "res = q(eidb_data)\n",
    "if len(res) == 1:\n",
    "    diesel_ls = bd.get_activity(list(res).pop())\n",
    "# store replacement activity as variable\n",
    "diesel_ls"
   ]
  },
  {
   "cell_type": "code",
   "execution_count": 22,
   "id": "c15181d1-2e1f-4371-910f-18f333bd0765",
   "metadata": {},
   "outputs": [
    {
     "data": {
      "text/plain": [
       "{'comment': \"This is a market activity. Each market represents the consumption mix of a product in a given geography, connecting suppliers with consumers of the same product in the same geographical area. Markets group the producers and also the imports of the product (if relevant) within the same geographical area. They also account for transport to the consumer and for the losses during that process, when relevant.\\nThis is the market for  'diesel, low-sulfur', in the geography of Europe without Switzerland.\\nInventory for the distribution of petroleum product to the final consumer (household, car, power plant, etc.) including all necessary transports.\\n[This dataset was already contained in the ecoinvent database version 2. It was not individually updated during the transfer to ecoinvent version 3. Life Cycle Impact Assessment results may still have changed, as they are affected by changes in the supply chain, i.e. in other datasets. This dataset was generated following the ecoinvent quality guidelines for version 2. It may have been subject to central changes described in the ecoinvent version 3 change report (http://www.ecoinvent.org/database/ecoinvent-version-3/reports-of-changes/), and the results of the central updates were reviewed extensively. The changes added e.g. consistent water flows and other information throughout the database. The documentation of this dataset can be found in the ecoinvent reports of version 2, which are still available via the ecoinvent website. The change report linked above covers all central changes that were made during the conversion process.]\\ndiesel, low-sulfur' is a fossil fuel with a calorific value of 42.8 MJ/kg. It is used as a liquid fuel and is sourced from fractional distillation of crude oil. Its main applications are in the following sectors: automotive, railroad, aviation, agricultural and military vehicle fuel.\\nGeography:  Surveys mainly for DE and CH.\\nTechnology:  Distribution of petroleum products.\\nTime period:  Most information for the year 2000. Split up of NMVOC emissions published 1989.\",\n",
       " 'classifications': [('EcoSpold01Categories', 'oil/fuels'),\n",
       "  ('ISIC rev.4 ecoinvent', '1920:Manufacture of refined petroleum products'),\n",
       "  ('CPC', '33360: Gas oil')],\n",
       " 'activity type': 'market activity',\n",
       " 'activity': '4be0eb22-306e-5693-80e0-7e625cb639d7',\n",
       " 'database': 'ecoinvent-3.9.1-cutoff',\n",
       " 'filename': '4be0eb22-306e-5693-80e0-7e625cb639d7_b80eb2d5-1256-41bb-a61d-83252d0dfd4d.spold',\n",
       " 'location': 'Europe without Switzerland',\n",
       " 'name': 'market for diesel, low-sulfur',\n",
       " 'synonyms': ['green diesel'],\n",
       " 'parameters': [{'description': 'fraction, process water, to air',\n",
       "   'id': 'daadf2d4-7bbb-4f69-8ab5-58df4c1685eb',\n",
       "   'unit': 'dimensionless',\n",
       "   'comment': 'Literature value. In case when no industry/process specific data are available, default evaporation fraction value is used. This value is 15% and is based on literature (Statistics Canada, 2007 & Shaffer, K.H., 2008, Consumptive water use in the Great Lakes Basin, USGS & Shiklomanov, 2003, World Water Resources at the Beginning of the 21st Century) and has been approved by an expert.',\n",
       "   'amount': 0.15,\n",
       "   'pedigree': {'reliability': 4,\n",
       "    'completeness': 4,\n",
       "    'temporal correlation': 3,\n",
       "    'geographical correlation': 2,\n",
       "    'further technological correlation': 4},\n",
       "   'uncertainty type': 2,\n",
       "   'loc': -1.9,\n",
       "   'scale': 0.30335622624235026,\n",
       "   'scale without pedigree': 0.2,\n",
       "   'name': 'fraction_PW_to_air'},\n",
       "  {'description': 'fraction, tap water, to air',\n",
       "   'id': '148c8010-cc60-48cd-9b40-fc7278e377f7',\n",
       "   'unit': 'dimensionless',\n",
       "   'comment': 'Calculated value. See comment in the other parametres present in this dataset. Tap water is considered to be always used as process water, thus process water fractions to air are applied to all tap water input flows to calculate the amount of water consumed in the processes.',\n",
       "   'amount': 0.15,\n",
       "   'pedigree': {'reliability': 4,\n",
       "    'completeness': 4,\n",
       "    'temporal correlation': 3,\n",
       "    'geographical correlation': 2,\n",
       "    'further technological correlation': 4},\n",
       "   'uncertainty type': 2,\n",
       "   'loc': -1.9,\n",
       "   'scale': 0.30335622624235026,\n",
       "   'scale without pedigree': 0.2,\n",
       "   'name': 'fraction_TW_to_air'}],\n",
       " 'authors': {'data entry': {'name': 'Niels Jungbluth',\n",
       "   'email': 'ecoinvent@esu-services.ch'},\n",
       "  'data generator': {'name': 'Niels Jungbluth',\n",
       "   'email': 'ecoinvent@esu-services.ch'}},\n",
       " 'type': 'process',\n",
       " 'reference product': 'diesel, low-sulfur',\n",
       " 'flow': 'b80eb2d5-1256-41bb-a61d-83252d0dfd4d',\n",
       " 'unit': 'kilogram',\n",
       " 'production amount': 1.0,\n",
       " 'code': '93406e2b0b71b9681c5aba419dddc642',\n",
       " 'id': 11682}"
      ]
     },
     "execution_count": 22,
     "metadata": {},
     "output_type": "execute_result"
    }
   ],
   "source": [
    "# Take a closer look to diesel_ls\n",
    "diesel_ls.as_dict()"
   ]
  },
  {
   "cell_type": "code",
   "execution_count": 23,
   "id": "d3645a79-2097-4f21-9f67-c773faefe277",
   "metadata": {},
   "outputs": [],
   "source": [
    "# add diesel_ls to diesel_x exchanges based on the diesel_og exchange parameters\n",
    "diesel_ls_A5 = diesel_A5.new_exchange(\n",
    "    input=diesel_ls.key,\n",
    "    amount=diesel_og.amount,\n",
    "    unit=diesel_og.unit,\n",
    "    type=\"technosphere\",\n",
    "    name=\"diesel\",\n",
    ")\n",
    "diesel_ls_C1 = diesel_C1.new_exchange(\n",
    "    input=diesel_ls.key,\n",
    "    amount=diesel_og.amount,\n",
    "    unit=diesel_og.unit,\n",
    "    type=\"technosphere\",\n",
    "    name=\"diesel\",\n",
    ")\n",
    "diesel_ls_A5.save()\n",
    "diesel_ls_C1.save()\n",
    "# The calls below might not be necessary\n",
    "diesel_A5.save()\n",
    "diesel_C1.save()"
   ]
  },
  {
   "cell_type": "code",
   "execution_count": 24,
   "id": "fc312db4-5d71-4a07-b71d-8837e9b6a232",
   "metadata": {},
   "outputs": [
    {
     "data": {
      "text/html": [
       "<table>\n",
       "<tbody>\n",
       "<tr><td>production  </td><td>diesel, burned in building machine                      </td><td>megajoule</td><td style=\"text-align: right;\"> 1          </td><td>&#x27;A5, diesel, burned in building machine&#x27; (megajoule, GLO, None)                      </td></tr>\n",
       "<tr><td>technosphere</td><td>building machine                                        </td><td>unit     </td><td style=\"text-align: right;\"> 1.34e-07   </td><td>&#x27;market for building machine&#x27; (unit, GLO, None)                                      </td></tr>\n",
       "<tr><td>technosphere</td><td>diesel                                                  </td><td>kilogram </td><td style=\"text-align: right;\"> 0.0234     </td><td>&#x27;market group for diesel&#x27; (kilogram, GLO, None)                                      </td></tr>\n",
       "<tr><td>technosphere</td><td>lubricating oil                                         </td><td>kilogram </td><td style=\"text-align: right;\"> 8.9436e-05 </td><td>&#x27;market for lubricating oil&#x27; (kilogram, RER, None)                                   </td></tr>\n",
       "<tr><td>technosphere</td><td>lubricating oil                                         </td><td>kilogram </td><td style=\"text-align: right;\"> 0.000424564</td><td>&#x27;market for lubricating oil&#x27; (kilogram, RoW, None)                                   </td></tr>\n",
       "<tr><td>technosphere</td><td>waste mineral oil                                       </td><td>kilogram </td><td style=\"text-align: right;\">-0.000369419</td><td>&#x27;market for waste mineral oil&#x27; (kilogram, RoW, None)                                 </td></tr>\n",
       "<tr><td>technosphere</td><td>waste mineral oil                                       </td><td>kilogram </td><td style=\"text-align: right;\">-0.000141088</td><td>&#x27;market for waste mineral oil&#x27; (kilogram, Europe without Switzerland, None)          </td></tr>\n",
       "<tr><td>technosphere</td><td>waste mineral oil                                       </td><td>kilogram </td><td style=\"text-align: right;\">-3.49279e-06</td><td>&#x27;market for waste mineral oil&#x27; (kilogram, CH, None)                                  </td></tr>\n",
       "<tr><td>biosphere   </td><td>Ammonia                                                 </td><td>kilogram </td><td style=\"text-align: right;\"> 2.33222e-07</td><td>&#x27;Ammonia&#x27; (kilogram, None, (&#x27;air&#x27;,))                                                 </td></tr>\n",
       "<tr><td>biosphere   </td><td>Benzo(a)pyrene                                          </td><td>kilogram </td><td style=\"text-align: right;\"> 7.01e-10   </td><td>&#x27;Benzo(a)pyrene&#x27; (kilogram, None, (&#x27;air&#x27;,))                                          </td></tr>\n",
       "<tr><td>biosphere   </td><td>Cadmium II                                              </td><td>kilogram </td><td style=\"text-align: right;\"> 2.34e-10   </td><td>&#x27;Cadmium II&#x27; (kilogram, None, (&#x27;air&#x27;,))                                              </td></tr>\n",
       "<tr><td>biosphere   </td><td>Carbon dioxide, fossil                                  </td><td>kilogram </td><td style=\"text-align: right;\"> 7.44086e-05</td><td>&#x27;Carbon dioxide, fossil&#x27; (kilogram, None, (&#x27;air&#x27;,))                                  </td></tr>\n",
       "<tr><td>biosphere   </td><td>Carbon monoxide, fossil                                 </td><td>kilogram </td><td style=\"text-align: right;\"> 3.19444e-08</td><td>&#x27;Carbon monoxide, fossil&#x27; (kilogram, None, (&#x27;air&#x27;,))                                 </td></tr>\n",
       "<tr><td>biosphere   </td><td>Chromium III                                            </td><td>kilogram </td><td style=\"text-align: right;\"> 1.17e-09   </td><td>&#x27;Chromium III&#x27; (kilogram, None, (&#x27;air&#x27;,))                                            </td></tr>\n",
       "<tr><td>biosphere   </td><td>Copper ion                                              </td><td>kilogram </td><td style=\"text-align: right;\"> 3.97e-08   </td><td>&#x27;Copper ion&#x27; (kilogram, None, (&#x27;air&#x27;,))                                              </td></tr>\n",
       "<tr><td>biosphere   </td><td>Dinitrogen monoxide                                     </td><td>kilogram </td><td style=\"text-align: right;\"> 4.99833e-10</td><td>&#x27;Dinitrogen monoxide&#x27; (kilogram, None, (&#x27;air&#x27;,))                                     </td></tr>\n",
       "<tr><td>biosphere   </td><td>Dioxins, measured as 2,3,7,8-tetrachlorodibenzo-p-dioxin</td><td>kilogram </td><td style=\"text-align: right;\"> 1.4e-15    </td><td>&#x27;Dioxins, measured as 2,3,7,8-tetrachlorodibenzo-p-dioxin&#x27; (kilogram, None, (&#x27;air&#x27;,))</td></tr>\n",
       "<tr><td>biosphere   </td><td>Methane, fossil                                         </td><td>kilogram </td><td style=\"text-align: right;\"> 3.75e-06   </td><td>&#x27;Methane, fossil&#x27; (kilogram, None, (&#x27;air&#x27;,))                                         </td></tr>\n",
       "<tr><td>biosphere   </td><td>NMVOC, non-methane volatile organic compounds           </td><td>kilogram </td><td style=\"text-align: right;\"> 8.91294e-10</td><td>&#x27;NMVOC, non-methane volatile organic compounds&#x27; (kilogram, None, (&#x27;air&#x27;,))           </td></tr>\n",
       "<tr><td>biosphere   </td><td>Nickel II                                               </td><td>kilogram </td><td style=\"text-align: right;\"> 1.64e-09   </td><td>&#x27;Nickel II&#x27; (kilogram, None, (&#x27;air&#x27;,))                                               </td></tr>\n",
       "<tr><td>biosphere   </td><td>Nitrogen oxides                                         </td><td>kilogram </td><td style=\"text-align: right;\"> 7.67056e-08</td><td>&#x27;Nitrogen oxides&#x27; (kilogram, None, (&#x27;air&#x27;,))                                         </td></tr>\n",
       "<tr><td>biosphere   </td><td>PAH, polycyclic aromatic hydrocarbons                   </td><td>kilogram </td><td style=\"text-align: right;\"> 7.85e-08   </td><td>&#x27;PAH, polycyclic aromatic hydrocarbons&#x27; (kilogram, None, (&#x27;air&#x27;,))                   </td></tr>\n",
       "<tr><td>biosphere   </td><td>Particulate Matter, &lt; 2.5 um                            </td><td>kilogram </td><td style=\"text-align: right;\"> 1.29832e-09</td><td>&#x27;Particulate Matter, &lt; 2.5 um&#x27; (kilogram, None, (&#x27;air&#x27;,))                            </td></tr>\n",
       "<tr><td>biosphere   </td><td>Particulate Matter, &gt; 10 um                             </td><td>kilogram </td><td style=\"text-align: right;\"> 6.83056e-11</td><td>&#x27;Particulate Matter, &gt; 10 um&#x27; (kilogram, None, (&#x27;air&#x27;,))                             </td></tr>\n",
       "<tr><td>biosphere   </td><td>Particulate Matter, &gt; 2.5 um and &lt; 10um                 </td><td>kilogram </td><td style=\"text-align: right;\"> 1.23587e-09</td><td>&#x27;Particulate Matter, &gt; 2.5 um and &lt; 10um&#x27; (kilogram, None, (&#x27;air&#x27;,))                 </td></tr>\n",
       "<tr><td>biosphere   </td><td>Selenium IV                                             </td><td>kilogram </td><td style=\"text-align: right;\"> 2.34e-10   </td><td>&#x27;Selenium IV&#x27; (kilogram, None, (&#x27;air&#x27;,))                                             </td></tr>\n",
       "<tr><td>biosphere   </td><td>Sulfur dioxide                                          </td><td>kilogram </td><td style=\"text-align: right;\"> 4.66667e-10</td><td>&#x27;Sulfur dioxide&#x27; (kilogram, None, (&#x27;air&#x27;,))                                          </td></tr>\n",
       "<tr><td>biosphere   </td><td>Zinc II                                                 </td><td>kilogram </td><td style=\"text-align: right;\"> 2.34e-08   </td><td>&#x27;Zinc II&#x27; (kilogram, None, (&#x27;air&#x27;,))                                                 </td></tr>\n",
       "<tr><td>technosphere</td><td>diesel                                                  </td><td>kilogram </td><td style=\"text-align: right;\"> 0.0234     </td><td>&#x27;market for diesel, low-sulfur&#x27; (kilogram, Europe without Switzerland, None)         </td></tr>\n",
       "</tbody>\n",
       "</table>"
      ],
      "text/plain": [
       "'<table>\\n<tbody>\\n<tr><td>production  </td><td>diesel, burned in building machine                      </td><td>megajoule</td><td style=\"text-align: right;\"> 1          </td><td>&#x27;A5, diesel, burned in building machine&#x27; (megajoule, GLO, None)                      </td></tr>\\n<tr><td>technosphere</td><td>building machine                                        </td><td>unit     </td><td style=\"text-align: right;\"> 1.34e-07   </td><td>&#x27;market for building machine&#x27; (unit, GLO, None)                                      </td></tr>\\n<tr><td>technosphere</td><td>diesel                                                  </td><td>kilogram </td><td style=\"text-align: right;\"> 0.0234     </td><td>&#x27;market group for diesel&#x27; (kilogram, GLO, None)                                      </td></tr>\\n<tr><td>technosphere</td><td>lubricating oil                                         </td><td>kilogram </td><td style=\"text-align: right;\"> 8.9436e-05 </td><td>&#x27;market for lubricating oil&#x27; (kilogram, RER, None)                                   </td></tr>\\n<tr><td>technosphere</td><td>lubricating oil                                         </td><td>kilogram </td><td style=\"text-align: right;\"> 0.000424564</td><td>&#x27;market for lubricating oil&#x27; (kilogram, RoW, None)                                   </td></tr>\\n<tr><td>technosphere</td><td>waste mineral oil                                       </td><td>kilogram </td><td style=\"text-align: right;\">-0.000369419</td><td>&#x27;market for waste mineral oil&#x27; (kilogram, RoW, None)                                 </td></tr>\\n<tr><td>technosphere</td><td>waste mineral oil                                       </td><td>kilogram </td><td style=\"text-align: right;\">-0.000141088</td><td>&#x27;market for waste mineral oil&#x27; (kilogram, Europe without Switzerland, None)          </td></tr>\\n<tr><td>technosphere</td><td>waste mineral oil                                       </td><td>kilogram </td><td style=\"text-align: right;\">-3.49279e-06</td><td>&#x27;market for waste mineral oil&#x27; (kilogram, CH, None)                                  </td></tr>\\n<tr><td>biosphere   </td><td>Ammonia                                                 </td><td>kilogram </td><td style=\"text-align: right;\"> 2.33222e-07</td><td>&#x27;Ammonia&#x27; (kilogram, None, (&#x27;air&#x27;,))                                                 </td></tr>\\n<tr><td>biosphere   </td><td>Benzo(a)pyrene                                          </td><td>kilogram </td><td style=\"text-align: right;\"> 7.01e-10   </td><td>&#x27;Benzo(a)pyrene&#x27; (kilogram, None, (&#x27;air&#x27;,))                                          </td></tr>\\n<tr><td>biosphere   </td><td>Cadmium II                                              </td><td>kilogram </td><td style=\"text-align: right;\"> 2.34e-10   </td><td>&#x27;Cadmium II&#x27; (kilogram, None, (&#x27;air&#x27;,))                                              </td></tr>\\n<tr><td>biosphere   </td><td>Carbon dioxide, fossil                                  </td><td>kilogram </td><td style=\"text-align: right;\"> 7.44086e-05</td><td>&#x27;Carbon dioxide, fossil&#x27; (kilogram, None, (&#x27;air&#x27;,))                                  </td></tr>\\n<tr><td>biosphere   </td><td>Carbon monoxide, fossil                                 </td><td>kilogram </td><td style=\"text-align: right;\"> 3.19444e-08</td><td>&#x27;Carbon monoxide, fossil&#x27; (kilogram, None, (&#x27;air&#x27;,))                                 </td></tr>\\n<tr><td>biosphere   </td><td>Chromium III                                            </td><td>kilogram </td><td style=\"text-align: right;\"> 1.17e-09   </td><td>&#x27;Chromium III&#x27; (kilogram, None, (&#x27;air&#x27;,))                                            </td></tr>\\n<tr><td>biosphere   </td><td>Copper ion                                              </td><td>kilogram </td><td style=\"text-align: right;\"> 3.97e-08   </td><td>&#x27;Copper ion&#x27; (kilogram, None, (&#x27;air&#x27;,))                                              </td></tr>\\n<tr><td>biosphere   </td><td>Dinitrogen monoxide                                     </td><td>kilogram </td><td style=\"text-align: right;\"> 4.99833e-10</td><td>&#x27;Dinitrogen monoxide&#x27; (kilogram, None, (&#x27;air&#x27;,))                                     </td></tr>\\n<tr><td>biosphere   </td><td>Dioxins, measured as 2,3,7,8-tetrachlorodibenzo-p-dioxin</td><td>kilogram </td><td style=\"text-align: right;\"> 1.4e-15    </td><td>&#x27;Dioxins, measured as 2,3,7,8-tetrachlorodibenzo-p-dioxin&#x27; (kilogram, None, (&#x27;air&#x27;,))</td></tr>\\n<tr><td>biosphere   </td><td>Methane, fossil                                         </td><td>kilogram </td><td style=\"text-align: right;\"> 3.75e-06   </td><td>&#x27;Methane, fossil&#x27; (kilogram, None, (&#x27;air&#x27;,))                                         </td></tr>\\n<tr><td>biosphere   </td><td>NMVOC, non-methane volatile organic compounds           </td><td>kilogram </td><td style=\"text-align: right;\"> 8.91294e-10</td><td>&#x27;NMVOC, non-methane volatile organic compounds&#x27; (kilogram, None, (&#x27;air&#x27;,))           </td></tr>\\n<tr><td>biosphere   </td><td>Nickel II                                               </td><td>kilogram </td><td style=\"text-align: right;\"> 1.64e-09   </td><td>&#x27;Nickel II&#x27; (kilogram, None, (&#x27;air&#x27;,))                                               </td></tr>\\n<tr><td>biosphere   </td><td>Nitrogen oxides                                         </td><td>kilogram </td><td style=\"text-align: right;\"> 7.67056e-08</td><td>&#x27;Nitrogen oxides&#x27; (kilogram, None, (&#x27;air&#x27;,))                                         </td></tr>\\n<tr><td>biosphere   </td><td>PAH, polycyclic aromatic hydrocarbons                   </td><td>kilogram </td><td style=\"text-align: right;\"> 7.85e-08   </td><td>&#x27;PAH, polycyclic aromatic hydrocarbons&#x27; (kilogram, None, (&#x27;air&#x27;,))                   </td></tr>\\n<tr><td>biosphere   </td><td>Particulate Matter, &lt; 2.5 um                            </td><td>kilogram </td><td style=\"text-align: right;\"> 1.29832e-09</td><td>&#x27;Particulate Matter, &lt; 2.5 um&#x27; (kilogram, None, (&#x27;air&#x27;,))                            </td></tr>\\n<tr><td>biosphere   </td><td>Particulate Matter, &gt; 10 um                             </td><td>kilogram </td><td style=\"text-align: right;\"> 6.83056e-11</td><td>&#x27;Particulate Matter, &gt; 10 um&#x27; (kilogram, None, (&#x27;air&#x27;,))                             </td></tr>\\n<tr><td>biosphere   </td><td>Particulate Matter, &gt; 2.5 um and &lt; 10um                 </td><td>kilogram </td><td style=\"text-align: right;\"> 1.23587e-09</td><td>&#x27;Particulate Matter, &gt; 2.5 um and &lt; 10um&#x27; (kilogram, None, (&#x27;air&#x27;,))                 </td></tr>\\n<tr><td>biosphere   </td><td>Selenium IV                                             </td><td>kilogram </td><td style=\"text-align: right;\"> 2.34e-10   </td><td>&#x27;Selenium IV&#x27; (kilogram, None, (&#x27;air&#x27;,))                                             </td></tr>\\n<tr><td>biosphere   </td><td>Sulfur dioxide                                          </td><td>kilogram </td><td style=\"text-align: right;\"> 4.66667e-10</td><td>&#x27;Sulfur dioxide&#x27; (kilogram, None, (&#x27;air&#x27;,))                                          </td></tr>\\n<tr><td>biosphere   </td><td>Zinc II                                                 </td><td>kilogram </td><td style=\"text-align: right;\"> 2.34e-08   </td><td>&#x27;Zinc II&#x27; (kilogram, None, (&#x27;air&#x27;,))                                                 </td></tr>\\n<tr><td>technosphere</td><td>diesel                                                  </td><td>kilogram </td><td style=\"text-align: right;\"> 0.0234     </td><td>&#x27;market for diesel, low-sulfur&#x27; (kilogram, Europe without Switzerland, None)         </td></tr>\\n</tbody>\\n</table>'"
      ]
     },
     "execution_count": 24,
     "metadata": {},
     "output_type": "execute_result"
    }
   ],
   "source": [
    "# Look at exhanges characterizing activity diesel_A5\n",
    "rows = []\n",
    "for exc in diesel_A5.exchanges():\n",
    "    exc_row = {\n",
    "        field: value\n",
    "        for field, value in exc.as_dict().items()\n",
    "        if field in [\"amount\", \"unit\", \"name\", \"type\"]\n",
    "    }\n",
    "    exchange_activity = bd.get_activity(exc[\"input\"])\n",
    "    exc_row[\"activity\"] = str(exchange_activity)\n",
    "    rows.append(exc_row)\n",
    "tabulate(rows, tablefmt=\"html\")"
   ]
  },
  {
   "cell_type": "code",
   "execution_count": 25,
   "id": "4ade1846-5369-443e-9eb9-ff1849402d52",
   "metadata": {},
   "outputs": [
    {
     "name": "stdout",
     "output_type": "stream",
     "text": [
      "Deleteing exchange Exchange: 0.0234 kilogram 'market group for diesel' (kilogram, GLO, None) to 'A5, diesel, burned in building machine' (megajoule, GLO, None)>\n",
      "Deleteing exchange Exchange: 0.0234 kilogram 'market group for diesel' (kilogram, GLO, None) to 'C1, diesel, burned in building machine' (megajoule, GLO, None)>\n"
     ]
    }
   ],
   "source": [
    "# Delete diesel exchange\n",
    "victim_exc = None\n",
    "for exch in diesel_A5.technosphere():\n",
    "    exch_activity = bd.get_activity(exch[\"input\"])\n",
    "    if exch_activity.get(\"name\") == \"market group for diesel\":\n",
    "        victim_exc = exch\n",
    "if victim_exc:\n",
    "    print(f\"Deleteing exchange {victim_exc}\")\n",
    "    victim_exc.delete()\n",
    "\n",
    "victim_exc = None\n",
    "for exch in diesel_C1.technosphere():\n",
    "    exch_activity = bd.get_activity(exch[\"input\"])\n",
    "    if exch_activity.get(\"name\") == \"market group for diesel\":\n",
    "        victim_exc = exch\n",
    "if victim_exc:\n",
    "    print(f\"Deleteing exchange {victim_exc}\")\n",
    "    victim_exc.delete()"
   ]
  },
  {
   "cell_type": "code",
   "execution_count": 26,
   "id": "4dcef83f-561f-4837-a0f6-8e666ca86902",
   "metadata": {},
   "outputs": [
    {
     "data": {
      "text/html": [
       "<table>\n",
       "<tbody>\n",
       "<tr><td>production  </td><td>diesel, burned in building machine                      </td><td>megajoule</td><td style=\"text-align: right;\"> 1          </td><td>&#x27;A5, diesel, burned in building machine&#x27; (megajoule, GLO, None)                      </td></tr>\n",
       "<tr><td>technosphere</td><td>building machine                                        </td><td>unit     </td><td style=\"text-align: right;\"> 1.34e-07   </td><td>&#x27;market for building machine&#x27; (unit, GLO, None)                                      </td></tr>\n",
       "<tr><td>technosphere</td><td>lubricating oil                                         </td><td>kilogram </td><td style=\"text-align: right;\"> 8.9436e-05 </td><td>&#x27;market for lubricating oil&#x27; (kilogram, RER, None)                                   </td></tr>\n",
       "<tr><td>technosphere</td><td>lubricating oil                                         </td><td>kilogram </td><td style=\"text-align: right;\"> 0.000424564</td><td>&#x27;market for lubricating oil&#x27; (kilogram, RoW, None)                                   </td></tr>\n",
       "<tr><td>technosphere</td><td>waste mineral oil                                       </td><td>kilogram </td><td style=\"text-align: right;\">-0.000369419</td><td>&#x27;market for waste mineral oil&#x27; (kilogram, RoW, None)                                 </td></tr>\n",
       "<tr><td>technosphere</td><td>waste mineral oil                                       </td><td>kilogram </td><td style=\"text-align: right;\">-0.000141088</td><td>&#x27;market for waste mineral oil&#x27; (kilogram, Europe without Switzerland, None)          </td></tr>\n",
       "<tr><td>technosphere</td><td>waste mineral oil                                       </td><td>kilogram </td><td style=\"text-align: right;\">-3.49279e-06</td><td>&#x27;market for waste mineral oil&#x27; (kilogram, CH, None)                                  </td></tr>\n",
       "<tr><td>biosphere   </td><td>Ammonia                                                 </td><td>kilogram </td><td style=\"text-align: right;\"> 2.33222e-07</td><td>&#x27;Ammonia&#x27; (kilogram, None, (&#x27;air&#x27;,))                                                 </td></tr>\n",
       "<tr><td>biosphere   </td><td>Benzo(a)pyrene                                          </td><td>kilogram </td><td style=\"text-align: right;\"> 7.01e-10   </td><td>&#x27;Benzo(a)pyrene&#x27; (kilogram, None, (&#x27;air&#x27;,))                                          </td></tr>\n",
       "<tr><td>biosphere   </td><td>Cadmium II                                              </td><td>kilogram </td><td style=\"text-align: right;\"> 2.34e-10   </td><td>&#x27;Cadmium II&#x27; (kilogram, None, (&#x27;air&#x27;,))                                              </td></tr>\n",
       "<tr><td>biosphere   </td><td>Carbon dioxide, fossil                                  </td><td>kilogram </td><td style=\"text-align: right;\"> 7.44086e-05</td><td>&#x27;Carbon dioxide, fossil&#x27; (kilogram, None, (&#x27;air&#x27;,))                                  </td></tr>\n",
       "<tr><td>biosphere   </td><td>Carbon monoxide, fossil                                 </td><td>kilogram </td><td style=\"text-align: right;\"> 3.19444e-08</td><td>&#x27;Carbon monoxide, fossil&#x27; (kilogram, None, (&#x27;air&#x27;,))                                 </td></tr>\n",
       "<tr><td>biosphere   </td><td>Chromium III                                            </td><td>kilogram </td><td style=\"text-align: right;\"> 1.17e-09   </td><td>&#x27;Chromium III&#x27; (kilogram, None, (&#x27;air&#x27;,))                                            </td></tr>\n",
       "<tr><td>biosphere   </td><td>Copper ion                                              </td><td>kilogram </td><td style=\"text-align: right;\"> 3.97e-08   </td><td>&#x27;Copper ion&#x27; (kilogram, None, (&#x27;air&#x27;,))                                              </td></tr>\n",
       "<tr><td>biosphere   </td><td>Dinitrogen monoxide                                     </td><td>kilogram </td><td style=\"text-align: right;\"> 4.99833e-10</td><td>&#x27;Dinitrogen monoxide&#x27; (kilogram, None, (&#x27;air&#x27;,))                                     </td></tr>\n",
       "<tr><td>biosphere   </td><td>Dioxins, measured as 2,3,7,8-tetrachlorodibenzo-p-dioxin</td><td>kilogram </td><td style=\"text-align: right;\"> 1.4e-15    </td><td>&#x27;Dioxins, measured as 2,3,7,8-tetrachlorodibenzo-p-dioxin&#x27; (kilogram, None, (&#x27;air&#x27;,))</td></tr>\n",
       "<tr><td>biosphere   </td><td>Methane, fossil                                         </td><td>kilogram </td><td style=\"text-align: right;\"> 3.75e-06   </td><td>&#x27;Methane, fossil&#x27; (kilogram, None, (&#x27;air&#x27;,))                                         </td></tr>\n",
       "<tr><td>biosphere   </td><td>NMVOC, non-methane volatile organic compounds           </td><td>kilogram </td><td style=\"text-align: right;\"> 8.91294e-10</td><td>&#x27;NMVOC, non-methane volatile organic compounds&#x27; (kilogram, None, (&#x27;air&#x27;,))           </td></tr>\n",
       "<tr><td>biosphere   </td><td>Nickel II                                               </td><td>kilogram </td><td style=\"text-align: right;\"> 1.64e-09   </td><td>&#x27;Nickel II&#x27; (kilogram, None, (&#x27;air&#x27;,))                                               </td></tr>\n",
       "<tr><td>biosphere   </td><td>Nitrogen oxides                                         </td><td>kilogram </td><td style=\"text-align: right;\"> 7.67056e-08</td><td>&#x27;Nitrogen oxides&#x27; (kilogram, None, (&#x27;air&#x27;,))                                         </td></tr>\n",
       "<tr><td>biosphere   </td><td>PAH, polycyclic aromatic hydrocarbons                   </td><td>kilogram </td><td style=\"text-align: right;\"> 7.85e-08   </td><td>&#x27;PAH, polycyclic aromatic hydrocarbons&#x27; (kilogram, None, (&#x27;air&#x27;,))                   </td></tr>\n",
       "<tr><td>biosphere   </td><td>Particulate Matter, &lt; 2.5 um                            </td><td>kilogram </td><td style=\"text-align: right;\"> 1.29832e-09</td><td>&#x27;Particulate Matter, &lt; 2.5 um&#x27; (kilogram, None, (&#x27;air&#x27;,))                            </td></tr>\n",
       "<tr><td>biosphere   </td><td>Particulate Matter, &gt; 10 um                             </td><td>kilogram </td><td style=\"text-align: right;\"> 6.83056e-11</td><td>&#x27;Particulate Matter, &gt; 10 um&#x27; (kilogram, None, (&#x27;air&#x27;,))                             </td></tr>\n",
       "<tr><td>biosphere   </td><td>Particulate Matter, &gt; 2.5 um and &lt; 10um                 </td><td>kilogram </td><td style=\"text-align: right;\"> 1.23587e-09</td><td>&#x27;Particulate Matter, &gt; 2.5 um and &lt; 10um&#x27; (kilogram, None, (&#x27;air&#x27;,))                 </td></tr>\n",
       "<tr><td>biosphere   </td><td>Selenium IV                                             </td><td>kilogram </td><td style=\"text-align: right;\"> 2.34e-10   </td><td>&#x27;Selenium IV&#x27; (kilogram, None, (&#x27;air&#x27;,))                                             </td></tr>\n",
       "<tr><td>biosphere   </td><td>Sulfur dioxide                                          </td><td>kilogram </td><td style=\"text-align: right;\"> 4.66667e-10</td><td>&#x27;Sulfur dioxide&#x27; (kilogram, None, (&#x27;air&#x27;,))                                          </td></tr>\n",
       "<tr><td>biosphere   </td><td>Zinc II                                                 </td><td>kilogram </td><td style=\"text-align: right;\"> 2.34e-08   </td><td>&#x27;Zinc II&#x27; (kilogram, None, (&#x27;air&#x27;,))                                                 </td></tr>\n",
       "<tr><td>technosphere</td><td>diesel                                                  </td><td>kilogram </td><td style=\"text-align: right;\"> 0.0234     </td><td>&#x27;market for diesel, low-sulfur&#x27; (kilogram, Europe without Switzerland, None)         </td></tr>\n",
       "</tbody>\n",
       "</table>"
      ],
      "text/plain": [
       "'<table>\\n<tbody>\\n<tr><td>production  </td><td>diesel, burned in building machine                      </td><td>megajoule</td><td style=\"text-align: right;\"> 1          </td><td>&#x27;A5, diesel, burned in building machine&#x27; (megajoule, GLO, None)                      </td></tr>\\n<tr><td>technosphere</td><td>building machine                                        </td><td>unit     </td><td style=\"text-align: right;\"> 1.34e-07   </td><td>&#x27;market for building machine&#x27; (unit, GLO, None)                                      </td></tr>\\n<tr><td>technosphere</td><td>lubricating oil                                         </td><td>kilogram </td><td style=\"text-align: right;\"> 8.9436e-05 </td><td>&#x27;market for lubricating oil&#x27; (kilogram, RER, None)                                   </td></tr>\\n<tr><td>technosphere</td><td>lubricating oil                                         </td><td>kilogram </td><td style=\"text-align: right;\"> 0.000424564</td><td>&#x27;market for lubricating oil&#x27; (kilogram, RoW, None)                                   </td></tr>\\n<tr><td>technosphere</td><td>waste mineral oil                                       </td><td>kilogram </td><td style=\"text-align: right;\">-0.000369419</td><td>&#x27;market for waste mineral oil&#x27; (kilogram, RoW, None)                                 </td></tr>\\n<tr><td>technosphere</td><td>waste mineral oil                                       </td><td>kilogram </td><td style=\"text-align: right;\">-0.000141088</td><td>&#x27;market for waste mineral oil&#x27; (kilogram, Europe without Switzerland, None)          </td></tr>\\n<tr><td>technosphere</td><td>waste mineral oil                                       </td><td>kilogram </td><td style=\"text-align: right;\">-3.49279e-06</td><td>&#x27;market for waste mineral oil&#x27; (kilogram, CH, None)                                  </td></tr>\\n<tr><td>biosphere   </td><td>Ammonia                                                 </td><td>kilogram </td><td style=\"text-align: right;\"> 2.33222e-07</td><td>&#x27;Ammonia&#x27; (kilogram, None, (&#x27;air&#x27;,))                                                 </td></tr>\\n<tr><td>biosphere   </td><td>Benzo(a)pyrene                                          </td><td>kilogram </td><td style=\"text-align: right;\"> 7.01e-10   </td><td>&#x27;Benzo(a)pyrene&#x27; (kilogram, None, (&#x27;air&#x27;,))                                          </td></tr>\\n<tr><td>biosphere   </td><td>Cadmium II                                              </td><td>kilogram </td><td style=\"text-align: right;\"> 2.34e-10   </td><td>&#x27;Cadmium II&#x27; (kilogram, None, (&#x27;air&#x27;,))                                              </td></tr>\\n<tr><td>biosphere   </td><td>Carbon dioxide, fossil                                  </td><td>kilogram </td><td style=\"text-align: right;\"> 7.44086e-05</td><td>&#x27;Carbon dioxide, fossil&#x27; (kilogram, None, (&#x27;air&#x27;,))                                  </td></tr>\\n<tr><td>biosphere   </td><td>Carbon monoxide, fossil                                 </td><td>kilogram </td><td style=\"text-align: right;\"> 3.19444e-08</td><td>&#x27;Carbon monoxide, fossil&#x27; (kilogram, None, (&#x27;air&#x27;,))                                 </td></tr>\\n<tr><td>biosphere   </td><td>Chromium III                                            </td><td>kilogram </td><td style=\"text-align: right;\"> 1.17e-09   </td><td>&#x27;Chromium III&#x27; (kilogram, None, (&#x27;air&#x27;,))                                            </td></tr>\\n<tr><td>biosphere   </td><td>Copper ion                                              </td><td>kilogram </td><td style=\"text-align: right;\"> 3.97e-08   </td><td>&#x27;Copper ion&#x27; (kilogram, None, (&#x27;air&#x27;,))                                              </td></tr>\\n<tr><td>biosphere   </td><td>Dinitrogen monoxide                                     </td><td>kilogram </td><td style=\"text-align: right;\"> 4.99833e-10</td><td>&#x27;Dinitrogen monoxide&#x27; (kilogram, None, (&#x27;air&#x27;,))                                     </td></tr>\\n<tr><td>biosphere   </td><td>Dioxins, measured as 2,3,7,8-tetrachlorodibenzo-p-dioxin</td><td>kilogram </td><td style=\"text-align: right;\"> 1.4e-15    </td><td>&#x27;Dioxins, measured as 2,3,7,8-tetrachlorodibenzo-p-dioxin&#x27; (kilogram, None, (&#x27;air&#x27;,))</td></tr>\\n<tr><td>biosphere   </td><td>Methane, fossil                                         </td><td>kilogram </td><td style=\"text-align: right;\"> 3.75e-06   </td><td>&#x27;Methane, fossil&#x27; (kilogram, None, (&#x27;air&#x27;,))                                         </td></tr>\\n<tr><td>biosphere   </td><td>NMVOC, non-methane volatile organic compounds           </td><td>kilogram </td><td style=\"text-align: right;\"> 8.91294e-10</td><td>&#x27;NMVOC, non-methane volatile organic compounds&#x27; (kilogram, None, (&#x27;air&#x27;,))           </td></tr>\\n<tr><td>biosphere   </td><td>Nickel II                                               </td><td>kilogram </td><td style=\"text-align: right;\"> 1.64e-09   </td><td>&#x27;Nickel II&#x27; (kilogram, None, (&#x27;air&#x27;,))                                               </td></tr>\\n<tr><td>biosphere   </td><td>Nitrogen oxides                                         </td><td>kilogram </td><td style=\"text-align: right;\"> 7.67056e-08</td><td>&#x27;Nitrogen oxides&#x27; (kilogram, None, (&#x27;air&#x27;,))                                         </td></tr>\\n<tr><td>biosphere   </td><td>PAH, polycyclic aromatic hydrocarbons                   </td><td>kilogram </td><td style=\"text-align: right;\"> 7.85e-08   </td><td>&#x27;PAH, polycyclic aromatic hydrocarbons&#x27; (kilogram, None, (&#x27;air&#x27;,))                   </td></tr>\\n<tr><td>biosphere   </td><td>Particulate Matter, &lt; 2.5 um                            </td><td>kilogram </td><td style=\"text-align: right;\"> 1.29832e-09</td><td>&#x27;Particulate Matter, &lt; 2.5 um&#x27; (kilogram, None, (&#x27;air&#x27;,))                            </td></tr>\\n<tr><td>biosphere   </td><td>Particulate Matter, &gt; 10 um                             </td><td>kilogram </td><td style=\"text-align: right;\"> 6.83056e-11</td><td>&#x27;Particulate Matter, &gt; 10 um&#x27; (kilogram, None, (&#x27;air&#x27;,))                             </td></tr>\\n<tr><td>biosphere   </td><td>Particulate Matter, &gt; 2.5 um and &lt; 10um                 </td><td>kilogram </td><td style=\"text-align: right;\"> 1.23587e-09</td><td>&#x27;Particulate Matter, &gt; 2.5 um and &lt; 10um&#x27; (kilogram, None, (&#x27;air&#x27;,))                 </td></tr>\\n<tr><td>biosphere   </td><td>Selenium IV                                             </td><td>kilogram </td><td style=\"text-align: right;\"> 2.34e-10   </td><td>&#x27;Selenium IV&#x27; (kilogram, None, (&#x27;air&#x27;,))                                             </td></tr>\\n<tr><td>biosphere   </td><td>Sulfur dioxide                                          </td><td>kilogram </td><td style=\"text-align: right;\"> 4.66667e-10</td><td>&#x27;Sulfur dioxide&#x27; (kilogram, None, (&#x27;air&#x27;,))                                          </td></tr>\\n<tr><td>biosphere   </td><td>Zinc II                                                 </td><td>kilogram </td><td style=\"text-align: right;\"> 2.34e-08   </td><td>&#x27;Zinc II&#x27; (kilogram, None, (&#x27;air&#x27;,))                                                 </td></tr>\\n<tr><td>technosphere</td><td>diesel                                                  </td><td>kilogram </td><td style=\"text-align: right;\"> 0.0234     </td><td>&#x27;market for diesel, low-sulfur&#x27; (kilogram, Europe without Switzerland, None)         </td></tr>\\n</tbody>\\n</table>'"
      ]
     },
     "execution_count": 26,
     "metadata": {},
     "output_type": "execute_result"
    }
   ],
   "source": [
    "# Verify characterizing activity diesel_A5\n",
    "rows = []\n",
    "for exc in diesel_A5.exchanges():\n",
    "    exc_row = {\n",
    "        field: value\n",
    "        for field, value in exc.as_dict().items()\n",
    "        if field in [\"amount\", \"unit\", \"name\", \"type\"]\n",
    "    }\n",
    "    exchange_activity = bd.get_activity(exc[\"input\"])\n",
    "    exc_row[\"activity\"] = str(exchange_activity)\n",
    "    rows.append(exc_row)\n",
    "tabulate(rows, tablefmt=\"html\")"
   ]
  },
  {
   "cell_type": "code",
   "execution_count": 27,
   "id": "ca07e1d2-0fa8-439b-bc28-df9c56a5ddc1",
   "metadata": {},
   "outputs": [
    {
     "name": "stdout",
     "output_type": "stream",
     "text": [
      "Exchange: 0.0234 kilogram 'market for diesel, low-sulfur' (kilogram, Europe without Switzerland, None) to 'A5, diesel, burned in building machine' (megajoule, GLO, None)>\n"
     ]
    }
   ],
   "source": [
    "# Verify diesel_ls exchange\n",
    "for exc in diesel_A5.technosphere():\n",
    "    exc_activity = bd.get_activity(exc[\"input\"])\n",
    "    if exc_activity.get(\"name\") == \"market for diesel, low-sulfur\":\n",
    "        pprint(exc)"
   ]
  },
  {
   "cell_type": "markdown",
   "id": "14256751-8ae3-4bb9-a477-2ae38ef0664b",
   "metadata": {},
   "source": [
    "## Adding modified transport processes\n",
    "\n",
    "Two new transport processes to model the extra fuel consumption due to pavement deterioration in the use phase (B) must be added to the background. These processes are based on the following ecoinvent processes:\n",
    "\n",
    "The new processes are modified to only include the exchanges related to fuel (diesel and petrol). The name of the new processes is:\n",
    "\n",
    "- transport, freight, lorry 7.5-16 metric ton, EURO5 - RER\n",
    "- transport, passenger car, medium size, petrol, EURO 5 - RER\n",
    "\n",
    "The new processes are modified to only include the technosphere exchanges related to fuel (diesel and petrol). The names of the new processeses are:\n",
    "- B, transport, freight, lorry 7.5-16 metric ton, EURO5 - RER\n",
    "- B, transport, passenger car, medium size, petrol, EURO 5 - RER"
   ]
  },
  {
   "cell_type": "code",
   "execution_count": 28,
   "id": "39ad5ddb-7578-410a-b33b-80f0b465e1db",
   "metadata": {},
   "outputs": [
    {
     "name": "stdout",
     "output_type": "stream",
     "text": [
      "'B, transport, freight, lorry 7.5-16 metric ton, EURO5' (ton kilometer, RER, None)\n",
      "'B, transport, passenger car, medium size, petrol, EURO 5' (kilometer, RER, None)\n"
     ]
    }
   ],
   "source": [
    "# Delete the diesel a5 and c1 in case we ran this notebook multiple times\n",
    "res = EI_DB.search(\"B, transport, freight, lorry 7.5-16 metric ton, EURO5\")\n",
    "for r in res:\n",
    "    print(r)\n",
    "    r.delete()\n",
    "res = EI_DB.search(\"B, transport, passenger car, medium size, petrol, EURO 5\")\n",
    "for r in res:\n",
    "    print(r)\n",
    "    r.delete()"
   ]
  },
  {
   "cell_type": "markdown",
   "id": "c0a5c505-6532-492e-bace-561206442b09",
   "metadata": {},
   "source": [
    "### copy original processes"
   ]
  },
  {
   "cell_type": "code",
   "execution_count": 29,
   "id": "ffe5c441-1858-41aa-a175-cb63eecce47c",
   "metadata": {},
   "outputs": [
    {
     "name": "stdout",
     "output_type": "stream",
     "text": [
      "'transport, freight, lorry 7.5-16 metric ton, EURO5' (ton kilometer, RER, None)\n"
     ]
    }
   ],
   "source": [
    "# Search for transport processes in background database\n",
    "q = Query()\n",
    "filter_name = Filter(\"name\", \"is\", \"transport, freight, lorry 7.5-16 metric ton, EURO5\")\n",
    "filter_location = Filter(\"location\", \"is\", \"RER\")\n",
    "q.add(filter_name)\n",
    "q.add(filter_location)\n",
    "res = q(eidb_data)\n",
    "if len(res) == 1:\n",
    "    lorry = bd.get_activity(list(res).pop())\n",
    "print(lorry)"
   ]
  },
  {
   "cell_type": "code",
   "execution_count": 30,
   "id": "dfdecec0-7da4-4e70-be15-49ef6dc0795e",
   "metadata": {},
   "outputs": [],
   "source": [
    "lorry_B = lorry.copy(name=\"B, transport, freight, lorry 7.5-16 metric ton, EURO5\")"
   ]
  },
  {
   "cell_type": "code",
   "execution_count": 31,
   "id": "6aae2e86-bd6d-48e5-9795-d424985d38ad",
   "metadata": {},
   "outputs": [
    {
     "name": "stdout",
     "output_type": "stream",
     "text": [
      "'transport, passenger car, medium size, petrol, EURO 5' (kilometer, RER, None)\n"
     ]
    }
   ],
   "source": [
    "# Search for transport processes in background database\n",
    "q = Query()\n",
    "filter_name = Filter(\n",
    "    \"name\", \"is\", \"transport, passenger car, medium size, petrol, EURO 5\"\n",
    ")\n",
    "filter_location = Filter(\"location\", \"is\", \"RER\")\n",
    "q.add(filter_name)\n",
    "q.add(filter_location)\n",
    "res = q(eidb_data)\n",
    "if len(res) == 1:\n",
    "    car = bd.get_activity(list(res).pop())\n",
    "print(car)"
   ]
  },
  {
   "cell_type": "code",
   "execution_count": 32,
   "id": "8c807d7b-2df0-464c-b083-db0e3a5e53fb",
   "metadata": {},
   "outputs": [],
   "source": [
    "car_B = car.copy(name=\"B, transport, passenger car, medium size, petrol, EURO 5\")"
   ]
  },
  {
   "cell_type": "code",
   "execution_count": 33,
   "id": "323cb722-b19c-47a9-bb0b-a617af27b7eb",
   "metadata": {
    "scrolled": true
   },
   "outputs": [
    {
     "data": {
      "text/plain": [
       "['B, transport, freight, lorry 7.5-16 metric ton, EURO5' (ton kilometer, RER, None),\n",
       " 'B, transport, passenger car, medium size, petrol, EURO 5' (kilometer, RER, None),\n",
       " 'market for cement, CEM III/B' (kilogram, Europe without Switzerland, None),\n",
       " 'market for cement, CEM III/B' (kilogram, CH, None),\n",
       " 'market for cement, CEM V/B' (kilogram, Europe without Switzerland, None),\n",
       " 'market for cement, CEM II/B' (kilogram, Europe without Switzerland, None),\n",
       " 'market for cement, CEM IV/B' (kilogram, Europe without Switzerland, None),\n",
       " 'market for cement, CEM IV/B' (kilogram, CH, None),\n",
       " 'market for cement, CEM II/B' (kilogram, CH, None),\n",
       " 'market for cement, CEM V/B' (kilogram, CH, None),\n",
       " 'market for cement, CEM III/B' (kilogram, RoW, None),\n",
       " 'market for cement, CEM V/B' (kilogram, RoW, None),\n",
       " 'market for cement, CEM II/B' (kilogram, RoW, None),\n",
       " 'market for cement, CEM IV/B' (kilogram, RoW, None),\n",
       " 'market for cement, CEM II/B-L' (kilogram, ZA, None),\n",
       " 'market for cement, CEM II/B-S' (kilogram, ZA, None),\n",
       " 'market for cement, CEM II/B-V' (kilogram, ZA, None)]"
      ]
     },
     "execution_count": 33,
     "metadata": {},
     "output_type": "execute_result"
    }
   ],
   "source": [
    "# Verify that the new transport processes were recorded\n",
    "EI_DB.search(\"B, transport,\")"
   ]
  },
  {
   "cell_type": "markdown",
   "id": "2f9532e1-b6a9-407f-b26a-114e42271706",
   "metadata": {},
   "source": [
    "First, let's update B, transport, freight, lorry 7.5-16 metric ton, EURO5"
   ]
  },
  {
   "cell_type": "code",
   "execution_count": 34,
   "id": "1b48a65b-b815-4f42-8399-c01b67d28f0b",
   "metadata": {
    "scrolled": true
   },
   "outputs": [
    {
     "data": {
      "text/html": [
       "<table>\n",
       "<tbody>\n",
       "<tr><td>production  </td><td>transport, freight, lorry 7.5-16 metric ton, EURO5</td><td>ton kilometer</td><td style=\"text-align: right;\"> 1          </td><td>&#x27;B, transport, freight, lorry 7.5-16 metric ton, EURO5&#x27; (ton kilometer, RER, None)</td></tr>\n",
       "<tr><td>technosphere</td><td>brake wear emissions, lorry                       </td><td>kilogram     </td><td style=\"text-align: right;\">-2.29493e-05</td><td>&#x27;market for brake wear emissions, lorry&#x27; (kilogram, GLO, None)                    </td></tr>\n",
       "<tr><td>technosphere</td><td>diesel, low-sulfur                                </td><td>kilogram     </td><td style=\"text-align: right;\"> 0.0473021  </td><td>&#x27;market group for diesel, low-sulfur&#x27; (kilogram, RER, None)                       </td></tr>\n",
       "<tr><td>technosphere</td><td>lorry, 16 metric ton                              </td><td>unit         </td><td style=\"text-align: right;\"> 5.63e-07   </td><td>&#x27;market for lorry, 16 metric ton&#x27; (unit, RER, None)                               </td></tr>\n",
       "<tr><td>technosphere</td><td>maintenance, lorry 16 metric ton                  </td><td>unit         </td><td style=\"text-align: right;\"> 5.63e-07   </td><td>&#x27;market for maintenance, lorry 16 metric ton&#x27; (unit, RER, None)                   </td></tr>\n",
       "<tr><td>technosphere</td><td>road                                              </td><td>meter-year   </td><td style=\"text-align: right;\"> 0.00109    </td><td>&#x27;market for road&#x27; (meter-year, GLO, None)                                         </td></tr>\n",
       "<tr><td>technosphere</td><td>road maintenance                                  </td><td>meter-year   </td><td style=\"text-align: right;\"> 0.000392949</td><td>&#x27;market for road maintenance&#x27; (meter-year, RER, None)                             </td></tr>\n",
       "<tr><td>technosphere</td><td>road wear emissions, lorry                        </td><td>kilogram     </td><td style=\"text-align: right;\">-1.97596e-05</td><td>&#x27;market for road wear emissions, lorry&#x27; (kilogram, GLO, None)                     </td></tr>\n",
       "<tr><td>technosphere</td><td>tyre wear emissions, lorry                        </td><td>kilogram     </td><td style=\"text-align: right;\">-0.000227376</td><td>&#x27;market for tyre wear emissions, lorry&#x27; (kilogram, GLO, None)                     </td></tr>\n",
       "<tr><td>biosphere   </td><td>Acetaldehyde                                      </td><td>kilogram     </td><td style=\"text-align: right;\"> 2.27273e-07</td><td>&#x27;Acetaldehyde&#x27; (kilogram, None, (&#x27;air&#x27;,))                                         </td></tr>\n",
       "<tr><td>biosphere   </td><td>Acrolein                                          </td><td>kilogram     </td><td style=\"text-align: right;\"> 8.80246e-08</td><td>&#x27;Acrolein&#x27; (kilogram, None, (&#x27;air&#x27;,))                                             </td></tr>\n",
       "<tr><td>biosphere   </td><td>Ammonia                                           </td><td>kilogram     </td><td style=\"text-align: right;\"> 9.12818e-07</td><td>&#x27;Ammonia&#x27; (kilogram, None, (&#x27;air&#x27;,))                                              </td></tr>\n",
       "<tr><td>biosphere   </td><td>Arsenic ion                                       </td><td>kilogram     </td><td style=\"text-align: right;\"> 4.73021e-12</td><td>&#x27;Arsenic ion&#x27; (kilogram, None, (&#x27;air&#x27;,))                                          </td></tr>\n",
       "<tr><td>biosphere   </td><td>Benzaldehyde                                      </td><td>kilogram     </td><td style=\"text-align: right;\"> 6.8132e-08 </td><td>&#x27;Benzaldehyde&#x27; (kilogram, None, (&#x27;air&#x27;,))                                         </td></tr>\n",
       "<tr><td>biosphere   </td><td>Benzene                                           </td><td>kilogram     </td><td style=\"text-align: right;\"> 3.4812e-09 </td><td>&#x27;Benzene&#x27; (kilogram, None, (&#x27;air&#x27;,))                                              </td></tr>\n",
       "<tr><td>biosphere   </td><td>Butane                                            </td><td>kilogram     </td><td style=\"text-align: right;\"> 7.45971e-09</td><td>&#x27;Butane&#x27; (kilogram, None, (&#x27;air&#x27;,))                                               </td></tr>\n",
       "<tr><td>biosphere   </td><td>Cadmium II                                        </td><td>kilogram     </td><td style=\"text-align: right;\"> 4.11528e-10</td><td>&#x27;Cadmium II&#x27; (kilogram, None, (&#x27;air&#x27;,))                                           </td></tr>\n",
       "<tr><td>biosphere   </td><td>Carbon dioxide, fossil                            </td><td>kilogram     </td><td style=\"text-align: right;\"> 0.14962    </td><td>&#x27;Carbon dioxide, fossil&#x27; (kilogram, None, (&#x27;air&#x27;,))                               </td></tr>\n",
       "<tr><td>biosphere   </td><td>Carbon monoxide, fossil                           </td><td>kilogram     </td><td style=\"text-align: right;\"> 0.000221743</td><td>&#x27;Carbon monoxide, fossil&#x27; (kilogram, None, (&#x27;air&#x27;,))                              </td></tr>\n",
       "<tr><td>biosphere   </td><td>Chromium III                                      </td><td>kilogram     </td><td style=\"text-align: right;\"> 1.41906e-09</td><td>&#x27;Chromium III&#x27; (kilogram, None, (&#x27;air&#x27;,))                                         </td></tr>\n",
       "<tr><td>biosphere   </td><td>Chromium VI                                       </td><td>kilogram     </td><td style=\"text-align: right;\"> 2.83813e-12</td><td>&#x27;Chromium VI&#x27; (kilogram, None, (&#x27;air&#x27;,))                                          </td></tr>\n",
       "<tr><td>biosphere   </td><td>Copper ion                                        </td><td>kilogram     </td><td style=\"text-align: right;\"> 1.0028e-09 </td><td>&#x27;Copper ion&#x27; (kilogram, None, (&#x27;air&#x27;,))                                           </td></tr>\n",
       "<tr><td>biosphere   </td><td>Dinitrogen monoxide                               </td><td>kilogram     </td><td style=\"text-align: right;\"> 9.2328e-06 </td><td>&#x27;Dinitrogen monoxide&#x27; (kilogram, None, (&#x27;air&#x27;,))                                  </td></tr>\n",
       "<tr><td>biosphere   </td><td>Ethane                                            </td><td>kilogram     </td><td style=\"text-align: right;\"> 1.49194e-09</td><td>&#x27;Ethane&#x27; (kilogram, None, (&#x27;air&#x27;,))                                               </td></tr>\n",
       "<tr><td>biosphere   </td><td>Formaldehyde                                      </td><td>kilogram     </td><td style=\"text-align: right;\"> 4.17744e-07</td><td>&#x27;Formaldehyde&#x27; (kilogram, None, (&#x27;air&#x27;,))                                         </td></tr>\n",
       "<tr><td>biosphere   </td><td>Heptane                                           </td><td>kilogram     </td><td style=\"text-align: right;\"> 1.49194e-08</td><td>&#x27;Heptane&#x27; (kilogram, None, (&#x27;air&#x27;,))                                              </td></tr>\n",
       "<tr><td>biosphere   </td><td>Lead II                                           </td><td>kilogram     </td><td style=\"text-align: right;\"> 2.46444e-09</td><td>&#x27;Lead II&#x27; (kilogram, None, (&#x27;air&#x27;,))                                              </td></tr>\n",
       "<tr><td>biosphere   </td><td>Mercury II                                        </td><td>kilogram     </td><td style=\"text-align: right;\"> 2.50701e-10</td><td>&#x27;Mercury II&#x27; (kilogram, None, (&#x27;air&#x27;,))                                           </td></tr>\n",
       "<tr><td>biosphere   </td><td>Methane, fossil                                   </td><td>kilogram     </td><td style=\"text-align: right;\"> 1.2229e-07 </td><td>&#x27;Methane, fossil&#x27; (kilogram, None, (&#x27;air&#x27;,))                                      </td></tr>\n",
       "<tr><td>biosphere   </td><td>NMVOC, non-methane volatile organic compounds     </td><td>kilogram     </td><td style=\"text-align: right;\"> 4.03968e-06</td><td>&#x27;NMVOC, non-methane volatile organic compounds&#x27; (kilogram, None, (&#x27;air&#x27;,))        </td></tr>\n",
       "<tr><td>biosphere   </td><td>Nickel II                                         </td><td>kilogram     </td><td style=\"text-align: right;\"> 4.16259e-10</td><td>&#x27;Nickel II&#x27; (kilogram, None, (&#x27;air&#x27;,))                                            </td></tr>\n",
       "<tr><td>biosphere   </td><td>Nitrogen oxides                                   </td><td>kilogram     </td><td style=\"text-align: right;\"> 0.000398169</td><td>&#x27;Nitrogen oxides&#x27; (kilogram, None, (&#x27;air&#x27;,))                                      </td></tr>\n",
       "<tr><td>biosphere   </td><td>PAH, polycyclic aromatic hydrocarbons             </td><td>kilogram     </td><td style=\"text-align: right;\"> 3.69902e-09</td><td>&#x27;PAH, polycyclic aromatic hydrocarbons&#x27; (kilogram, None, (&#x27;air&#x27;,))                </td></tr>\n",
       "<tr><td>biosphere   </td><td>Particulate Matter, &lt; 2.5 um                      </td><td>kilogram     </td><td style=\"text-align: right;\"> 4.12921e-06</td><td>&#x27;Particulate Matter, &lt; 2.5 um&#x27; (kilogram, None, (&#x27;air&#x27;,))                         </td></tr>\n",
       "<tr><td>biosphere   </td><td>Pentane                                           </td><td>kilogram     </td><td style=\"text-align: right;\"> 2.98388e-09</td><td>&#x27;Pentane&#x27; (kilogram, None, (&#x27;air&#x27;,))                                              </td></tr>\n",
       "<tr><td>biosphere   </td><td>Propane                                           </td><td>kilogram     </td><td style=\"text-align: right;\"> 4.97314e-09</td><td>&#x27;Propane&#x27; (kilogram, None, (&#x27;air&#x27;,))                                              </td></tr>\n",
       "<tr><td>biosphere   </td><td>Selenium IV                                       </td><td>kilogram     </td><td style=\"text-align: right;\"> 4.73021e-12</td><td>&#x27;Selenium IV&#x27; (kilogram, None, (&#x27;air&#x27;,))                                          </td></tr>\n",
       "<tr><td>biosphere   </td><td>Styrene                                           </td><td>kilogram     </td><td style=\"text-align: right;\"> 2.78496e-08</td><td>&#x27;Styrene&#x27; (kilogram, None, (&#x27;air&#x27;,))                                              </td></tr>\n",
       "<tr><td>biosphere   </td><td>Sulfur dioxide                                    </td><td>kilogram     </td><td style=\"text-align: right;\"> 7.40294e-07</td><td>&#x27;Sulfur dioxide&#x27; (kilogram, None, (&#x27;air&#x27;,))                                       </td></tr>\n",
       "<tr><td>biosphere   </td><td>Toluene                                           </td><td>kilogram     </td><td style=\"text-align: right;\"> 4.97314e-10</td><td>&#x27;Toluene&#x27; (kilogram, None, (&#x27;air&#x27;,))                                              </td></tr>\n",
       "<tr><td>biosphere   </td><td>Zinc II                                           </td><td>kilogram     </td><td style=\"text-align: right;\"> 8.22111e-08</td><td>&#x27;Zinc II&#x27; (kilogram, None, (&#x27;air&#x27;,))                                              </td></tr>\n",
       "<tr><td>biosphere   </td><td>m-Xylene                                          </td><td>kilogram     </td><td style=\"text-align: right;\"> 4.87368e-08</td><td>&#x27;m-Xylene&#x27; (kilogram, None, (&#x27;air&#x27;,))                                             </td></tr>\n",
       "<tr><td>biosphere   </td><td>o-Xylene                                          </td><td>kilogram     </td><td style=\"text-align: right;\"> 1.98926e-08</td><td>&#x27;o-Xylene&#x27; (kilogram, None, (&#x27;air&#x27;,))                                             </td></tr>\n",
       "</tbody>\n",
       "</table>"
      ],
      "text/plain": [
       "'<table>\\n<tbody>\\n<tr><td>production  </td><td>transport, freight, lorry 7.5-16 metric ton, EURO5</td><td>ton kilometer</td><td style=\"text-align: right;\"> 1          </td><td>&#x27;B, transport, freight, lorry 7.5-16 metric ton, EURO5&#x27; (ton kilometer, RER, None)</td></tr>\\n<tr><td>technosphere</td><td>brake wear emissions, lorry                       </td><td>kilogram     </td><td style=\"text-align: right;\">-2.29493e-05</td><td>&#x27;market for brake wear emissions, lorry&#x27; (kilogram, GLO, None)                    </td></tr>\\n<tr><td>technosphere</td><td>diesel, low-sulfur                                </td><td>kilogram     </td><td style=\"text-align: right;\"> 0.0473021  </td><td>&#x27;market group for diesel, low-sulfur&#x27; (kilogram, RER, None)                       </td></tr>\\n<tr><td>technosphere</td><td>lorry, 16 metric ton                              </td><td>unit         </td><td style=\"text-align: right;\"> 5.63e-07   </td><td>&#x27;market for lorry, 16 metric ton&#x27; (unit, RER, None)                               </td></tr>\\n<tr><td>technosphere</td><td>maintenance, lorry 16 metric ton                  </td><td>unit         </td><td style=\"text-align: right;\"> 5.63e-07   </td><td>&#x27;market for maintenance, lorry 16 metric ton&#x27; (unit, RER, None)                   </td></tr>\\n<tr><td>technosphere</td><td>road                                              </td><td>meter-year   </td><td style=\"text-align: right;\"> 0.00109    </td><td>&#x27;market for road&#x27; (meter-year, GLO, None)                                         </td></tr>\\n<tr><td>technosphere</td><td>road maintenance                                  </td><td>meter-year   </td><td style=\"text-align: right;\"> 0.000392949</td><td>&#x27;market for road maintenance&#x27; (meter-year, RER, None)                             </td></tr>\\n<tr><td>technosphere</td><td>road wear emissions, lorry                        </td><td>kilogram     </td><td style=\"text-align: right;\">-1.97596e-05</td><td>&#x27;market for road wear emissions, lorry&#x27; (kilogram, GLO, None)                     </td></tr>\\n<tr><td>technosphere</td><td>tyre wear emissions, lorry                        </td><td>kilogram     </td><td style=\"text-align: right;\">-0.000227376</td><td>&#x27;market for tyre wear emissions, lorry&#x27; (kilogram, GLO, None)                     </td></tr>\\n<tr><td>biosphere   </td><td>Acetaldehyde                                      </td><td>kilogram     </td><td style=\"text-align: right;\"> 2.27273e-07</td><td>&#x27;Acetaldehyde&#x27; (kilogram, None, (&#x27;air&#x27;,))                                         </td></tr>\\n<tr><td>biosphere   </td><td>Acrolein                                          </td><td>kilogram     </td><td style=\"text-align: right;\"> 8.80246e-08</td><td>&#x27;Acrolein&#x27; (kilogram, None, (&#x27;air&#x27;,))                                             </td></tr>\\n<tr><td>biosphere   </td><td>Ammonia                                           </td><td>kilogram     </td><td style=\"text-align: right;\"> 9.12818e-07</td><td>&#x27;Ammonia&#x27; (kilogram, None, (&#x27;air&#x27;,))                                              </td></tr>\\n<tr><td>biosphere   </td><td>Arsenic ion                                       </td><td>kilogram     </td><td style=\"text-align: right;\"> 4.73021e-12</td><td>&#x27;Arsenic ion&#x27; (kilogram, None, (&#x27;air&#x27;,))                                          </td></tr>\\n<tr><td>biosphere   </td><td>Benzaldehyde                                      </td><td>kilogram     </td><td style=\"text-align: right;\"> 6.8132e-08 </td><td>&#x27;Benzaldehyde&#x27; (kilogram, None, (&#x27;air&#x27;,))                                         </td></tr>\\n<tr><td>biosphere   </td><td>Benzene                                           </td><td>kilogram     </td><td style=\"text-align: right;\"> 3.4812e-09 </td><td>&#x27;Benzene&#x27; (kilogram, None, (&#x27;air&#x27;,))                                              </td></tr>\\n<tr><td>biosphere   </td><td>Butane                                            </td><td>kilogram     </td><td style=\"text-align: right;\"> 7.45971e-09</td><td>&#x27;Butane&#x27; (kilogram, None, (&#x27;air&#x27;,))                                               </td></tr>\\n<tr><td>biosphere   </td><td>Cadmium II                                        </td><td>kilogram     </td><td style=\"text-align: right;\"> 4.11528e-10</td><td>&#x27;Cadmium II&#x27; (kilogram, None, (&#x27;air&#x27;,))                                           </td></tr>\\n<tr><td>biosphere   </td><td>Carbon dioxide, fossil                            </td><td>kilogram     </td><td style=\"text-align: right;\"> 0.14962    </td><td>&#x27;Carbon dioxide, fossil&#x27; (kilogram, None, (&#x27;air&#x27;,))                               </td></tr>\\n<tr><td>biosphere   </td><td>Carbon monoxide, fossil                           </td><td>kilogram     </td><td style=\"text-align: right;\"> 0.000221743</td><td>&#x27;Carbon monoxide, fossil&#x27; (kilogram, None, (&#x27;air&#x27;,))                              </td></tr>\\n<tr><td>biosphere   </td><td>Chromium III                                      </td><td>kilogram     </td><td style=\"text-align: right;\"> 1.41906e-09</td><td>&#x27;Chromium III&#x27; (kilogram, None, (&#x27;air&#x27;,))                                         </td></tr>\\n<tr><td>biosphere   </td><td>Chromium VI                                       </td><td>kilogram     </td><td style=\"text-align: right;\"> 2.83813e-12</td><td>&#x27;Chromium VI&#x27; (kilogram, None, (&#x27;air&#x27;,))                                          </td></tr>\\n<tr><td>biosphere   </td><td>Copper ion                                        </td><td>kilogram     </td><td style=\"text-align: right;\"> 1.0028e-09 </td><td>&#x27;Copper ion&#x27; (kilogram, None, (&#x27;air&#x27;,))                                           </td></tr>\\n<tr><td>biosphere   </td><td>Dinitrogen monoxide                               </td><td>kilogram     </td><td style=\"text-align: right;\"> 9.2328e-06 </td><td>&#x27;Dinitrogen monoxide&#x27; (kilogram, None, (&#x27;air&#x27;,))                                  </td></tr>\\n<tr><td>biosphere   </td><td>Ethane                                            </td><td>kilogram     </td><td style=\"text-align: right;\"> 1.49194e-09</td><td>&#x27;Ethane&#x27; (kilogram, None, (&#x27;air&#x27;,))                                               </td></tr>\\n<tr><td>biosphere   </td><td>Formaldehyde                                      </td><td>kilogram     </td><td style=\"text-align: right;\"> 4.17744e-07</td><td>&#x27;Formaldehyde&#x27; (kilogram, None, (&#x27;air&#x27;,))                                         </td></tr>\\n<tr><td>biosphere   </td><td>Heptane                                           </td><td>kilogram     </td><td style=\"text-align: right;\"> 1.49194e-08</td><td>&#x27;Heptane&#x27; (kilogram, None, (&#x27;air&#x27;,))                                              </td></tr>\\n<tr><td>biosphere   </td><td>Lead II                                           </td><td>kilogram     </td><td style=\"text-align: right;\"> 2.46444e-09</td><td>&#x27;Lead II&#x27; (kilogram, None, (&#x27;air&#x27;,))                                              </td></tr>\\n<tr><td>biosphere   </td><td>Mercury II                                        </td><td>kilogram     </td><td style=\"text-align: right;\"> 2.50701e-10</td><td>&#x27;Mercury II&#x27; (kilogram, None, (&#x27;air&#x27;,))                                           </td></tr>\\n<tr><td>biosphere   </td><td>Methane, fossil                                   </td><td>kilogram     </td><td style=\"text-align: right;\"> 1.2229e-07 </td><td>&#x27;Methane, fossil&#x27; (kilogram, None, (&#x27;air&#x27;,))                                      </td></tr>\\n<tr><td>biosphere   </td><td>NMVOC, non-methane volatile organic compounds     </td><td>kilogram     </td><td style=\"text-align: right;\"> 4.03968e-06</td><td>&#x27;NMVOC, non-methane volatile organic compounds&#x27; (kilogram, None, (&#x27;air&#x27;,))        </td></tr>\\n<tr><td>biosphere   </td><td>Nickel II                                         </td><td>kilogram     </td><td style=\"text-align: right;\"> 4.16259e-10</td><td>&#x27;Nickel II&#x27; (kilogram, None, (&#x27;air&#x27;,))                                            </td></tr>\\n<tr><td>biosphere   </td><td>Nitrogen oxides                                   </td><td>kilogram     </td><td style=\"text-align: right;\"> 0.000398169</td><td>&#x27;Nitrogen oxides&#x27; (kilogram, None, (&#x27;air&#x27;,))                                      </td></tr>\\n<tr><td>biosphere   </td><td>PAH, polycyclic aromatic hydrocarbons             </td><td>kilogram     </td><td style=\"text-align: right;\"> 3.69902e-09</td><td>&#x27;PAH, polycyclic aromatic hydrocarbons&#x27; (kilogram, None, (&#x27;air&#x27;,))                </td></tr>\\n<tr><td>biosphere   </td><td>Particulate Matter, &lt; 2.5 um                      </td><td>kilogram     </td><td style=\"text-align: right;\"> 4.12921e-06</td><td>&#x27;Particulate Matter, &lt; 2.5 um&#x27; (kilogram, None, (&#x27;air&#x27;,))                         </td></tr>\\n<tr><td>biosphere   </td><td>Pentane                                           </td><td>kilogram     </td><td style=\"text-align: right;\"> 2.98388e-09</td><td>&#x27;Pentane&#x27; (kilogram, None, (&#x27;air&#x27;,))                                              </td></tr>\\n<tr><td>biosphere   </td><td>Propane                                           </td><td>kilogram     </td><td style=\"text-align: right;\"> 4.97314e-09</td><td>&#x27;Propane&#x27; (kilogram, None, (&#x27;air&#x27;,))                                              </td></tr>\\n<tr><td>biosphere   </td><td>Selenium IV                                       </td><td>kilogram     </td><td style=\"text-align: right;\"> 4.73021e-12</td><td>&#x27;Selenium IV&#x27; (kilogram, None, (&#x27;air&#x27;,))                                          </td></tr>\\n<tr><td>biosphere   </td><td>Styrene                                           </td><td>kilogram     </td><td style=\"text-align: right;\"> 2.78496e-08</td><td>&#x27;Styrene&#x27; (kilogram, None, (&#x27;air&#x27;,))                                              </td></tr>\\n<tr><td>biosphere   </td><td>Sulfur dioxide                                    </td><td>kilogram     </td><td style=\"text-align: right;\"> 7.40294e-07</td><td>&#x27;Sulfur dioxide&#x27; (kilogram, None, (&#x27;air&#x27;,))                                       </td></tr>\\n<tr><td>biosphere   </td><td>Toluene                                           </td><td>kilogram     </td><td style=\"text-align: right;\"> 4.97314e-10</td><td>&#x27;Toluene&#x27; (kilogram, None, (&#x27;air&#x27;,))                                              </td></tr>\\n<tr><td>biosphere   </td><td>Zinc II                                           </td><td>kilogram     </td><td style=\"text-align: right;\"> 8.22111e-08</td><td>&#x27;Zinc II&#x27; (kilogram, None, (&#x27;air&#x27;,))                                              </td></tr>\\n<tr><td>biosphere   </td><td>m-Xylene                                          </td><td>kilogram     </td><td style=\"text-align: right;\"> 4.87368e-08</td><td>&#x27;m-Xylene&#x27; (kilogram, None, (&#x27;air&#x27;,))                                             </td></tr>\\n<tr><td>biosphere   </td><td>o-Xylene                                          </td><td>kilogram     </td><td style=\"text-align: right;\"> 1.98926e-08</td><td>&#x27;o-Xylene&#x27; (kilogram, None, (&#x27;air&#x27;,))                                             </td></tr>\\n</tbody>\\n</table>'"
      ]
     },
     "execution_count": 34,
     "metadata": {},
     "output_type": "execute_result"
    }
   ],
   "source": [
    "# Look at technosphere exhanges characterizing activity lorry_B\n",
    "rows = []\n",
    "for exc in lorry_B.exchanges():\n",
    "    exc_row = {\n",
    "        field: value\n",
    "        for field, value in exc.as_dict().items()\n",
    "        if field in [\"amount\", \"unit\", \"name\", \"type\"]\n",
    "    }\n",
    "    exchange_activity = bd.get_activity(exc[\"input\"])\n",
    "    exc_row[\"activity\"] = str(exchange_activity)\n",
    "    rows.append(exc_row)\n",
    "tabulate(rows, tablefmt=\"html\")"
   ]
  },
  {
   "cell_type": "code",
   "execution_count": 35,
   "id": "0a9a3d30-3d78-4a4c-adb7-8d2f36ac6417",
   "metadata": {
    "scrolled": true
   },
   "outputs": [
    {
     "data": {
      "text/plain": [
       "{'flow': 'b80eb2d5-1256-41bb-a61d-83252d0dfd4d',\n",
       " 'type': 'technosphere',\n",
       " 'name': 'diesel, low-sulfur',\n",
       " 'classifications': {'CPC': ['33360: Gas oil']},\n",
       " 'production volume': 0.0,\n",
       " 'properties': {'carbon allocation': {'amount': 0.865, 'unit': 'kg'},\n",
       "  'carbon content': {'amount': 0.865, 'unit': 'dimensionless'},\n",
       "  'carbon content, fossil': {'amount': 0.865,\n",
       "   'comment': 'C-content of diesel low-sulfur is 86.5% (ecoinvent v2.2 report 6_IV, Tab 3.14)',\n",
       "   'unit': 'dimensionless'},\n",
       "  'carbon content, non-fossil': {'amount': 0.0, 'unit': 'dimensionless'},\n",
       "  'dry mass': {'amount': 1.0, 'unit': 'kg'},\n",
       "  'heating value, net': {'amount': 42.8,\n",
       "   'comment': 'Based on literature, page 16, Report6, part 4',\n",
       "   'unit': 'MJ'},\n",
       "  'water content': {'amount': 0.0,\n",
       "   'comment': 'water mass/dry mass',\n",
       "   'unit': 'dimensionless'},\n",
       "  'water in wet mass': {'amount': 0.0, 'unit': 'kg'},\n",
       "  'wet mass': {'amount': 1.0, 'unit': 'kg'}},\n",
       " 'activity': '427d868d-e90c-5da5-bde4-ff61ebd30a6f',\n",
       " 'unit': 'kilogram',\n",
       " 'comment': 'Literature value. Derived from HBEFA database (Keller, 2010).',\n",
       " 'amount': 0.047302103,\n",
       " 'pedigree': {'reliability': 2,\n",
       "  'completeness': 2,\n",
       "  'temporal correlation': 5,\n",
       "  'geographical correlation': 1,\n",
       "  'further technological correlation': 1},\n",
       " 'uncertainty type': 2,\n",
       " 'loc': -3.0512005235846567,\n",
       " 'scale': 0.20322401432901577,\n",
       " 'scale without pedigree': 0.02449489742783178,\n",
       " 'input': ('ecoinvent-3.9.1-cutoff', 'dd8c4592566324f305c02bded60371cc'),\n",
       " 'output': ('ecoinvent-3.9.1-cutoff', '3ef9e6df69024fe8b89f4dfbc9a2eab0')}"
      ]
     },
     "execution_count": 35,
     "metadata": {},
     "output_type": "execute_result"
    }
   ],
   "source": [
    "# detail look to exchanges of interest\n",
    "[\n",
    "    exc for exc in lorry_B.technosphere() if exc.get(\"name\", \"\") == \"diesel, low-sulfur\"\n",
    "].pop().as_dict()  # market group for diesel, low-sulfur"
   ]
  },
  {
   "cell_type": "markdown",
   "id": "46e8fc8a-a58e-4bf8-982a-3d0f0b12abd3",
   "metadata": {},
   "source": [
    "### Remove all exchanges from lorry_B and car_B, except diesel and petrol low-sulfur"
   ]
  },
  {
   "cell_type": "code",
   "execution_count": 36,
   "id": "13fde867-7fab-45c5-a74d-e8b2939673a9",
   "metadata": {},
   "outputs": [],
   "source": [
    "# Iterate over exchanges in lorry_B\n",
    "for exc in lorry_B.technosphere():\n",
    "    if exc[\"name\"] != \"diesel, low-sulfur\":\n",
    "        # Delete exchange\n",
    "        exc.delete()"
   ]
  },
  {
   "cell_type": "markdown",
   "id": "10f66f56-4ffc-4921-860d-1f79a68896b4",
   "metadata": {},
   "source": [
    "Let's verify the exchanges for the activity  now"
   ]
  },
  {
   "cell_type": "code",
   "execution_count": 37,
   "id": "83802e75-13c4-43e7-ad65-f9d8efac7ea4",
   "metadata": {},
   "outputs": [
    {
     "data": {
      "text/html": [
       "<table>\n",
       "<tbody>\n",
       "<tr><td>technosphere</td><td>diesel, low-sulfur</td><td>kilogram</td><td style=\"text-align: right;\">0.0473021</td><td>&#x27;market group for diesel, low-sulfur&#x27; (kilogram, RER, None)</td></tr>\n",
       "</tbody>\n",
       "</table>"
      ],
      "text/plain": [
       "'<table>\\n<tbody>\\n<tr><td>technosphere</td><td>diesel, low-sulfur</td><td>kilogram</td><td style=\"text-align: right;\">0.0473021</td><td>&#x27;market group for diesel, low-sulfur&#x27; (kilogram, RER, None)</td></tr>\\n</tbody>\\n</table>'"
      ]
     },
     "execution_count": 37,
     "metadata": {},
     "output_type": "execute_result"
    }
   ],
   "source": [
    "# Look at exhanges characterizing activity lorry_B\n",
    "rows = []\n",
    "for exc in lorry_B.technosphere():\n",
    "    exc_row = {\n",
    "        field: value\n",
    "        for field, value in exc.as_dict().items()\n",
    "        if field in [\"amount\", \"unit\", \"name\", \"type\"]\n",
    "    }\n",
    "    exchange_activity = bd.get_activity(exc[\"input\"])\n",
    "    exc_row[\"activity\"] = str(exchange_activity)\n",
    "    rows.append(exc_row)\n",
    "tabulate(rows, tablefmt=\"html\")"
   ]
  },
  {
   "cell_type": "markdown",
   "id": "df46146d-ed10-42b2-975d-0d4ff6b193bc",
   "metadata": {},
   "source": [
    "Let's repeat for B, transport, passenger car, medium size, petrol, EURO 5"
   ]
  },
  {
   "cell_type": "code",
   "execution_count": 38,
   "id": "74314d96-1fff-4fa3-847a-fe829dbcf360",
   "metadata": {
    "scrolled": true
   },
   "outputs": [
    {
     "data": {
      "text/html": [
       "<table>\n",
       "<tbody>\n",
       "<tr><td>technosphere</td><td>brake wear emissions, passenger car</td><td>kilogram  </td><td style=\"text-align: right;\">-7.55254e-06</td><td>&#x27;market for brake wear emissions, passenger car&#x27; (kilogram, GLO, None)      </td></tr>\n",
       "<tr><td>technosphere</td><td>passenger car maintenance          </td><td>unit      </td><td style=\"text-align: right;\"> 8.60215e-06</td><td>&#x27;maintenance, passenger car&#x27; (unit, RER, None)                              </td></tr>\n",
       "<tr><td>technosphere</td><td>passenger car, petrol/natural gas  </td><td>kilogram  </td><td style=\"text-align: right;\"> 0.0106667  </td><td>&#x27;market for passenger car, petrol/natural gas&#x27; (kilogram, GLO, None)        </td></tr>\n",
       "<tr><td>technosphere</td><td>petrol, low-sulfur                 </td><td>kilogram  </td><td style=\"text-align: right;\"> 0.0609059  </td><td>&#x27;market for petrol, low-sulfur&#x27; (kilogram, Europe without Switzerland, None)</td></tr>\n",
       "<tr><td>technosphere</td><td>petrol, low-sulfur                 </td><td>kilogram  </td><td style=\"text-align: right;\"> 0.00116086 </td><td>&#x27;market for petrol, low-sulfur&#x27; (kilogram, CH, None)                        </td></tr>\n",
       "<tr><td>technosphere</td><td>road                               </td><td>meter-year</td><td style=\"text-align: right;\"> 0.000911396</td><td>&#x27;market for road&#x27; (meter-year, GLO, None)                                   </td></tr>\n",
       "<tr><td>technosphere</td><td>road maintenance                   </td><td>meter-year</td><td style=\"text-align: right;\"> 0.000265427</td><td>&#x27;market for road maintenance&#x27; (meter-year, RER, None)                       </td></tr>\n",
       "<tr><td>technosphere</td><td>road wear emissions, passenger car </td><td>kilogram  </td><td style=\"text-align: right;\">-1.66156e-05</td><td>&#x27;market for road wear emissions, passenger car&#x27; (kilogram, GLO, None)       </td></tr>\n",
       "<tr><td>technosphere</td><td>tyre wear emissions, passenger car </td><td>kilogram  </td><td style=\"text-align: right;\">-9.71647e-05</td><td>&#x27;market for tyre wear emissions, passenger car&#x27; (kilogram, GLO, None)       </td></tr>\n",
       "</tbody>\n",
       "</table>"
      ],
      "text/plain": [
       "'<table>\\n<tbody>\\n<tr><td>technosphere</td><td>brake wear emissions, passenger car</td><td>kilogram  </td><td style=\"text-align: right;\">-7.55254e-06</td><td>&#x27;market for brake wear emissions, passenger car&#x27; (kilogram, GLO, None)      </td></tr>\\n<tr><td>technosphere</td><td>passenger car maintenance          </td><td>unit      </td><td style=\"text-align: right;\"> 8.60215e-06</td><td>&#x27;maintenance, passenger car&#x27; (unit, RER, None)                              </td></tr>\\n<tr><td>technosphere</td><td>passenger car, petrol/natural gas  </td><td>kilogram  </td><td style=\"text-align: right;\"> 0.0106667  </td><td>&#x27;market for passenger car, petrol/natural gas&#x27; (kilogram, GLO, None)        </td></tr>\\n<tr><td>technosphere</td><td>petrol, low-sulfur                 </td><td>kilogram  </td><td style=\"text-align: right;\"> 0.0609059  </td><td>&#x27;market for petrol, low-sulfur&#x27; (kilogram, Europe without Switzerland, None)</td></tr>\\n<tr><td>technosphere</td><td>petrol, low-sulfur                 </td><td>kilogram  </td><td style=\"text-align: right;\"> 0.00116086 </td><td>&#x27;market for petrol, low-sulfur&#x27; (kilogram, CH, None)                        </td></tr>\\n<tr><td>technosphere</td><td>road                               </td><td>meter-year</td><td style=\"text-align: right;\"> 0.000911396</td><td>&#x27;market for road&#x27; (meter-year, GLO, None)                                   </td></tr>\\n<tr><td>technosphere</td><td>road maintenance                   </td><td>meter-year</td><td style=\"text-align: right;\"> 0.000265427</td><td>&#x27;market for road maintenance&#x27; (meter-year, RER, None)                       </td></tr>\\n<tr><td>technosphere</td><td>road wear emissions, passenger car </td><td>kilogram  </td><td style=\"text-align: right;\">-1.66156e-05</td><td>&#x27;market for road wear emissions, passenger car&#x27; (kilogram, GLO, None)       </td></tr>\\n<tr><td>technosphere</td><td>tyre wear emissions, passenger car </td><td>kilogram  </td><td style=\"text-align: right;\">-9.71647e-05</td><td>&#x27;market for tyre wear emissions, passenger car&#x27; (kilogram, GLO, None)       </td></tr>\\n</tbody>\\n</table>'"
      ]
     },
     "execution_count": 38,
     "metadata": {},
     "output_type": "execute_result"
    }
   ],
   "source": [
    "# Look at technosphere exhanges characterizing activity car_B\n",
    "rows = []\n",
    "for exc in car_B.technosphere():\n",
    "    exc_row = {\n",
    "        field: value\n",
    "        for field, value in exc.as_dict().items()\n",
    "        if field in [\"amount\", \"unit\", \"name\", \"type\"]\n",
    "    }\n",
    "    exchange_activity = bd.get_activity(exc[\"input\"])\n",
    "    exc_row[\"activity\"] = str(exchange_activity)\n",
    "    rows.append(exc_row)\n",
    "tabulate(rows, tablefmt=\"html\")"
   ]
  },
  {
   "cell_type": "code",
   "execution_count": 39,
   "id": "d72172f4-c5ad-4681-b633-21765114dcb0",
   "metadata": {
    "scrolled": true
   },
   "outputs": [
    {
     "data": {
      "text/plain": [
       "[Exchange: 0.06090593821630414 kilogram 'market for petrol, low-sulfur' (kilogram, Europe without Switzerland, None) to 'B, transport, passenger car, medium size, petrol, EURO 5' (kilometer, RER, None)>,\n",
       " Exchange: 0.001160855383695865 kilogram 'market for petrol, low-sulfur' (kilogram, CH, None) to 'B, transport, passenger car, medium size, petrol, EURO 5' (kilometer, RER, None)>]"
      ]
     },
     "execution_count": 39,
     "metadata": {},
     "output_type": "execute_result"
    }
   ],
   "source": [
    "# detail look to exchanges of interest\n",
    "[exc for exc in car_B.technosphere() if \"petrol, low-sulfur\" in exc.get(\"name\", \"\")]\n",
    "# market for petrol, low-sulfur - Europe without Szwitzerland\n",
    "# market for petrol, low-sulfur - CH"
   ]
  },
  {
   "cell_type": "code",
   "execution_count": 40,
   "id": "f897d9b2-7353-4500-b635-266a62577350",
   "metadata": {},
   "outputs": [],
   "source": [
    "# Iterate over exchanges in car_B\n",
    "for exc in car_B.technosphere():\n",
    "    if exc[\"name\"] != \"petrol, low-sulfur\":\n",
    "        # delete exchange\n",
    "        exc.delete()\n",
    "        # exc.save()"
   ]
  },
  {
   "cell_type": "code",
   "execution_count": 41,
   "id": "6cd414c4-639c-475e-b67a-6d3d761ff852",
   "metadata": {},
   "outputs": [
    {
     "data": {
      "text/html": [
       "<table>\n",
       "<tbody>\n",
       "<tr><td>technosphere</td><td>petrol, low-sulfur</td><td>kilogram</td><td style=\"text-align: right;\">0.0609059 </td><td>&#x27;market for petrol, low-sulfur&#x27; (kilogram, Europe without Switzerland, None)</td></tr>\n",
       "<tr><td>technosphere</td><td>petrol, low-sulfur</td><td>kilogram</td><td style=\"text-align: right;\">0.00116086</td><td>&#x27;market for petrol, low-sulfur&#x27; (kilogram, CH, None)                        </td></tr>\n",
       "</tbody>\n",
       "</table>"
      ],
      "text/plain": [
       "'<table>\\n<tbody>\\n<tr><td>technosphere</td><td>petrol, low-sulfur</td><td>kilogram</td><td style=\"text-align: right;\">0.0609059 </td><td>&#x27;market for petrol, low-sulfur&#x27; (kilogram, Europe without Switzerland, None)</td></tr>\\n<tr><td>technosphere</td><td>petrol, low-sulfur</td><td>kilogram</td><td style=\"text-align: right;\">0.00116086</td><td>&#x27;market for petrol, low-sulfur&#x27; (kilogram, CH, None)                        </td></tr>\\n</tbody>\\n</table>'"
      ]
     },
     "execution_count": 41,
     "metadata": {},
     "output_type": "execute_result"
    }
   ],
   "source": [
    "# Look at exhanges characterizing activity car_B\n",
    "rows = []\n",
    "for exc in car_B.technosphere():\n",
    "    exc_row = {\n",
    "        field: value\n",
    "        for field, value in exc.as_dict().items()\n",
    "        if field in [\"amount\", \"unit\", \"name\", \"type\"]\n",
    "    }\n",
    "    exchange_activity = bd.get_activity(exc[\"input\"])\n",
    "    exc_row[\"activity\"] = str(exchange_activity)\n",
    "    rows.append(exc_row)\n",
    "tabulate(rows, tablefmt=\"html\")"
   ]
  },
  {
   "cell_type": "markdown",
   "id": "b71790dc-6ef5-4bca-a76d-78a206b3127e",
   "metadata": {},
   "source": [
    "## Adding basalt quarry operation modified process\n",
    "\n",
    "This processs is based on the following ecoinvent process:\n",
    "\n",
    "- basalt quarry operation - RER\n",
    "\n",
    "The new process is modified to set:\n",
    "+ the basalt biosphere exchange amount to 0,\n",
    "+ the technosphere limestone quarry infrastructure exchange amount to 0,\n",
    "+ and multiply all the rest of the technosphere exchanges by 1,04. \n",
    "\n",
    "The name of the new process is set to\n",
    "\n",
    "- basalt quarry operation (for crushed stone) - RER"
   ]
  },
  {
   "cell_type": "code",
   "execution_count": 42,
   "id": "65bb5d43-5384-4cfc-81c8-63087fb58462",
   "metadata": {},
   "outputs": [
    {
     "name": "stdout",
     "output_type": "stream",
     "text": [
      "'basalt quarry operation (for crushed stone)' (kilogram, RER, None)\n"
     ]
    }
   ],
   "source": [
    "# Delete the basalt quarry operation in case we ran this notebook multiple times\n",
    "res = EI_DB.search(\"basalt quarry operation (for crushed stone)\")\n",
    "for r in res:\n",
    "    print(r)\n",
    "    r.delete()"
   ]
  },
  {
   "cell_type": "code",
   "execution_count": 43,
   "id": "66aa6b60-6dcf-4013-8604-4a90e2f70362",
   "metadata": {},
   "outputs": [
    {
     "name": "stdout",
     "output_type": "stream",
     "text": [
      "'basalt quarry operation' (kilogram, RER, None)\n"
     ]
    }
   ],
   "source": [
    "# Search for basalt quarry operation in background database\n",
    "q = Query()\n",
    "filter_name = Filter(\"name\", \"is\", \"basalt quarry operation\")\n",
    "filter_location = Filter(\"location\", \"is\", \"RER\")\n",
    "q.add(filter_name)\n",
    "q.add(filter_location)\n",
    "res = q(eidb_data)\n",
    "if len(res) == 1:\n",
    "    basalt = bd.get_activity(list(res).pop())\n",
    "print(basalt)"
   ]
  },
  {
   "cell_type": "markdown",
   "id": "3d5d941e-3b04-4b18-8af7-e3d9999048ad",
   "metadata": {},
   "source": [
    "### copy existing process"
   ]
  },
  {
   "cell_type": "code",
   "execution_count": 44,
   "id": "d0552104-1998-496c-87d4-554707ecf21b",
   "metadata": {},
   "outputs": [],
   "source": [
    "# Copy existing basalt process\n",
    "basalt_cs = basalt.copy(name=\"basalt quarry operation (for crushed stone)\")"
   ]
  },
  {
   "cell_type": "code",
   "execution_count": 45,
   "id": "35c70537-22d8-406b-b339-ecb247a3ea7e",
   "metadata": {},
   "outputs": [
    {
     "data": {
      "text/plain": [
       "['basalt quarry operation' (kilogram, RER, None),\n",
       " 'basalt quarry operation' (kilogram, RoW, None),\n",
       " 'basalt quarry operation (for crushed stone)' (kilogram, RER, None)]"
      ]
     },
     "execution_count": 45,
     "metadata": {},
     "output_type": "execute_result"
    }
   ],
   "source": [
    "# Verify that the new basalt process was recorded\n",
    "EI_DB.search(\"basalt quarry operation\")"
   ]
  },
  {
   "cell_type": "code",
   "execution_count": 46,
   "id": "5c1909e4-fad3-443b-8b2a-0d2c44642449",
   "metadata": {
    "scrolled": true
   },
   "outputs": [
    {
     "data": {
      "text/html": [
       "<table>\n",
       "<tbody>\n",
       "<tr><td>biosphere</td><td>Particulate Matter, &lt; 2.5 um                </td><td>kilogram         </td><td style=\"text-align: right;\">8e-06   </td><td>&#x27;Particulate Matter, &lt; 2.5 um&#x27; (kilogram, None, (&#x27;air&#x27;, &#x27;non-urban air or from high stacks&#x27;))           </td></tr>\n",
       "<tr><td>biosphere</td><td>Particulate Matter, &gt; 10 um                 </td><td>kilogram         </td><td style=\"text-align: right;\">0.000112</td><td>&#x27;Particulate Matter, &gt; 10 um&#x27; (kilogram, None, (&#x27;air&#x27;, &#x27;non-urban air or from high stacks&#x27;))            </td></tr>\n",
       "<tr><td>biosphere</td><td>Particulate Matter, &gt; 2.5 um and &lt; 10um     </td><td>kilogram         </td><td style=\"text-align: right;\">4e-05   </td><td>&#x27;Particulate Matter, &gt; 2.5 um and &lt; 10um&#x27; (kilogram, None, (&#x27;air&#x27;, &#x27;non-urban air or from high stacks&#x27;))</td></tr>\n",
       "<tr><td>biosphere</td><td>Water                                       </td><td>cubic meter      </td><td style=\"text-align: right;\">1.68e-06</td><td>&#x27;Water&#x27; (cubic meter, None, (&#x27;air&#x27;,))                                                                   </td></tr>\n",
       "<tr><td>biosphere</td><td>Water                                       </td><td>cubic meter      </td><td style=\"text-align: right;\">6.72e-06</td><td>&#x27;Water&#x27; (cubic meter, None, (&#x27;water&#x27;,))                                                                 </td></tr>\n",
       "<tr><td>biosphere</td><td>Basalt                                      </td><td>kilogram         </td><td style=\"text-align: right;\">1       </td><td>&#x27;Basalt&#x27; (kilogram, None, (&#x27;natural resource&#x27;, &#x27;in ground&#x27;))                                            </td></tr>\n",
       "<tr><td>biosphere</td><td>Occupation, mineral extraction site         </td><td>square meter-year</td><td style=\"text-align: right;\">0.00798 </td><td>&#x27;Occupation, mineral extraction site&#x27; (square meter-year, None, (&#x27;natural resource&#x27;, &#x27;land&#x27;))           </td></tr>\n",
       "<tr><td>biosphere</td><td>Transformation, from forest, unspecified    </td><td>square meter     </td><td style=\"text-align: right;\">0.000798</td><td>&#x27;Transformation, from forest, unspecified&#x27; (square meter, None, (&#x27;natural resource&#x27;, &#x27;land&#x27;))           </td></tr>\n",
       "<tr><td>biosphere</td><td>Transformation, from mineral extraction site</td><td>square meter     </td><td style=\"text-align: right;\">0.000798</td><td>&#x27;Transformation, from mineral extraction site&#x27; (square meter, None, (&#x27;natural resource&#x27;, &#x27;land&#x27;))       </td></tr>\n",
       "<tr><td>biosphere</td><td>Transformation, to mineral extraction site  </td><td>square meter     </td><td style=\"text-align: right;\">0.000798</td><td>&#x27;Transformation, to mineral extraction site&#x27; (square meter, None, (&#x27;natural resource&#x27;, &#x27;land&#x27;))         </td></tr>\n",
       "<tr><td>biosphere</td><td>Transformation, to unspecified              </td><td>square meter     </td><td style=\"text-align: right;\">0.000798</td><td>&#x27;Transformation, to unspecified&#x27; (square meter, None, (&#x27;natural resource&#x27;, &#x27;land&#x27;))                     </td></tr>\n",
       "<tr><td>biosphere</td><td>Water, lake                                 </td><td>cubic meter      </td><td style=\"text-align: right;\">8.4e-06 </td><td>&#x27;Water, lake&#x27; (cubic meter, None, (&#x27;natural resource&#x27;, &#x27;in water&#x27;))                                     </td></tr>\n",
       "</tbody>\n",
       "</table>"
      ],
      "text/plain": [
       "'<table>\\n<tbody>\\n<tr><td>biosphere</td><td>Particulate Matter, &lt; 2.5 um                </td><td>kilogram         </td><td style=\"text-align: right;\">8e-06   </td><td>&#x27;Particulate Matter, &lt; 2.5 um&#x27; (kilogram, None, (&#x27;air&#x27;, &#x27;non-urban air or from high stacks&#x27;))           </td></tr>\\n<tr><td>biosphere</td><td>Particulate Matter, &gt; 10 um                 </td><td>kilogram         </td><td style=\"text-align: right;\">0.000112</td><td>&#x27;Particulate Matter, &gt; 10 um&#x27; (kilogram, None, (&#x27;air&#x27;, &#x27;non-urban air or from high stacks&#x27;))            </td></tr>\\n<tr><td>biosphere</td><td>Particulate Matter, &gt; 2.5 um and &lt; 10um     </td><td>kilogram         </td><td style=\"text-align: right;\">4e-05   </td><td>&#x27;Particulate Matter, &gt; 2.5 um and &lt; 10um&#x27; (kilogram, None, (&#x27;air&#x27;, &#x27;non-urban air or from high stacks&#x27;))</td></tr>\\n<tr><td>biosphere</td><td>Water                                       </td><td>cubic meter      </td><td style=\"text-align: right;\">1.68e-06</td><td>&#x27;Water&#x27; (cubic meter, None, (&#x27;air&#x27;,))                                                                   </td></tr>\\n<tr><td>biosphere</td><td>Water                                       </td><td>cubic meter      </td><td style=\"text-align: right;\">6.72e-06</td><td>&#x27;Water&#x27; (cubic meter, None, (&#x27;water&#x27;,))                                                                 </td></tr>\\n<tr><td>biosphere</td><td>Basalt                                      </td><td>kilogram         </td><td style=\"text-align: right;\">1       </td><td>&#x27;Basalt&#x27; (kilogram, None, (&#x27;natural resource&#x27;, &#x27;in ground&#x27;))                                            </td></tr>\\n<tr><td>biosphere</td><td>Occupation, mineral extraction site         </td><td>square meter-year</td><td style=\"text-align: right;\">0.00798 </td><td>&#x27;Occupation, mineral extraction site&#x27; (square meter-year, None, (&#x27;natural resource&#x27;, &#x27;land&#x27;))           </td></tr>\\n<tr><td>biosphere</td><td>Transformation, from forest, unspecified    </td><td>square meter     </td><td style=\"text-align: right;\">0.000798</td><td>&#x27;Transformation, from forest, unspecified&#x27; (square meter, None, (&#x27;natural resource&#x27;, &#x27;land&#x27;))           </td></tr>\\n<tr><td>biosphere</td><td>Transformation, from mineral extraction site</td><td>square meter     </td><td style=\"text-align: right;\">0.000798</td><td>&#x27;Transformation, from mineral extraction site&#x27; (square meter, None, (&#x27;natural resource&#x27;, &#x27;land&#x27;))       </td></tr>\\n<tr><td>biosphere</td><td>Transformation, to mineral extraction site  </td><td>square meter     </td><td style=\"text-align: right;\">0.000798</td><td>&#x27;Transformation, to mineral extraction site&#x27; (square meter, None, (&#x27;natural resource&#x27;, &#x27;land&#x27;))         </td></tr>\\n<tr><td>biosphere</td><td>Transformation, to unspecified              </td><td>square meter     </td><td style=\"text-align: right;\">0.000798</td><td>&#x27;Transformation, to unspecified&#x27; (square meter, None, (&#x27;natural resource&#x27;, &#x27;land&#x27;))                     </td></tr>\\n<tr><td>biosphere</td><td>Water, lake                                 </td><td>cubic meter      </td><td style=\"text-align: right;\">8.4e-06 </td><td>&#x27;Water, lake&#x27; (cubic meter, None, (&#x27;natural resource&#x27;, &#x27;in water&#x27;))                                     </td></tr>\\n</tbody>\\n</table>'"
      ]
     },
     "execution_count": 46,
     "metadata": {},
     "output_type": "execute_result"
    }
   ],
   "source": [
    "# Look at biosphere exhanges characterizing activity basalt_cs\n",
    "rows = []\n",
    "for exc in basalt_cs.biosphere():\n",
    "    exc_row = {\n",
    "        field: value\n",
    "        for field, value in exc.as_dict().items()\n",
    "        if field in [\"amount\", \"unit\", \"name\", \"type\"]\n",
    "    }\n",
    "    exchange_activity = bd.get_activity(exc[\"input\"])\n",
    "    exc_row[\"activity\"] = str(exchange_activity)\n",
    "    rows.append(exc_row)\n",
    "tabulate(rows, tablefmt=\"html\")"
   ]
  },
  {
   "cell_type": "code",
   "execution_count": 47,
   "id": "3d6ea65e-1fd1-4a4e-8852-ba656b1a8475",
   "metadata": {
    "scrolled": true
   },
   "outputs": [
    {
     "data": {
      "text/plain": [
       "{'flow': 'ac3a8914-35f0-4c34-a956-f26b3a053e4a',\n",
       " 'type': 'biosphere',\n",
       " 'name': 'Basalt',\n",
       " 'classifications': {'CPC': []},\n",
       " 'production volume': 0.0,\n",
       " 'properties': {'carbon allocation': {'amount': 0.0, 'unit': 'kg'},\n",
       "  'carbon content': {'amount': 0.0, 'unit': 'dimensionless'},\n",
       "  'carbon content, fossil': {'amount': 0.0, 'unit': 'dimensionless'},\n",
       "  'carbon content, non-fossil': {'amount': 0.0, 'unit': 'dimensionless'},\n",
       "  'dry mass': {'amount': 1.0, 'unit': 'kg'},\n",
       "  'water content': {'amount': 0.0, 'unit': 'dimensionless'},\n",
       "  'water in wet mass': {'amount': 0.0, 'unit': 'kg'},\n",
       "  'wet mass': {'amount': 1.0, 'unit': 'kg'}},\n",
       " 'unit': 'kilogram',\n",
       " 'amount': 1.0,\n",
       " 'pedigree': {'reliability': 3,\n",
       "  'completeness': 4,\n",
       "  'temporal correlation': 5,\n",
       "  'geographical correlation': 1,\n",
       "  'further technological correlation': 3},\n",
       " 'uncertainty type': 2,\n",
       " 'loc': 0.0,\n",
       " 'scale': 0.24899799195977465,\n",
       " 'scale without pedigree': 0.1,\n",
       " 'input': ('biosphere3', 'ac3a8914-35f0-4c34-a956-f26b3a053e4a'),\n",
       " 'output': ('ecoinvent-3.9.1-cutoff', '66dc54f1a59a4ca88cfadd4f461b8a73')}"
      ]
     },
     "execution_count": 47,
     "metadata": {},
     "output_type": "execute_result"
    }
   ],
   "source": [
    "# detail look to biosphere exchanges of interest\n",
    "[\n",
    "    exc for exc in basalt_cs.biosphere() if exc.get(\"name\", \"\") == \"Basalt\"\n",
    "].pop().as_dict()  # Basalt"
   ]
  },
  {
   "cell_type": "code",
   "execution_count": 48,
   "id": "1d568494-c9d2-4ecd-85b7-52cd49a9ca6f",
   "metadata": {},
   "outputs": [],
   "source": [
    "# Iterate over biosphere exchanges in basalt_cs to change the amount of Basalt exchange to 0\n",
    "for exc in basalt_cs.biosphere():\n",
    "    if exc[\"name\"] == \"Basalt\":\n",
    "        # Update the amount in the exchange\n",
    "        exc[\"amount\"] = 0\n",
    "        exc.save()"
   ]
  },
  {
   "cell_type": "markdown",
   "id": "a29a3a9a-70e2-414c-bdd7-b99dfcce6b3c",
   "metadata": {},
   "source": [
    "### Modify Basalt flow to amount = 0"
   ]
  },
  {
   "cell_type": "code",
   "execution_count": 49,
   "id": "30d2f7f6-5bd5-4677-acff-bc8f0ca1e01b",
   "metadata": {
    "scrolled": true
   },
   "outputs": [
    {
     "data": {
      "text/html": [
       "<table>\n",
       "<tbody>\n",
       "<tr><td>biosphere</td><td>Particulate Matter, &lt; 2.5 um                </td><td>kilogram         </td><td style=\"text-align: right;\">8e-06   </td><td>&#x27;Particulate Matter, &lt; 2.5 um&#x27; (kilogram, None, (&#x27;air&#x27;, &#x27;non-urban air or from high stacks&#x27;))           </td></tr>\n",
       "<tr><td>biosphere</td><td>Particulate Matter, &gt; 10 um                 </td><td>kilogram         </td><td style=\"text-align: right;\">0.000112</td><td>&#x27;Particulate Matter, &gt; 10 um&#x27; (kilogram, None, (&#x27;air&#x27;, &#x27;non-urban air or from high stacks&#x27;))            </td></tr>\n",
       "<tr><td>biosphere</td><td>Particulate Matter, &gt; 2.5 um and &lt; 10um     </td><td>kilogram         </td><td style=\"text-align: right;\">4e-05   </td><td>&#x27;Particulate Matter, &gt; 2.5 um and &lt; 10um&#x27; (kilogram, None, (&#x27;air&#x27;, &#x27;non-urban air or from high stacks&#x27;))</td></tr>\n",
       "<tr><td>biosphere</td><td>Water                                       </td><td>cubic meter      </td><td style=\"text-align: right;\">1.68e-06</td><td>&#x27;Water&#x27; (cubic meter, None, (&#x27;air&#x27;,))                                                                   </td></tr>\n",
       "<tr><td>biosphere</td><td>Water                                       </td><td>cubic meter      </td><td style=\"text-align: right;\">6.72e-06</td><td>&#x27;Water&#x27; (cubic meter, None, (&#x27;water&#x27;,))                                                                 </td></tr>\n",
       "<tr><td>biosphere</td><td>Basalt                                      </td><td>kilogram         </td><td style=\"text-align: right;\">0       </td><td>&#x27;Basalt&#x27; (kilogram, None, (&#x27;natural resource&#x27;, &#x27;in ground&#x27;))                                            </td></tr>\n",
       "<tr><td>biosphere</td><td>Occupation, mineral extraction site         </td><td>square meter-year</td><td style=\"text-align: right;\">0.00798 </td><td>&#x27;Occupation, mineral extraction site&#x27; (square meter-year, None, (&#x27;natural resource&#x27;, &#x27;land&#x27;))           </td></tr>\n",
       "<tr><td>biosphere</td><td>Transformation, from forest, unspecified    </td><td>square meter     </td><td style=\"text-align: right;\">0.000798</td><td>&#x27;Transformation, from forest, unspecified&#x27; (square meter, None, (&#x27;natural resource&#x27;, &#x27;land&#x27;))           </td></tr>\n",
       "<tr><td>biosphere</td><td>Transformation, from mineral extraction site</td><td>square meter     </td><td style=\"text-align: right;\">0.000798</td><td>&#x27;Transformation, from mineral extraction site&#x27; (square meter, None, (&#x27;natural resource&#x27;, &#x27;land&#x27;))       </td></tr>\n",
       "<tr><td>biosphere</td><td>Transformation, to mineral extraction site  </td><td>square meter     </td><td style=\"text-align: right;\">0.000798</td><td>&#x27;Transformation, to mineral extraction site&#x27; (square meter, None, (&#x27;natural resource&#x27;, &#x27;land&#x27;))         </td></tr>\n",
       "<tr><td>biosphere</td><td>Transformation, to unspecified              </td><td>square meter     </td><td style=\"text-align: right;\">0.000798</td><td>&#x27;Transformation, to unspecified&#x27; (square meter, None, (&#x27;natural resource&#x27;, &#x27;land&#x27;))                     </td></tr>\n",
       "<tr><td>biosphere</td><td>Water, lake                                 </td><td>cubic meter      </td><td style=\"text-align: right;\">8.4e-06 </td><td>&#x27;Water, lake&#x27; (cubic meter, None, (&#x27;natural resource&#x27;, &#x27;in water&#x27;))                                     </td></tr>\n",
       "</tbody>\n",
       "</table>"
      ],
      "text/plain": [
       "'<table>\\n<tbody>\\n<tr><td>biosphere</td><td>Particulate Matter, &lt; 2.5 um                </td><td>kilogram         </td><td style=\"text-align: right;\">8e-06   </td><td>&#x27;Particulate Matter, &lt; 2.5 um&#x27; (kilogram, None, (&#x27;air&#x27;, &#x27;non-urban air or from high stacks&#x27;))           </td></tr>\\n<tr><td>biosphere</td><td>Particulate Matter, &gt; 10 um                 </td><td>kilogram         </td><td style=\"text-align: right;\">0.000112</td><td>&#x27;Particulate Matter, &gt; 10 um&#x27; (kilogram, None, (&#x27;air&#x27;, &#x27;non-urban air or from high stacks&#x27;))            </td></tr>\\n<tr><td>biosphere</td><td>Particulate Matter, &gt; 2.5 um and &lt; 10um     </td><td>kilogram         </td><td style=\"text-align: right;\">4e-05   </td><td>&#x27;Particulate Matter, &gt; 2.5 um and &lt; 10um&#x27; (kilogram, None, (&#x27;air&#x27;, &#x27;non-urban air or from high stacks&#x27;))</td></tr>\\n<tr><td>biosphere</td><td>Water                                       </td><td>cubic meter      </td><td style=\"text-align: right;\">1.68e-06</td><td>&#x27;Water&#x27; (cubic meter, None, (&#x27;air&#x27;,))                                                                   </td></tr>\\n<tr><td>biosphere</td><td>Water                                       </td><td>cubic meter      </td><td style=\"text-align: right;\">6.72e-06</td><td>&#x27;Water&#x27; (cubic meter, None, (&#x27;water&#x27;,))                                                                 </td></tr>\\n<tr><td>biosphere</td><td>Basalt                                      </td><td>kilogram         </td><td style=\"text-align: right;\">0       </td><td>&#x27;Basalt&#x27; (kilogram, None, (&#x27;natural resource&#x27;, &#x27;in ground&#x27;))                                            </td></tr>\\n<tr><td>biosphere</td><td>Occupation, mineral extraction site         </td><td>square meter-year</td><td style=\"text-align: right;\">0.00798 </td><td>&#x27;Occupation, mineral extraction site&#x27; (square meter-year, None, (&#x27;natural resource&#x27;, &#x27;land&#x27;))           </td></tr>\\n<tr><td>biosphere</td><td>Transformation, from forest, unspecified    </td><td>square meter     </td><td style=\"text-align: right;\">0.000798</td><td>&#x27;Transformation, from forest, unspecified&#x27; (square meter, None, (&#x27;natural resource&#x27;, &#x27;land&#x27;))           </td></tr>\\n<tr><td>biosphere</td><td>Transformation, from mineral extraction site</td><td>square meter     </td><td style=\"text-align: right;\">0.000798</td><td>&#x27;Transformation, from mineral extraction site&#x27; (square meter, None, (&#x27;natural resource&#x27;, &#x27;land&#x27;))       </td></tr>\\n<tr><td>biosphere</td><td>Transformation, to mineral extraction site  </td><td>square meter     </td><td style=\"text-align: right;\">0.000798</td><td>&#x27;Transformation, to mineral extraction site&#x27; (square meter, None, (&#x27;natural resource&#x27;, &#x27;land&#x27;))         </td></tr>\\n<tr><td>biosphere</td><td>Transformation, to unspecified              </td><td>square meter     </td><td style=\"text-align: right;\">0.000798</td><td>&#x27;Transformation, to unspecified&#x27; (square meter, None, (&#x27;natural resource&#x27;, &#x27;land&#x27;))                     </td></tr>\\n<tr><td>biosphere</td><td>Water, lake                                 </td><td>cubic meter      </td><td style=\"text-align: right;\">8.4e-06 </td><td>&#x27;Water, lake&#x27; (cubic meter, None, (&#x27;natural resource&#x27;, &#x27;in water&#x27;))                                     </td></tr>\\n</tbody>\\n</table>'"
      ]
     },
     "execution_count": 49,
     "metadata": {},
     "output_type": "execute_result"
    }
   ],
   "source": [
    "# verify new exchange value for Basalt in basalt_cs\n",
    "rows = []\n",
    "for exc in basalt_cs.biosphere():\n",
    "    exc_row = {\n",
    "        field: value\n",
    "        for field, value in exc.as_dict().items()\n",
    "        if field in [\"amount\", \"unit\", \"name\", \"type\"]\n",
    "    }\n",
    "    exchange_activity = bd.get_activity(exc[\"input\"])\n",
    "    exc_row[\"activity\"] = str(exchange_activity)\n",
    "    rows.append(exc_row)\n",
    "tabulate(rows, tablefmt=\"html\")"
   ]
  },
  {
   "cell_type": "code",
   "execution_count": 50,
   "id": "6704bc24-227e-4c44-b405-5a64a603066a",
   "metadata": {
    "scrolled": true
   },
   "outputs": [
    {
     "data": {
      "text/html": [
       "<table>\n",
       "<tbody>\n",
       "<tr><td>technosphere</td><td>alkyd paint, white, without solvent, in 60% solution state</td><td>kilogram     </td><td style=\"text-align: right;\"> 3e-06      </td><td>&#x27;market for alkyd paint, white, without solvent, in 60% solution state&#x27; (kilogram, RER, None) </td></tr>\n",
       "<tr><td>technosphere</td><td>blasting                                                  </td><td>kilogram     </td><td style=\"text-align: right;\"> 7.73e-05   </td><td>&#x27;blasting&#x27; (kilogram, RER, None)                                                              </td></tr>\n",
       "<tr><td>technosphere</td><td>chemical, organic                                         </td><td>kilogram     </td><td style=\"text-align: right;\"> 3.6e-07    </td><td>&#x27;market for chemical, organic&#x27; (kilogram, GLO, None)                                          </td></tr>\n",
       "<tr><td>technosphere</td><td>diesel, burned in building machine                        </td><td>megajoule    </td><td style=\"text-align: right;\"> 0.0414     </td><td>&#x27;market for diesel, burned in building machine&#x27; (megajoule, GLO, None)                        </td></tr>\n",
       "<tr><td>technosphere</td><td>electricity, medium voltage                               </td><td>kilowatt hour</td><td style=\"text-align: right;\"> 0.00621    </td><td>&#x27;market group for electricity, medium voltage&#x27; (kilowatt hour, RER, None)                     </td></tr>\n",
       "<tr><td>technosphere</td><td>heat, district or industrial, other than natural gas      </td><td>megajoule    </td><td style=\"text-align: right;\"> 0.00029735 </td><td>&#x27;market group for heat, district or industrial, other than natural gas&#x27; (megajoule, RER, None)</td></tr>\n",
       "<tr><td>technosphere</td><td>limestone quarry infrastructure                           </td><td>unit         </td><td style=\"text-align: right;\"> 8e-11      </td><td>&#x27;market for limestone quarry infrastructure&#x27; (unit, GLO, None)                                </td></tr>\n",
       "<tr><td>technosphere</td><td>lubricating oil                                           </td><td>kilogram     </td><td style=\"text-align: right;\"> 5.4e-05    </td><td>&#x27;market for lubricating oil&#x27; (kilogram, RER, None)                                            </td></tr>\n",
       "<tr><td>technosphere</td><td>municipal solid waste                                     </td><td>kilogram     </td><td style=\"text-align: right;\">-6.14e-05   </td><td>&#x27;market group for municipal solid waste&#x27; (kilogram, RER, None)                                </td></tr>\n",
       "<tr><td>technosphere</td><td>transport, passenger car                                  </td><td>kilometer    </td><td style=\"text-align: right;\"> 1.08e-05   </td><td>&#x27;market for transport, passenger car&#x27; (kilometer, RER, None)                                  </td></tr>\n",
       "<tr><td>technosphere</td><td>waste graphical paper                                     </td><td>kilogram     </td><td style=\"text-align: right;\">-5.2e-07    </td><td>&#x27;market group for waste graphical paper&#x27; (kilogram, RER, None)                                </td></tr>\n",
       "<tr><td>technosphere</td><td>waste paint                                               </td><td>kilogram     </td><td style=\"text-align: right;\">-1.46002e-08</td><td>&#x27;market for waste paint&#x27; (kilogram, CH, None)                                                 </td></tr>\n",
       "<tr><td>technosphere</td><td>waste paint                                               </td><td>kilogram     </td><td style=\"text-align: right;\">-4.8654e-06 </td><td>&#x27;market for waste paint&#x27; (kilogram, Europe without Switzerland, None)                         </td></tr>\n",
       "<tr><td>technosphere</td><td>wastewater, average                                       </td><td>cubic meter  </td><td style=\"text-align: right;\">-9.36465e-08</td><td>&#x27;market for wastewater, average&#x27; (cubic meter, Europe without Switzerland, None)              </td></tr>\n",
       "<tr><td>technosphere</td><td>wastewater, average                                       </td><td>cubic meter  </td><td style=\"text-align: right;\">-2.35348e-09</td><td>&#x27;market for wastewater, average&#x27; (cubic meter, CH, None)                                      </td></tr>\n",
       "</tbody>\n",
       "</table>"
      ],
      "text/plain": [
       "'<table>\\n<tbody>\\n<tr><td>technosphere</td><td>alkyd paint, white, without solvent, in 60% solution state</td><td>kilogram     </td><td style=\"text-align: right;\"> 3e-06      </td><td>&#x27;market for alkyd paint, white, without solvent, in 60% solution state&#x27; (kilogram, RER, None) </td></tr>\\n<tr><td>technosphere</td><td>blasting                                                  </td><td>kilogram     </td><td style=\"text-align: right;\"> 7.73e-05   </td><td>&#x27;blasting&#x27; (kilogram, RER, None)                                                              </td></tr>\\n<tr><td>technosphere</td><td>chemical, organic                                         </td><td>kilogram     </td><td style=\"text-align: right;\"> 3.6e-07    </td><td>&#x27;market for chemical, organic&#x27; (kilogram, GLO, None)                                          </td></tr>\\n<tr><td>technosphere</td><td>diesel, burned in building machine                        </td><td>megajoule    </td><td style=\"text-align: right;\"> 0.0414     </td><td>&#x27;market for diesel, burned in building machine&#x27; (megajoule, GLO, None)                        </td></tr>\\n<tr><td>technosphere</td><td>electricity, medium voltage                               </td><td>kilowatt hour</td><td style=\"text-align: right;\"> 0.00621    </td><td>&#x27;market group for electricity, medium voltage&#x27; (kilowatt hour, RER, None)                     </td></tr>\\n<tr><td>technosphere</td><td>heat, district or industrial, other than natural gas      </td><td>megajoule    </td><td style=\"text-align: right;\"> 0.00029735 </td><td>&#x27;market group for heat, district or industrial, other than natural gas&#x27; (megajoule, RER, None)</td></tr>\\n<tr><td>technosphere</td><td>limestone quarry infrastructure                           </td><td>unit         </td><td style=\"text-align: right;\"> 8e-11      </td><td>&#x27;market for limestone quarry infrastructure&#x27; (unit, GLO, None)                                </td></tr>\\n<tr><td>technosphere</td><td>lubricating oil                                           </td><td>kilogram     </td><td style=\"text-align: right;\"> 5.4e-05    </td><td>&#x27;market for lubricating oil&#x27; (kilogram, RER, None)                                            </td></tr>\\n<tr><td>technosphere</td><td>municipal solid waste                                     </td><td>kilogram     </td><td style=\"text-align: right;\">-6.14e-05   </td><td>&#x27;market group for municipal solid waste&#x27; (kilogram, RER, None)                                </td></tr>\\n<tr><td>technosphere</td><td>transport, passenger car                                  </td><td>kilometer    </td><td style=\"text-align: right;\"> 1.08e-05   </td><td>&#x27;market for transport, passenger car&#x27; (kilometer, RER, None)                                  </td></tr>\\n<tr><td>technosphere</td><td>waste graphical paper                                     </td><td>kilogram     </td><td style=\"text-align: right;\">-5.2e-07    </td><td>&#x27;market group for waste graphical paper&#x27; (kilogram, RER, None)                                </td></tr>\\n<tr><td>technosphere</td><td>waste paint                                               </td><td>kilogram     </td><td style=\"text-align: right;\">-1.46002e-08</td><td>&#x27;market for waste paint&#x27; (kilogram, CH, None)                                                 </td></tr>\\n<tr><td>technosphere</td><td>waste paint                                               </td><td>kilogram     </td><td style=\"text-align: right;\">-4.8654e-06 </td><td>&#x27;market for waste paint&#x27; (kilogram, Europe without Switzerland, None)                         </td></tr>\\n<tr><td>technosphere</td><td>wastewater, average                                       </td><td>cubic meter  </td><td style=\"text-align: right;\">-9.36465e-08</td><td>&#x27;market for wastewater, average&#x27; (cubic meter, Europe without Switzerland, None)              </td></tr>\\n<tr><td>technosphere</td><td>wastewater, average                                       </td><td>cubic meter  </td><td style=\"text-align: right;\">-2.35348e-09</td><td>&#x27;market for wastewater, average&#x27; (cubic meter, CH, None)                                      </td></tr>\\n</tbody>\\n</table>'"
      ]
     },
     "execution_count": 50,
     "metadata": {},
     "output_type": "execute_result"
    }
   ],
   "source": [
    "# Look at technosphere exhanges characterizing activity basalt_cs\n",
    "rows = []\n",
    "for exc in basalt_cs.technosphere():\n",
    "    exc_row = {\n",
    "        field: value\n",
    "        for field, value in exc.as_dict().items()\n",
    "        if field in [\"amount\", \"unit\", \"name\", \"type\"]\n",
    "    }\n",
    "    exchange_activity = bd.get_activity(exc[\"input\"])\n",
    "    exc_row[\"activity\"] = str(exchange_activity)\n",
    "    rows.append(exc_row)\n",
    "tabulate(rows, tablefmt=\"html\")"
   ]
  },
  {
   "cell_type": "code",
   "execution_count": 51,
   "id": "72bb8f9b-065f-4239-a71a-14b1866e05f5",
   "metadata": {},
   "outputs": [
    {
     "data": {
      "text/plain": [
       "{'flow': '1e278342-7e3b-426d-b000-58eab8104573',\n",
       " 'type': 'technosphere',\n",
       " 'name': 'limestone quarry infrastructure',\n",
       " 'classifications': {'CPC': ['53269: Other constructions for manufacturing']},\n",
       " 'production volume': 0.0,\n",
       " 'properties': {'carbon allocation': {'amount': 0.0, 'unit': 'kg'},\n",
       "  'carbon content': {'amount': 0.0, 'unit': 'dimensionless'}},\n",
       " 'activity': 'e6a83983-3995-5ac3-9de9-d486f22896f9',\n",
       " 'unit': 'unit',\n",
       " 'comment': 'EcoSpold01Location=CH',\n",
       " 'amount': 8e-11,\n",
       " 'pedigree': {'reliability': 5,\n",
       "  'completeness': 4,\n",
       "  'temporal correlation': 5,\n",
       "  'geographical correlation': 1,\n",
       "  'further technological correlation': 3},\n",
       " 'uncertainty type': 2,\n",
       " 'loc': -23.248994481254666,\n",
       " 'scale': 0.6557438524302001,\n",
       " 'scale without pedigree': 0.5830951894845301,\n",
       " 'input': ('ecoinvent-3.9.1-cutoff', '8333c52e7f25a01b4e063b97466be74c'),\n",
       " 'output': ('ecoinvent-3.9.1-cutoff', '66dc54f1a59a4ca88cfadd4f461b8a73')}"
      ]
     },
     "execution_count": 51,
     "metadata": {},
     "output_type": "execute_result"
    }
   ],
   "source": [
    "# detail look to technosphere exchange of interest\n",
    "[\n",
    "    exc\n",
    "    for exc in basalt_cs.technosphere()\n",
    "    if exc.get(\"name\", \"\") == \"limestone quarry infrastructure\"\n",
    "].pop().as_dict()  # limestone quarry infrastructure"
   ]
  },
  {
   "cell_type": "code",
   "execution_count": 52,
   "id": "11129863-e3b0-42eb-b8f0-df7037dbc94f",
   "metadata": {},
   "outputs": [],
   "source": [
    "# Iterate over technosphere exchanges in basalt_cs to change the amount of limestone quarry operation exchange to 0\n",
    "for exc in basalt_cs.technosphere():\n",
    "    if exc[\"name\"] == \"limestone quarry infrastructure\":\n",
    "        # Update the amount in the exchange\n",
    "        exc[\"amount\"] = 0\n",
    "        exc.save()"
   ]
  },
  {
   "cell_type": "code",
   "execution_count": 53,
   "id": "493fe7c9-d8ff-4e3a-86c7-1aeffadc04fe",
   "metadata": {},
   "outputs": [
    {
     "data": {
      "text/html": [
       "<table>\n",
       "<tbody>\n",
       "<tr><td>technosphere</td><td>alkyd paint, white, without solvent, in 60% solution state</td><td>kilogram     </td><td style=\"text-align: right;\"> 3e-06      </td><td>&#x27;market for alkyd paint, white, without solvent, in 60% solution state&#x27; (kilogram, RER, None) </td></tr>\n",
       "<tr><td>technosphere</td><td>blasting                                                  </td><td>kilogram     </td><td style=\"text-align: right;\"> 7.73e-05   </td><td>&#x27;blasting&#x27; (kilogram, RER, None)                                                              </td></tr>\n",
       "<tr><td>technosphere</td><td>chemical, organic                                         </td><td>kilogram     </td><td style=\"text-align: right;\"> 3.6e-07    </td><td>&#x27;market for chemical, organic&#x27; (kilogram, GLO, None)                                          </td></tr>\n",
       "<tr><td>technosphere</td><td>diesel, burned in building machine                        </td><td>megajoule    </td><td style=\"text-align: right;\"> 0.0414     </td><td>&#x27;market for diesel, burned in building machine&#x27; (megajoule, GLO, None)                        </td></tr>\n",
       "<tr><td>technosphere</td><td>electricity, medium voltage                               </td><td>kilowatt hour</td><td style=\"text-align: right;\"> 0.00621    </td><td>&#x27;market group for electricity, medium voltage&#x27; (kilowatt hour, RER, None)                     </td></tr>\n",
       "<tr><td>technosphere</td><td>heat, district or industrial, other than natural gas      </td><td>megajoule    </td><td style=\"text-align: right;\"> 0.00029735 </td><td>&#x27;market group for heat, district or industrial, other than natural gas&#x27; (megajoule, RER, None)</td></tr>\n",
       "<tr><td>technosphere</td><td>limestone quarry infrastructure                           </td><td>unit         </td><td style=\"text-align: right;\"> 0          </td><td>&#x27;market for limestone quarry infrastructure&#x27; (unit, GLO, None)                                </td></tr>\n",
       "<tr><td>technosphere</td><td>lubricating oil                                           </td><td>kilogram     </td><td style=\"text-align: right;\"> 5.4e-05    </td><td>&#x27;market for lubricating oil&#x27; (kilogram, RER, None)                                            </td></tr>\n",
       "<tr><td>technosphere</td><td>municipal solid waste                                     </td><td>kilogram     </td><td style=\"text-align: right;\">-6.14e-05   </td><td>&#x27;market group for municipal solid waste&#x27; (kilogram, RER, None)                                </td></tr>\n",
       "<tr><td>technosphere</td><td>transport, passenger car                                  </td><td>kilometer    </td><td style=\"text-align: right;\"> 1.08e-05   </td><td>&#x27;market for transport, passenger car&#x27; (kilometer, RER, None)                                  </td></tr>\n",
       "<tr><td>technosphere</td><td>waste graphical paper                                     </td><td>kilogram     </td><td style=\"text-align: right;\">-5.2e-07    </td><td>&#x27;market group for waste graphical paper&#x27; (kilogram, RER, None)                                </td></tr>\n",
       "<tr><td>technosphere</td><td>waste paint                                               </td><td>kilogram     </td><td style=\"text-align: right;\">-1.46002e-08</td><td>&#x27;market for waste paint&#x27; (kilogram, CH, None)                                                 </td></tr>\n",
       "<tr><td>technosphere</td><td>waste paint                                               </td><td>kilogram     </td><td style=\"text-align: right;\">-4.8654e-06 </td><td>&#x27;market for waste paint&#x27; (kilogram, Europe without Switzerland, None)                         </td></tr>\n",
       "<tr><td>technosphere</td><td>wastewater, average                                       </td><td>cubic meter  </td><td style=\"text-align: right;\">-9.36465e-08</td><td>&#x27;market for wastewater, average&#x27; (cubic meter, Europe without Switzerland, None)              </td></tr>\n",
       "<tr><td>technosphere</td><td>wastewater, average                                       </td><td>cubic meter  </td><td style=\"text-align: right;\">-2.35348e-09</td><td>&#x27;market for wastewater, average&#x27; (cubic meter, CH, None)                                      </td></tr>\n",
       "</tbody>\n",
       "</table>"
      ],
      "text/plain": [
       "'<table>\\n<tbody>\\n<tr><td>technosphere</td><td>alkyd paint, white, without solvent, in 60% solution state</td><td>kilogram     </td><td style=\"text-align: right;\"> 3e-06      </td><td>&#x27;market for alkyd paint, white, without solvent, in 60% solution state&#x27; (kilogram, RER, None) </td></tr>\\n<tr><td>technosphere</td><td>blasting                                                  </td><td>kilogram     </td><td style=\"text-align: right;\"> 7.73e-05   </td><td>&#x27;blasting&#x27; (kilogram, RER, None)                                                              </td></tr>\\n<tr><td>technosphere</td><td>chemical, organic                                         </td><td>kilogram     </td><td style=\"text-align: right;\"> 3.6e-07    </td><td>&#x27;market for chemical, organic&#x27; (kilogram, GLO, None)                                          </td></tr>\\n<tr><td>technosphere</td><td>diesel, burned in building machine                        </td><td>megajoule    </td><td style=\"text-align: right;\"> 0.0414     </td><td>&#x27;market for diesel, burned in building machine&#x27; (megajoule, GLO, None)                        </td></tr>\\n<tr><td>technosphere</td><td>electricity, medium voltage                               </td><td>kilowatt hour</td><td style=\"text-align: right;\"> 0.00621    </td><td>&#x27;market group for electricity, medium voltage&#x27; (kilowatt hour, RER, None)                     </td></tr>\\n<tr><td>technosphere</td><td>heat, district or industrial, other than natural gas      </td><td>megajoule    </td><td style=\"text-align: right;\"> 0.00029735 </td><td>&#x27;market group for heat, district or industrial, other than natural gas&#x27; (megajoule, RER, None)</td></tr>\\n<tr><td>technosphere</td><td>limestone quarry infrastructure                           </td><td>unit         </td><td style=\"text-align: right;\"> 0          </td><td>&#x27;market for limestone quarry infrastructure&#x27; (unit, GLO, None)                                </td></tr>\\n<tr><td>technosphere</td><td>lubricating oil                                           </td><td>kilogram     </td><td style=\"text-align: right;\"> 5.4e-05    </td><td>&#x27;market for lubricating oil&#x27; (kilogram, RER, None)                                            </td></tr>\\n<tr><td>technosphere</td><td>municipal solid waste                                     </td><td>kilogram     </td><td style=\"text-align: right;\">-6.14e-05   </td><td>&#x27;market group for municipal solid waste&#x27; (kilogram, RER, None)                                </td></tr>\\n<tr><td>technosphere</td><td>transport, passenger car                                  </td><td>kilometer    </td><td style=\"text-align: right;\"> 1.08e-05   </td><td>&#x27;market for transport, passenger car&#x27; (kilometer, RER, None)                                  </td></tr>\\n<tr><td>technosphere</td><td>waste graphical paper                                     </td><td>kilogram     </td><td style=\"text-align: right;\">-5.2e-07    </td><td>&#x27;market group for waste graphical paper&#x27; (kilogram, RER, None)                                </td></tr>\\n<tr><td>technosphere</td><td>waste paint                                               </td><td>kilogram     </td><td style=\"text-align: right;\">-1.46002e-08</td><td>&#x27;market for waste paint&#x27; (kilogram, CH, None)                                                 </td></tr>\\n<tr><td>technosphere</td><td>waste paint                                               </td><td>kilogram     </td><td style=\"text-align: right;\">-4.8654e-06 </td><td>&#x27;market for waste paint&#x27; (kilogram, Europe without Switzerland, None)                         </td></tr>\\n<tr><td>technosphere</td><td>wastewater, average                                       </td><td>cubic meter  </td><td style=\"text-align: right;\">-9.36465e-08</td><td>&#x27;market for wastewater, average&#x27; (cubic meter, Europe without Switzerland, None)              </td></tr>\\n<tr><td>technosphere</td><td>wastewater, average                                       </td><td>cubic meter  </td><td style=\"text-align: right;\">-2.35348e-09</td><td>&#x27;market for wastewater, average&#x27; (cubic meter, CH, None)                                      </td></tr>\\n</tbody>\\n</table>'"
      ]
     },
     "execution_count": 53,
     "metadata": {},
     "output_type": "execute_result"
    }
   ],
   "source": [
    "# verify new exchange value for limestone quarry operation in basalt_cs\n",
    "rows = []\n",
    "for exc in basalt_cs.technosphere():\n",
    "    exc_row = {\n",
    "        field: value\n",
    "        for field, value in exc.as_dict().items()\n",
    "        if field in [\"amount\", \"unit\", \"name\", \"type\"]\n",
    "    }\n",
    "    exchange_activity = bd.get_activity(exc[\"input\"])\n",
    "    exc_row[\"activity\"] = str(exchange_activity)\n",
    "    rows.append(exc_row)\n",
    "tabulate(rows, tablefmt=\"html\")"
   ]
  },
  {
   "cell_type": "code",
   "execution_count": 54,
   "id": "efa735f3-8d13-40e5-bd64-a6a077cdf82f",
   "metadata": {},
   "outputs": [],
   "source": [
    "# Iterate over technosphere exchanges in basalt_cs to multiply all technosphere exchanges time 1,04\n",
    "for exc in basalt_cs.technosphere():\n",
    "    # Update the amount in the exchange\n",
    "    exc[\"amount\"] = (exc[\"amount\"]) * 1.04\n",
    "    exc.save()"
   ]
  },
  {
   "cell_type": "code",
   "execution_count": 55,
   "id": "fcf8d5ae-bd81-4f5b-91a7-d7553a23709b",
   "metadata": {
    "scrolled": true
   },
   "outputs": [
    {
     "data": {
      "text/html": [
       "<table>\n",
       "<tbody>\n",
       "<tr><td>technosphere</td><td>alkyd paint, white, without solvent, in 60% solution state</td><td>kilogram     </td><td style=\"text-align: right;\"> 3.12e-06   </td><td>&#x27;market for alkyd paint, white, without solvent, in 60% solution state&#x27; (kilogram, RER, None) </td></tr>\n",
       "<tr><td>technosphere</td><td>blasting                                                  </td><td>kilogram     </td><td style=\"text-align: right;\"> 8.0392e-05 </td><td>&#x27;blasting&#x27; (kilogram, RER, None)                                                              </td></tr>\n",
       "<tr><td>technosphere</td><td>chemical, organic                                         </td><td>kilogram     </td><td style=\"text-align: right;\"> 3.744e-07  </td><td>&#x27;market for chemical, organic&#x27; (kilogram, GLO, None)                                          </td></tr>\n",
       "<tr><td>technosphere</td><td>diesel, burned in building machine                        </td><td>megajoule    </td><td style=\"text-align: right;\"> 0.043056   </td><td>&#x27;market for diesel, burned in building machine&#x27; (megajoule, GLO, None)                        </td></tr>\n",
       "<tr><td>technosphere</td><td>electricity, medium voltage                               </td><td>kilowatt hour</td><td style=\"text-align: right;\"> 0.0064584  </td><td>&#x27;market group for electricity, medium voltage&#x27; (kilowatt hour, RER, None)                     </td></tr>\n",
       "<tr><td>technosphere</td><td>heat, district or industrial, other than natural gas      </td><td>megajoule    </td><td style=\"text-align: right;\"> 0.000309244</td><td>&#x27;market group for heat, district or industrial, other than natural gas&#x27; (megajoule, RER, None)</td></tr>\n",
       "<tr><td>technosphere</td><td>limestone quarry infrastructure                           </td><td>unit         </td><td style=\"text-align: right;\"> 0          </td><td>&#x27;market for limestone quarry infrastructure&#x27; (unit, GLO, None)                                </td></tr>\n",
       "<tr><td>technosphere</td><td>lubricating oil                                           </td><td>kilogram     </td><td style=\"text-align: right;\"> 5.616e-05  </td><td>&#x27;market for lubricating oil&#x27; (kilogram, RER, None)                                            </td></tr>\n",
       "<tr><td>technosphere</td><td>municipal solid waste                                     </td><td>kilogram     </td><td style=\"text-align: right;\">-6.3856e-05 </td><td>&#x27;market group for municipal solid waste&#x27; (kilogram, RER, None)                                </td></tr>\n",
       "<tr><td>technosphere</td><td>transport, passenger car                                  </td><td>kilometer    </td><td style=\"text-align: right;\"> 1.1232e-05 </td><td>&#x27;market for transport, passenger car&#x27; (kilometer, RER, None)                                  </td></tr>\n",
       "<tr><td>technosphere</td><td>waste graphical paper                                     </td><td>kilogram     </td><td style=\"text-align: right;\">-5.408e-07  </td><td>&#x27;market group for waste graphical paper&#x27; (kilogram, RER, None)                                </td></tr>\n",
       "<tr><td>technosphere</td><td>waste paint                                               </td><td>kilogram     </td><td style=\"text-align: right;\">-1.51842e-08</td><td>&#x27;market for waste paint&#x27; (kilogram, CH, None)                                                 </td></tr>\n",
       "<tr><td>technosphere</td><td>waste paint                                               </td><td>kilogram     </td><td style=\"text-align: right;\">-5.06002e-06</td><td>&#x27;market for waste paint&#x27; (kilogram, Europe without Switzerland, None)                         </td></tr>\n",
       "<tr><td>technosphere</td><td>wastewater, average                                       </td><td>cubic meter  </td><td style=\"text-align: right;\">-9.73924e-08</td><td>&#x27;market for wastewater, average&#x27; (cubic meter, Europe without Switzerland, None)              </td></tr>\n",
       "<tr><td>technosphere</td><td>wastewater, average                                       </td><td>cubic meter  </td><td style=\"text-align: right;\">-2.44761e-09</td><td>&#x27;market for wastewater, average&#x27; (cubic meter, CH, None)                                      </td></tr>\n",
       "</tbody>\n",
       "</table>"
      ],
      "text/plain": [
       "'<table>\\n<tbody>\\n<tr><td>technosphere</td><td>alkyd paint, white, without solvent, in 60% solution state</td><td>kilogram     </td><td style=\"text-align: right;\"> 3.12e-06   </td><td>&#x27;market for alkyd paint, white, without solvent, in 60% solution state&#x27; (kilogram, RER, None) </td></tr>\\n<tr><td>technosphere</td><td>blasting                                                  </td><td>kilogram     </td><td style=\"text-align: right;\"> 8.0392e-05 </td><td>&#x27;blasting&#x27; (kilogram, RER, None)                                                              </td></tr>\\n<tr><td>technosphere</td><td>chemical, organic                                         </td><td>kilogram     </td><td style=\"text-align: right;\"> 3.744e-07  </td><td>&#x27;market for chemical, organic&#x27; (kilogram, GLO, None)                                          </td></tr>\\n<tr><td>technosphere</td><td>diesel, burned in building machine                        </td><td>megajoule    </td><td style=\"text-align: right;\"> 0.043056   </td><td>&#x27;market for diesel, burned in building machine&#x27; (megajoule, GLO, None)                        </td></tr>\\n<tr><td>technosphere</td><td>electricity, medium voltage                               </td><td>kilowatt hour</td><td style=\"text-align: right;\"> 0.0064584  </td><td>&#x27;market group for electricity, medium voltage&#x27; (kilowatt hour, RER, None)                     </td></tr>\\n<tr><td>technosphere</td><td>heat, district or industrial, other than natural gas      </td><td>megajoule    </td><td style=\"text-align: right;\"> 0.000309244</td><td>&#x27;market group for heat, district or industrial, other than natural gas&#x27; (megajoule, RER, None)</td></tr>\\n<tr><td>technosphere</td><td>limestone quarry infrastructure                           </td><td>unit         </td><td style=\"text-align: right;\"> 0          </td><td>&#x27;market for limestone quarry infrastructure&#x27; (unit, GLO, None)                                </td></tr>\\n<tr><td>technosphere</td><td>lubricating oil                                           </td><td>kilogram     </td><td style=\"text-align: right;\"> 5.616e-05  </td><td>&#x27;market for lubricating oil&#x27; (kilogram, RER, None)                                            </td></tr>\\n<tr><td>technosphere</td><td>municipal solid waste                                     </td><td>kilogram     </td><td style=\"text-align: right;\">-6.3856e-05 </td><td>&#x27;market group for municipal solid waste&#x27; (kilogram, RER, None)                                </td></tr>\\n<tr><td>technosphere</td><td>transport, passenger car                                  </td><td>kilometer    </td><td style=\"text-align: right;\"> 1.1232e-05 </td><td>&#x27;market for transport, passenger car&#x27; (kilometer, RER, None)                                  </td></tr>\\n<tr><td>technosphere</td><td>waste graphical paper                                     </td><td>kilogram     </td><td style=\"text-align: right;\">-5.408e-07  </td><td>&#x27;market group for waste graphical paper&#x27; (kilogram, RER, None)                                </td></tr>\\n<tr><td>technosphere</td><td>waste paint                                               </td><td>kilogram     </td><td style=\"text-align: right;\">-1.51842e-08</td><td>&#x27;market for waste paint&#x27; (kilogram, CH, None)                                                 </td></tr>\\n<tr><td>technosphere</td><td>waste paint                                               </td><td>kilogram     </td><td style=\"text-align: right;\">-5.06002e-06</td><td>&#x27;market for waste paint&#x27; (kilogram, Europe without Switzerland, None)                         </td></tr>\\n<tr><td>technosphere</td><td>wastewater, average                                       </td><td>cubic meter  </td><td style=\"text-align: right;\">-9.73924e-08</td><td>&#x27;market for wastewater, average&#x27; (cubic meter, Europe without Switzerland, None)              </td></tr>\\n<tr><td>technosphere</td><td>wastewater, average                                       </td><td>cubic meter  </td><td style=\"text-align: right;\">-2.44761e-09</td><td>&#x27;market for wastewater, average&#x27; (cubic meter, CH, None)                                      </td></tr>\\n</tbody>\\n</table>'"
      ]
     },
     "execution_count": 55,
     "metadata": {},
     "output_type": "execute_result"
    }
   ],
   "source": [
    "# verify new exchange technosphere values for basalt_cs\n",
    "rows = []\n",
    "for exc in basalt_cs.technosphere():\n",
    "    exc_row = {\n",
    "        field: value\n",
    "        for field, value in exc.as_dict().items()\n",
    "        if field in [\"amount\", \"unit\", \"name\", \"type\"]\n",
    "    }\n",
    "    exchange_activity = bd.get_activity(exc[\"input\"])\n",
    "    exc_row[\"activity\"] = str(exchange_activity)\n",
    "    rows.append(exc_row)\n",
    "tabulate(rows, tablefmt=\"html\")"
   ]
  },
  {
   "cell_type": "markdown",
   "id": "96ff961e-6359-4aac-b135-5a28774b29ff",
   "metadata": {},
   "source": [
    "## Adding gravel production modified process\n",
    "\n",
    "This processs is based on the following ecoinvent process:\n",
    "\n",
    "- gravel production, crushed - RoW\n",
    "\n",
    "The new process is modified to only include the following exchanges:\n",
    "\n",
    "| Name                                               | Exchange type         | \n",
    "|----------------------------------------------------|-----------------------|\n",
    "| gravel, crushed                                    | production            |\n",
    "| building, hall, steel construction                 | technosphere          |\n",
    "| conveyor belt                                      | technosphere          | \n",
    "| Gravel                                             | biosphere             | \n",
    "| gravel/sand quarry infrastructure                  | technosphere          | \n",
    "| industrial machine, heavy, unspecified             | technosphere          | \n",
    "| recultivation, limestone mine                      | technosphere          | \n",
    "| steel, low-alloyed, hot rolled                     | technosphere          | \n",
    "| synthetic rubber                                   | technosphere          | \n",
    "\n",
    "\n",
    "The name of the new process is set to:\n",
    "\n",
    "- gravel production, crushed (for crushed stone) - RoW"
   ]
  },
  {
   "cell_type": "code",
   "execution_count": 56,
   "id": "6813ee50-756d-430b-a491-556ff0531271",
   "metadata": {},
   "outputs": [
    {
     "name": "stdout",
     "output_type": "stream",
     "text": [
      "'gravel production, crushed (for crushed stone)' (kilogram, RoW, None)\n"
     ]
    }
   ],
   "source": [
    "# Delete the gravel production, crushed (for crushed stone) in case we ran this notebook multiple times\n",
    "res = EI_DB.search(\"gravel production, crushed (for crushed stone) RoW\")\n",
    "for r in res:\n",
    "    if r.get(\"name\", \"\") == \"gravel production, crushed (for crushed stone)\" and (\n",
    "        r.get(\"location\", \"\") == \"RoW\"\n",
    "    ):\n",
    "        print(r)\n",
    "        r.delete()"
   ]
  },
  {
   "cell_type": "code",
   "execution_count": 57,
   "id": "44fed777-bbfd-4a0c-b8ea-6a468d299050",
   "metadata": {
    "scrolled": true
   },
   "outputs": [
    {
     "data": {
      "text/plain": [
       "['gravel production, crushed' (kilogram, RoW, None),\n",
       " 'market for gravel, crushed' (kilogram, RoW, None),\n",
       " 'gravel and sand quarry operation' (kilogram, RoW, None),\n",
       " 'limestone production, crushed, for mill' (kilogram, RoW, None),\n",
       " 'market for limestone, crushed, washed' (kilogram, RoW, None),\n",
       " 'market for limestone, crushed, for mill' (kilogram, RoW, None),\n",
       " 'gravel and sand quarry operation' (kilogram, RoW, None),\n",
       " 'market for anhydrite rock' (kilogram, RoW, None)]"
      ]
     },
     "execution_count": 57,
     "metadata": {},
     "output_type": "execute_result"
    }
   ],
   "source": [
    "# Search for gravel production, crushed in background database\n",
    "EI_DB.search(\"gravel production, crushed RoW\")"
   ]
  },
  {
   "cell_type": "code",
   "execution_count": 58,
   "id": "573640a8-d9b3-4ef9-bf9c-f802c3651127",
   "metadata": {},
   "outputs": [
    {
     "name": "stdout",
     "output_type": "stream",
     "text": [
      "'gravel production, crushed' (kilogram, RoW, None)\n"
     ]
    }
   ],
   "source": [
    "# Copy existing gravel process\n",
    "q = Query()\n",
    "filter_name = Filter(\"name\", \"is\", \"gravel production, crushed\")\n",
    "filter_location = Filter(\"location\", \"is\", \"RoW\")\n",
    "q.add(filter_name)\n",
    "q.add(filter_location)\n",
    "res = q(eidb_data)\n",
    "if len(res) == 1:\n",
    "    gravel = bd.get_activity(list(res).pop())\n",
    "    print(gravel)\n",
    "\n",
    "gravel_cs = gravel.copy(name=\"gravel production, crushed (for crushed stone)\")"
   ]
  },
  {
   "cell_type": "code",
   "execution_count": 59,
   "id": "8bdf34be-5eff-4181-b1c0-f95c452851cd",
   "metadata": {
    "scrolled": true
   },
   "outputs": [
    {
     "data": {
      "text/plain": [
       "['gravel production, crushed' (kilogram, RoW, None),\n",
       " 'gravel production, crushed (for crushed stone)' (kilogram, RoW, None),\n",
       " 'market for gravel, crushed' (kilogram, RoW, None),\n",
       " 'gravel and sand quarry operation' (kilogram, RoW, None),\n",
       " 'limestone production, crushed, for mill' (kilogram, RoW, None),\n",
       " 'market for limestone, crushed, washed' (kilogram, RoW, None),\n",
       " 'market for limestone, crushed, for mill' (kilogram, RoW, None),\n",
       " 'gravel and sand quarry operation' (kilogram, RoW, None),\n",
       " 'market for anhydrite rock' (kilogram, RoW, None)]"
      ]
     },
     "execution_count": 59,
     "metadata": {},
     "output_type": "execute_result"
    }
   ],
   "source": [
    "# Verify that the new gravel process was recorded\n",
    "EI_DB.search(\"gravel production, crushed RoW\")"
   ]
  },
  {
   "cell_type": "code",
   "execution_count": 60,
   "id": "d39b916a-6c6e-44fe-856c-49e1d648e455",
   "metadata": {
    "scrolled": true
   },
   "outputs": [
    {
     "data": {
      "text/html": [
       "<table>\n",
       "<tbody>\n",
       "<tr><td>production  </td><td>gravel, crushed                                     </td><td>kilogram         </td><td style=\"text-align: right;\"> 1          </td><td>&#x27;gravel production, crushed (for crushed stone)&#x27; (kilogram, RoW, None)                                         </td></tr>\n",
       "<tr><td>technosphere</td><td>building, hall, steel construction                  </td><td>square meter     </td><td style=\"text-align: right;\"> 2.85e-06   </td><td>&#x27;market for building, hall, steel construction&#x27; (square meter, GLO, None)                                      </td></tr>\n",
       "<tr><td>technosphere</td><td>conveyor belt                                       </td><td>meter            </td><td style=\"text-align: right;\"> 9.51e-08   </td><td>&#x27;market for conveyor belt&#x27; (meter, GLO, None)                                                                  </td></tr>\n",
       "<tr><td>technosphere</td><td>diesel, burned in building machine                  </td><td>megajoule        </td><td style=\"text-align: right;\"> 0.0143     </td><td>&#x27;market for diesel, burned in building machine&#x27; (megajoule, GLO, None)                                         </td></tr>\n",
       "<tr><td>technosphere</td><td>electricity, medium voltage                         </td><td>kilowatt hour    </td><td style=\"text-align: right;\"> 6.48436e-06</td><td>&#x27;market for electricity, medium voltage&#x27; (kilowatt hour, PY, None)                                             </td></tr>\n",
       "<tr><td>technosphere</td><td>electricity, medium voltage                         </td><td>kilowatt hour    </td><td style=\"text-align: right;\"> 9.6133e-06 </td><td>&#x27;market for electricity, medium voltage&#x27; (kilowatt hour, EC, None)                                             </td></tr>\n",
       "<tr><td>technosphere</td><td>electricity, medium voltage                         </td><td>kilowatt hour    </td><td style=\"text-align: right;\"> 0.000332695</td><td>&#x27;market group for electricity, medium voltage&#x27; (kilowatt hour, RME, None)                                      </td></tr>\n",
       "<tr><td>technosphere</td><td>electricity, medium voltage                         </td><td>kilowatt hour    </td><td style=\"text-align: right;\"> 4.56887e-06</td><td>&#x27;market for electricity, medium voltage&#x27; (kilowatt hour, CR, None)                                             </td></tr>\n",
       "<tr><td>technosphere</td><td>electricity, medium voltage                         </td><td>kilowatt hour    </td><td style=\"text-align: right;\"> 7.53338e-06</td><td>&#x27;market for electricity, medium voltage&#x27; (kilowatt hour, US-PR, None)                                          </td></tr>\n",
       "<tr><td>technosphere</td><td>electricity, medium voltage                         </td><td>kilowatt hour    </td><td style=\"text-align: right;\"> 3.57918e-06</td><td>&#x27;market for electricity, medium voltage&#x27; (kilowatt hour, TT, None)                                             </td></tr>\n",
       "<tr><td>technosphere</td><td>electricity, medium voltage                         </td><td>kilowatt hour    </td><td style=\"text-align: right;\"> 8.91359e-05</td><td>&#x27;market for electricity, medium voltage&#x27; (kilowatt hour, AU, None)                                             </td></tr>\n",
       "<tr><td>technosphere</td><td>electricity, medium voltage                         </td><td>kilowatt hour    </td><td style=\"text-align: right;\"> 4.70253e-06</td><td>&#x27;market for electricity, medium voltage&#x27; (kilowatt hour, GT, None)                                             </td></tr>\n",
       "<tr><td>technosphere</td><td>electricity, medium voltage                         </td><td>kilowatt hour    </td><td style=\"text-align: right;\"> 2.38388e-05</td><td>&#x27;market for electricity, medium voltage&#x27; (kilowatt hour, IL, None)                                             </td></tr>\n",
       "<tr><td>technosphere</td><td>electricity, medium voltage                         </td><td>kilowatt hour    </td><td style=\"text-align: right;\"> 6.13921e-06</td><td>&#x27;market for electricity, medium voltage&#x27; (kilowatt hour, DO, None)                                             </td></tr>\n",
       "<tr><td>technosphere</td><td>electricity, medium voltage                         </td><td>kilowatt hour    </td><td style=\"text-align: right;\"> 7.30047e-05</td><td>&#x27;market for electricity, medium voltage&#x27; (kilowatt hour, ID, None)                                             </td></tr>\n",
       "<tr><td>technosphere</td><td>electricity, medium voltage                         </td><td>kilowatt hour    </td><td style=\"text-align: right;\"> 5.2872e-06 </td><td>&#x27;market for electricity, medium voltage&#x27; (kilowatt hour, KP, None)                                             </td></tr>\n",
       "<tr><td>technosphere</td><td>electricity, medium voltage                         </td><td>kilowatt hour    </td><td style=\"text-align: right;\"> 2.86074e-05</td><td>&#x27;market for electricity, medium voltage&#x27; (kilowatt hour, CO, None)                                             </td></tr>\n",
       "<tr><td>technosphere</td><td>electricity, medium voltage                         </td><td>kilowatt hour    </td><td style=\"text-align: right;\"> 5.6718e-06 </td><td>&#x27;market for electricity, medium voltage&#x27; (kilowatt hour, LB, None)                                             </td></tr>\n",
       "<tr><td>technosphere</td><td>electricity, medium voltage                         </td><td>kilowatt hour    </td><td style=\"text-align: right;\"> 0.00311155 </td><td>&#x27;market group for electricity, medium voltage&#x27; (kilowatt hour, CN, None)                                       </td></tr>\n",
       "<tr><td>technosphere</td><td>electricity, medium voltage                         </td><td>kilowatt hour    </td><td style=\"text-align: right;\"> 3.03236e-06</td><td>&#x27;market for electricity, medium voltage&#x27; (kilowatt hour, NP, None)                                             </td></tr>\n",
       "<tr><td>technosphere</td><td>electricity, medium voltage                         </td><td>kilowatt hour    </td><td style=\"text-align: right;\"> 2.90908e-05</td><td>&#x27;market for electricity, medium voltage&#x27; (kilowatt hour, VE, None)                                             </td></tr>\n",
       "<tr><td>technosphere</td><td>electricity, medium voltage                         </td><td>kilowatt hour    </td><td style=\"text-align: right;\"> 7.54899e-07</td><td>&#x27;market for electricity, medium voltage&#x27; (kilowatt hour, QA, None)                                             </td></tr>\n",
       "<tr><td>technosphere</td><td>electricity, medium voltage                         </td><td>kilowatt hour    </td><td style=\"text-align: right;\"> 7.09874e-06</td><td>&#x27;market for electricity, medium voltage&#x27; (kilowatt hour, TM, None)                                             </td></tr>\n",
       "<tr><td>technosphere</td><td>electricity, medium voltage                         </td><td>kilowatt hour    </td><td style=\"text-align: right;\"> 3.41802e-07</td><td>&#x27;market for electricity, medium voltage&#x27; (kilowatt hour, HT, None)                                             </td></tr>\n",
       "<tr><td>technosphere</td><td>electricity, medium voltage                         </td><td>kilowatt hour    </td><td style=\"text-align: right;\"> 1.49999e-06</td><td>&#x27;market for electricity, medium voltage&#x27; (kilowatt hour, NI, None)                                             </td></tr>\n",
       "<tr><td>technosphere</td><td>electricity, medium voltage                         </td><td>kilowatt hour    </td><td style=\"text-align: right;\"> 5.12537e-05</td><td>&#x27;market for electricity, medium voltage&#x27; (kilowatt hour, AR, None)                                             </td></tr>\n",
       "<tr><td>technosphere</td><td>electricity, medium voltage                         </td><td>kilowatt hour    </td><td style=\"text-align: right;\"> 2.31264e-06</td><td>&#x27;market for electricity, medium voltage&#x27; (kilowatt hour, SV, None)                                             </td></tr>\n",
       "<tr><td>technosphere</td><td>electricity, medium voltage                         </td><td>kilowatt hour    </td><td style=\"text-align: right;\"> 1.46729e-05</td><td>&#x27;market for electricity, medium voltage&#x27; (kilowatt hour, OM, None)                                             </td></tr>\n",
       "<tr><td>technosphere</td><td>electricity, medium voltage                         </td><td>kilowatt hour    </td><td style=\"text-align: right;\"> 0.000217636</td><td>&#x27;market for electricity, medium voltage&#x27; (kilowatt hour, KR, None)                                             </td></tr>\n",
       "<tr><td>technosphere</td><td>electricity, medium voltage                         </td><td>kilowatt hour    </td><td style=\"text-align: right;\"> 0.00166338 </td><td>&#x27;market group for electricity, medium voltage&#x27; (kilowatt hour, US, None)                                       </td></tr>\n",
       "<tr><td>technosphere</td><td>electricity, medium voltage                         </td><td>kilowatt hour    </td><td style=\"text-align: right;\"> 5.94784e-06</td><td>&#x27;market for electricity, medium voltage&#x27; (kilowatt hour, LK, None)                                             </td></tr>\n",
       "<tr><td>technosphere</td><td>electricity, medium voltage                         </td><td>kilowatt hour    </td><td style=\"text-align: right;\"> 4.39127e-06</td><td>&#x27;market for electricity, medium voltage&#x27; (kilowatt hour, UY, None)                                             </td></tr>\n",
       "<tr><td>technosphere</td><td>electricity, medium voltage                         </td><td>kilowatt hour    </td><td style=\"text-align: right;\"> 6.68121e-06</td><td>&#x27;market for electricity, medium voltage&#x27; (kilowatt hour, JO, None)                                             </td></tr>\n",
       "<tr><td>technosphere</td><td>electricity, medium voltage                         </td><td>kilowatt hour    </td><td style=\"text-align: right;\"> 2.60765e-06</td><td>&#x27;market for electricity, medium voltage&#x27; (kilowatt hour, AM, None)                                             </td></tr>\n",
       "<tr><td>technosphere</td><td>electricity, medium voltage                         </td><td>kilowatt hour    </td><td style=\"text-align: right;\"> 0.00128075 </td><td>&#x27;market group for electricity, medium voltage&#x27; (kilowatt hour, Europe without Switzerland, None)               </td></tr>\n",
       "<tr><td>technosphere</td><td>electricity, medium voltage                         </td><td>kilowatt hour    </td><td style=\"text-align: right;\"> 9.93219e-07</td><td>&#x27;market for electricity, medium voltage&#x27; (kilowatt hour, YE, None)                                             </td></tr>\n",
       "<tr><td>technosphere</td><td>electricity, medium voltage                         </td><td>kilowatt hour    </td><td style=\"text-align: right;\"> 4.02611e-05</td><td>&#x27;market for electricity, medium voltage&#x27; (kilowatt hour, PH, None)                                             </td></tr>\n",
       "<tr><td>technosphere</td><td>electricity, medium voltage                         </td><td>kilowatt hour    </td><td style=\"text-align: right;\"> 0.000348384</td><td>&#x27;market for electricity, medium voltage&#x27; (kilowatt hour, JP, None)                                             </td></tr>\n",
       "<tr><td>technosphere</td><td>electricity, medium voltage                         </td><td>kilowatt hour    </td><td style=\"text-align: right;\"> 1.96748e-06</td><td>&#x27;market for electricity, medium voltage&#x27; (kilowatt hour, CY, None)                                             </td></tr>\n",
       "<tr><td>technosphere</td><td>electricity, medium voltage                         </td><td>kilowatt hour    </td><td style=\"text-align: right;\"> 5.892e-06  </td><td>&#x27;market for electricity, medium voltage&#x27; (kilowatt hour, KG, None)                                             </td></tr>\n",
       "<tr><td>technosphere</td><td>electricity, medium voltage                         </td><td>kilowatt hour    </td><td style=\"text-align: right;\"> 0.000398976</td><td>&#x27;market for electricity, medium voltage&#x27; (kilowatt hour, RU, None)                                             </td></tr>\n",
       "<tr><td>technosphere</td><td>electricity, medium voltage                         </td><td>kilowatt hour    </td><td style=\"text-align: right;\"> 2.93417e-05</td><td>&#x27;market for electricity, medium voltage&#x27; (kilowatt hour, CL, None)                                             </td></tr>\n",
       "<tr><td>technosphere</td><td>electricity, medium voltage                         </td><td>kilowatt hour    </td><td style=\"text-align: right;\"> 6.53527e-05</td><td>&#x27;market for electricity, medium voltage&#x27; (kilowatt hour, MY, None)                                             </td></tr>\n",
       "<tr><td>technosphere</td><td>electricity, medium voltage                         </td><td>kilowatt hour    </td><td style=\"text-align: right;\"> 1.53541e-06</td><td>&#x27;market for electricity, medium voltage&#x27; (kilowatt hour, BN, None)                                             </td></tr>\n",
       "<tr><td>technosphere</td><td>electricity, medium voltage                         </td><td>kilowatt hour    </td><td style=\"text-align: right;\"> 0.00013921 </td><td>&#x27;market group for electricity, medium voltage&#x27; (kilowatt hour, Canada without Quebec, None)                    </td></tr>\n",
       "<tr><td>technosphere</td><td>electricity, medium voltage                         </td><td>kilowatt hour    </td><td style=\"text-align: right;\"> 2.84936e-05</td><td>&#x27;market for electricity, medium voltage&#x27; (kilowatt hour, BD, None)                                             </td></tr>\n",
       "<tr><td>technosphere</td><td>electricity, medium voltage                         </td><td>kilowatt hour    </td><td style=\"text-align: right;\"> 8.6815e-06 </td><td>&#x27;market for electricity, medium voltage&#x27; (kilowatt hour, AZ, None)                                             </td></tr>\n",
       "<tr><td>technosphere</td><td>electricity, medium voltage                         </td><td>kilowatt hour    </td><td style=\"text-align: right;\"> 2.11615e-05</td><td>&#x27;market for electricity, medium voltage&#x27; (kilowatt hour, PE, None)                                             </td></tr>\n",
       "<tr><td>technosphere</td><td>electricity, medium voltage                         </td><td>kilowatt hour    </td><td style=\"text-align: right;\"> 2.52382e-05</td><td>&#x27;market for electricity, medium voltage&#x27; (kilowatt hour, UZ, None)                                             </td></tr>\n",
       "<tr><td>technosphere</td><td>electricity, medium voltage                         </td><td>kilowatt hour    </td><td style=\"text-align: right;\"> 8.89122e-05</td><td>&#x27;market for electricity, medium voltage&#x27; (kilowatt hour, VN, None)                                             </td></tr>\n",
       "<tr><td>technosphere</td><td>electricity, medium voltage                         </td><td>kilowatt hour    </td><td style=\"text-align: right;\"> 3.14647e-07</td><td>&#x27;market for electricity, medium voltage&#x27; (kilowatt hour, CW, None)                                             </td></tr>\n",
       "<tr><td>technosphere</td><td>electricity, medium voltage                         </td><td>kilowatt hour    </td><td style=\"text-align: right;\"> 0.000104615</td><td>&#x27;market for electricity, medium voltage&#x27; (kilowatt hour, MX, None)                                             </td></tr>\n",
       "<tr><td>technosphere</td><td>electricity, medium voltage                         </td><td>kilowatt hour    </td><td style=\"text-align: right;\"> 0.000294401</td><td>&#x27;market group for electricity, medium voltage&#x27; (kilowatt hour, RAF, None)                                      </td></tr>\n",
       "<tr><td>technosphere</td><td>electricity, medium voltage                         </td><td>kilowatt hour    </td><td style=\"text-align: right;\"> 4.04814e-05</td><td>&#x27;market for electricity, medium voltage&#x27; (kilowatt hour, KZ, None)                                             </td></tr>\n",
       "<tr><td>technosphere</td><td>electricity, medium voltage                         </td><td>kilowatt hour    </td><td style=\"text-align: right;\"> 7.23525e-06</td><td>&#x27;market for electricity, medium voltage&#x27; (kilowatt hour, CU, None)                                             </td></tr>\n",
       "<tr><td>technosphere</td><td>electricity, medium voltage                         </td><td>kilowatt hour    </td><td style=\"text-align: right;\"> 7.04582e-06</td><td>&#x27;market for electricity, medium voltage&#x27; (kilowatt hour, TJ, None)                                             </td></tr>\n",
       "<tr><td>technosphere</td><td>electricity, medium voltage                         </td><td>kilowatt hour    </td><td style=\"text-align: right;\"> 3.31098e-06</td><td>&#x27;market for electricity, medium voltage&#x27; (kilowatt hour, MN, None)                                             </td></tr>\n",
       "<tr><td>technosphere</td><td>electricity, medium voltage                         </td><td>kilowatt hour    </td><td style=\"text-align: right;\"> 1.98122e-05</td><td>&#x27;market for electricity, medium voltage&#x27; (kilowatt hour, HK, None)                                             </td></tr>\n",
       "<tr><td>technosphere</td><td>electricity, medium voltage                         </td><td>kilowatt hour    </td><td style=\"text-align: right;\"> 1.74694e-05</td><td>&#x27;market for electricity, medium voltage&#x27; (kilowatt hour, NZ, None)                                             </td></tr>\n",
       "<tr><td>technosphere</td><td>electricity, medium voltage                         </td><td>kilowatt hour    </td><td style=\"text-align: right;\"> 4.67723e-06</td><td>&#x27;market for electricity, medium voltage&#x27; (kilowatt hour, GE, None)                                             </td></tr>\n",
       "<tr><td>technosphere</td><td>electricity, medium voltage                         </td><td>kilowatt hour    </td><td style=\"text-align: right;\"> 4.63402e-06</td><td>&#x27;market for electricity, medium voltage&#x27; (kilowatt hour, KH, None)                                             </td></tr>\n",
       "<tr><td>technosphere</td><td>electricity, medium voltage                         </td><td>kilowatt hour    </td><td style=\"text-align: right;\"> 9.20207e-05</td><td>&#x27;market for electricity, medium voltage&#x27; (kilowatt hour, TW, None)                                             </td></tr>\n",
       "<tr><td>technosphere</td><td>electricity, medium voltage                         </td><td>kilowatt hour    </td><td style=\"text-align: right;\"> 5.08593e-05</td><td>&#x27;market for electricity, medium voltage&#x27; (kilowatt hour, PK, None)                                             </td></tr>\n",
       "<tr><td>technosphere</td><td>electricity, medium voltage                         </td><td>kilowatt hour    </td><td style=\"text-align: right;\"> 1.88156e-05</td><td>&#x27;market for electricity, medium voltage&#x27; (kilowatt hour, SG, None)                                             </td></tr>\n",
       "<tr><td>technosphere</td><td>electricity, medium voltage                         </td><td>kilowatt hour    </td><td style=\"text-align: right;\"> 3.6826e-06 </td><td>&#x27;market for electricity, medium voltage&#x27; (kilowatt hour, BO, None)                                             </td></tr>\n",
       "<tr><td>technosphere</td><td>electricity, medium voltage                         </td><td>kilowatt hour    </td><td style=\"text-align: right;\"> 0.000106436</td><td>&#x27;market for electricity, medium voltage&#x27; (kilowatt hour, TR, None)                                             </td></tr>\n",
       "<tr><td>technosphere</td><td>electricity, medium voltage                         </td><td>kilowatt hour    </td><td style=\"text-align: right;\"> 9.59093e-07</td><td>&#x27;market for electricity, medium voltage&#x27; (kilowatt hour, JM, None)                                             </td></tr>\n",
       "<tr><td>technosphere</td><td>electricity, medium voltage                         </td><td>kilowatt hour    </td><td style=\"text-align: right;\"> 4.0547e-06 </td><td>&#x27;market for electricity, medium voltage&#x27; (kilowatt hour, PA, None)                                             </td></tr>\n",
       "<tr><td>technosphere</td><td>electricity, medium voltage                         </td><td>kilowatt hour    </td><td style=\"text-align: right;\"> 7.34584e-06</td><td>&#x27;market for electricity, medium voltage&#x27; (kilowatt hour, BH, None)                                             </td></tr>\n",
       "<tr><td>technosphere</td><td>electricity, medium voltage                         </td><td>kilowatt hour    </td><td style=\"text-align: right;\"> 8.87448e-06</td><td>&#x27;market for electricity, medium voltage&#x27; (kilowatt hour, MM, None)                                             </td></tr>\n",
       "<tr><td>technosphere</td><td>electricity, medium voltage                         </td><td>kilowatt hour    </td><td style=\"text-align: right;\"> 2.81934e-06</td><td>&#x27;market for electricity, medium voltage&#x27; (kilowatt hour, HN, None)                                             </td></tr>\n",
       "<tr><td>technosphere</td><td>electricity, medium voltage                         </td><td>kilowatt hour    </td><td style=\"text-align: right;\"> 5.99134e-06</td><td>&#x27;market for electricity, medium voltage&#x27; (kilowatt hour, SY, None)                                             </td></tr>\n",
       "<tr><td>technosphere</td><td>electricity, medium voltage                         </td><td>kilowatt hour    </td><td style=\"text-align: right;\"> 4.58793e-05</td><td>&#x27;market for electricity, medium voltage&#x27; (kilowatt hour, TH, None)                                             </td></tr>\n",
       "<tr><td>technosphere</td><td>gravel/sand quarry infrastructure                   </td><td>unit             </td><td style=\"text-align: right;\"> 4.75e-11   </td><td>&#x27;market for gravel/sand quarry infrastructure&#x27; (unit, GLO, None)                                               </td></tr>\n",
       "<tr><td>technosphere</td><td>heat, central or small-scale, other than natural gas</td><td>megajoule        </td><td style=\"text-align: right;\"> 6.65255e-05</td><td>&#x27;market for heat, central or small-scale, other than natural gas&#x27; (megajoule, Europe without Switzerland, None)</td></tr>\n",
       "<tr><td>technosphere</td><td>heat, central or small-scale, other than natural gas</td><td>megajoule        </td><td style=\"text-align: right;\"> 0.00484347 </td><td>&#x27;market for heat, central or small-scale, other than natural gas&#x27; (megajoule, RoW, None)                       </td></tr>\n",
       "<tr><td>technosphere</td><td>industrial machine, heavy, unspecified              </td><td>kilogram         </td><td style=\"text-align: right;\"> 9.51e-05   </td><td>&#x27;market for industrial machine, heavy, unspecified&#x27; (kilogram, RoW, None)                                      </td></tr>\n",
       "<tr><td>technosphere</td><td>lubricating oil                                     </td><td>kilogram         </td><td style=\"text-align: right;\"> 2.5e-06    </td><td>&#x27;market for lubricating oil&#x27; (kilogram, RoW, None)                                                             </td></tr>\n",
       "<tr><td>technosphere</td><td>municipal solid waste                               </td><td>kilogram         </td><td style=\"text-align: right;\">-6.98167e-10</td><td>&#x27;market for municipal solid waste&#x27; (kilogram, CY, None)                                                        </td></tr>\n",
       "<tr><td>technosphere</td><td>municipal solid waste                               </td><td>kilogram         </td><td style=\"text-align: right;\">-1.95961e-06</td><td>&#x27;market for municipal solid waste&#x27; (kilogram, RoW, None)                                                       </td></tr>\n",
       "<tr><td>technosphere</td><td>municipal solid waste                               </td><td>kilogram         </td><td style=\"text-align: right;\">-1.59697e-07</td><td>&#x27;market group for municipal solid waste&#x27; (kilogram, Europe without Switzerland, None)                          </td></tr>\n",
       "<tr><td>technosphere</td><td>recultivation, limestone mine                       </td><td>square meter     </td><td style=\"text-align: right;\"> 1.27e-06   </td><td>&#x27;market for recultivation, limestone mine&#x27; (square meter, GLO, None)                                           </td></tr>\n",
       "<tr><td>technosphere</td><td>scrap steel                                         </td><td>kilogram         </td><td style=\"text-align: right;\">-3.85779e-05</td><td>&#x27;market for scrap steel&#x27; (kilogram, RoW, None)                                                                 </td></tr>\n",
       "<tr><td>technosphere</td><td>scrap steel                                         </td><td>kilogram         </td><td style=\"text-align: right;\">-1.24221e-05</td><td>&#x27;market for scrap steel&#x27; (kilogram, Europe without Switzerland, None)                                          </td></tr>\n",
       "<tr><td>technosphere</td><td>steel, low-alloyed, hot rolled                      </td><td>kilogram         </td><td style=\"text-align: right;\"> 5.1e-05    </td><td>&#x27;market for steel, low-alloyed, hot rolled&#x27; (kilogram, GLO, None)                                              </td></tr>\n",
       "<tr><td>technosphere</td><td>synthetic rubber                                    </td><td>kilogram         </td><td style=\"text-align: right;\"> 4e-06      </td><td>&#x27;market for synthetic rubber&#x27; (kilogram, GLO, None)                                                            </td></tr>\n",
       "<tr><td>technosphere</td><td>tap water                                           </td><td>kilogram         </td><td style=\"text-align: right;\"> 0.00517308 </td><td>&#x27;market for tap water&#x27; (kilogram, Europe without Switzerland, None)                                            </td></tr>\n",
       "<tr><td>technosphere</td><td>tap water                                           </td><td>kilogram         </td><td style=\"text-align: right;\"> 4.48911e-05</td><td>&#x27;market for tap water&#x27; (kilogram, ZA, None)                                                                    </td></tr>\n",
       "<tr><td>technosphere</td><td>tap water                                           </td><td>kilogram         </td><td style=\"text-align: right;\"> 2.4058e-05 </td><td>&#x27;market for tap water&#x27; (kilogram, CO, None)                                                                    </td></tr>\n",
       "<tr><td>technosphere</td><td>tap water                                           </td><td>kilogram         </td><td style=\"text-align: right;\"> 1.57818e-05</td><td>&#x27;market for tap water&#x27; (kilogram, PE, None)                                                                    </td></tr>\n",
       "<tr><td>technosphere</td><td>tap water                                           </td><td>kilogram         </td><td style=\"text-align: right;\"> 0.00694219 </td><td>&#x27;market for tap water&#x27; (kilogram, RoW, None)                                                                   </td></tr>\n",
       "<tr><td>technosphere</td><td>waste mineral oil                                   </td><td>kilogram         </td><td style=\"text-align: right;\">-1.80908e-06</td><td>&#x27;market for waste mineral oil&#x27; (kilogram, RoW, None)                                                           </td></tr>\n",
       "<tr><td>technosphere</td><td>waste mineral oil                                   </td><td>kilogram         </td><td style=\"text-align: right;\">-6.90923e-07</td><td>&#x27;market for waste mineral oil&#x27; (kilogram, Europe without Switzerland, None)                                    </td></tr>\n",
       "<tr><td>technosphere</td><td>waste rubber, unspecified                           </td><td>kilogram         </td><td style=\"text-align: right;\">-2e-06      </td><td>&#x27;market for waste rubber, unspecified&#x27; (kilogram, RoW, None)                                                   </td></tr>\n",
       "<tr><td>technosphere</td><td>waste rubber, unspecified                           </td><td>kilogram         </td><td style=\"text-align: right;\">-2e-06      </td><td>&#x27;market for waste rubber, unspecified&#x27; (kilogram, Europe without Switzerland, None)                            </td></tr>\n",
       "<tr><td>biosphere   </td><td>Particulate Matter, &lt; 2.5 um                        </td><td>kilogram         </td><td style=\"text-align: right;\"> 4e-10      </td><td>&#x27;Particulate Matter, &lt; 2.5 um&#x27; (kilogram, None, (&#x27;air&#x27;, &#x27;non-urban air or from high stacks&#x27;))                  </td></tr>\n",
       "<tr><td>biosphere   </td><td>Particulate Matter, &gt; 10 um                         </td><td>kilogram         </td><td style=\"text-align: right;\"> 5.6e-09    </td><td>&#x27;Particulate Matter, &gt; 10 um&#x27; (kilogram, None, (&#x27;air&#x27;, &#x27;non-urban air or from high stacks&#x27;))                   </td></tr>\n",
       "<tr><td>biosphere   </td><td>Particulate Matter, &gt; 2.5 um and &lt; 10um             </td><td>kilogram         </td><td style=\"text-align: right;\"> 2e-09      </td><td>&#x27;Particulate Matter, &gt; 2.5 um and &lt; 10um&#x27; (kilogram, None, (&#x27;air&#x27;, &#x27;non-urban air or from high stacks&#x27;))       </td></tr>\n",
       "<tr><td>biosphere   </td><td>Water                                               </td><td>cubic meter      </td><td style=\"text-align: right;\"> 0.000306585</td><td>&#x27;Water&#x27; (cubic meter, None, (&#x27;air&#x27;,))                                                                          </td></tr>\n",
       "<tr><td>biosphere   </td><td>Water                                               </td><td>cubic meter      </td><td style=\"text-align: right;\"> 0.00081756 </td><td>&#x27;Water&#x27; (cubic meter, None, (&#x27;water&#x27;,))                                                                        </td></tr>\n",
       "<tr><td>biosphere   </td><td>Gravel                                              </td><td>kilogram         </td><td style=\"text-align: right;\"> 1.04       </td><td>&#x27;Gravel&#x27; (kilogram, None, (&#x27;natural resource&#x27;, &#x27;in ground&#x27;))                                                   </td></tr>\n",
       "<tr><td>biosphere   </td><td>Occupation, lake, artificial                        </td><td>square meter-year</td><td style=\"text-align: right;\"> 6.27e-05   </td><td>&#x27;Occupation, lake, artificial&#x27; (square meter-year, None, (&#x27;natural resource&#x27;, &#x27;land&#x27;))                         </td></tr>\n",
       "<tr><td>biosphere   </td><td>Occupation, mineral extraction site                 </td><td>square meter-year</td><td style=\"text-align: right;\"> 0.000288   </td><td>&#x27;Occupation, mineral extraction site&#x27; (square meter-year, None, (&#x27;natural resource&#x27;, &#x27;land&#x27;))                  </td></tr>\n",
       "<tr><td>biosphere   </td><td>Transformation, from unspecified                    </td><td>square meter     </td><td style=\"text-align: right;\"> 3.51e-05   </td><td>&#x27;Transformation, from unspecified&#x27; (square meter, None, (&#x27;natural resource&#x27;, &#x27;land&#x27;))                          </td></tr>\n",
       "<tr><td>biosphere   </td><td>Transformation, to lake, artificial                 </td><td>square meter     </td><td style=\"text-align: right;\"> 6.27e-06   </td><td>&#x27;Transformation, to lake, artificial&#x27; (square meter, None, (&#x27;natural resource&#x27;, &#x27;land&#x27;))                       </td></tr>\n",
       "<tr><td>biosphere   </td><td>Transformation, to mineral extraction site          </td><td>square meter     </td><td style=\"text-align: right;\"> 2.88e-05   </td><td>&#x27;Transformation, to mineral extraction site&#x27; (square meter, None, (&#x27;natural resource&#x27;, &#x27;land&#x27;))                </td></tr>\n",
       "<tr><td>biosphere   </td><td>Water, unspecified natural origin                   </td><td>cubic meter      </td><td style=\"text-align: right;\"> 0.00111195 </td><td>&#x27;Water, unspecified natural origin&#x27; (cubic meter, None, (&#x27;natural resource&#x27;, &#x27;in water&#x27;))                      </td></tr>\n",
       "</tbody>\n",
       "</table>"
      ],
      "text/plain": [
       "'<table>\\n<tbody>\\n<tr><td>production  </td><td>gravel, crushed                                     </td><td>kilogram         </td><td style=\"text-align: right;\"> 1          </td><td>&#x27;gravel production, crushed (for crushed stone)&#x27; (kilogram, RoW, None)                                         </td></tr>\\n<tr><td>technosphere</td><td>building, hall, steel construction                  </td><td>square meter     </td><td style=\"text-align: right;\"> 2.85e-06   </td><td>&#x27;market for building, hall, steel construction&#x27; (square meter, GLO, None)                                      </td></tr>\\n<tr><td>technosphere</td><td>conveyor belt                                       </td><td>meter            </td><td style=\"text-align: right;\"> 9.51e-08   </td><td>&#x27;market for conveyor belt&#x27; (meter, GLO, None)                                                                  </td></tr>\\n<tr><td>technosphere</td><td>diesel, burned in building machine                  </td><td>megajoule        </td><td style=\"text-align: right;\"> 0.0143     </td><td>&#x27;market for diesel, burned in building machine&#x27; (megajoule, GLO, None)                                         </td></tr>\\n<tr><td>technosphere</td><td>electricity, medium voltage                         </td><td>kilowatt hour    </td><td style=\"text-align: right;\"> 6.48436e-06</td><td>&#x27;market for electricity, medium voltage&#x27; (kilowatt hour, PY, None)                                             </td></tr>\\n<tr><td>technosphere</td><td>electricity, medium voltage                         </td><td>kilowatt hour    </td><td style=\"text-align: right;\"> 9.6133e-06 </td><td>&#x27;market for electricity, medium voltage&#x27; (kilowatt hour, EC, None)                                             </td></tr>\\n<tr><td>technosphere</td><td>electricity, medium voltage                         </td><td>kilowatt hour    </td><td style=\"text-align: right;\"> 0.000332695</td><td>&#x27;market group for electricity, medium voltage&#x27; (kilowatt hour, RME, None)                                      </td></tr>\\n<tr><td>technosphere</td><td>electricity, medium voltage                         </td><td>kilowatt hour    </td><td style=\"text-align: right;\"> 4.56887e-06</td><td>&#x27;market for electricity, medium voltage&#x27; (kilowatt hour, CR, None)                                             </td></tr>\\n<tr><td>technosphere</td><td>electricity, medium voltage                         </td><td>kilowatt hour    </td><td style=\"text-align: right;\"> 7.53338e-06</td><td>&#x27;market for electricity, medium voltage&#x27; (kilowatt hour, US-PR, None)                                          </td></tr>\\n<tr><td>technosphere</td><td>electricity, medium voltage                         </td><td>kilowatt hour    </td><td style=\"text-align: right;\"> 3.57918e-06</td><td>&#x27;market for electricity, medium voltage&#x27; (kilowatt hour, TT, None)                                             </td></tr>\\n<tr><td>technosphere</td><td>electricity, medium voltage                         </td><td>kilowatt hour    </td><td style=\"text-align: right;\"> 8.91359e-05</td><td>&#x27;market for electricity, medium voltage&#x27; (kilowatt hour, AU, None)                                             </td></tr>\\n<tr><td>technosphere</td><td>electricity, medium voltage                         </td><td>kilowatt hour    </td><td style=\"text-align: right;\"> 4.70253e-06</td><td>&#x27;market for electricity, medium voltage&#x27; (kilowatt hour, GT, None)                                             </td></tr>\\n<tr><td>technosphere</td><td>electricity, medium voltage                         </td><td>kilowatt hour    </td><td style=\"text-align: right;\"> 2.38388e-05</td><td>&#x27;market for electricity, medium voltage&#x27; (kilowatt hour, IL, None)                                             </td></tr>\\n<tr><td>technosphere</td><td>electricity, medium voltage                         </td><td>kilowatt hour    </td><td style=\"text-align: right;\"> 6.13921e-06</td><td>&#x27;market for electricity, medium voltage&#x27; (kilowatt hour, DO, None)                                             </td></tr>\\n<tr><td>technosphere</td><td>electricity, medium voltage                         </td><td>kilowatt hour    </td><td style=\"text-align: right;\"> 7.30047e-05</td><td>&#x27;market for electricity, medium voltage&#x27; (kilowatt hour, ID, None)                                             </td></tr>\\n<tr><td>technosphere</td><td>electricity, medium voltage                         </td><td>kilowatt hour    </td><td style=\"text-align: right;\"> 5.2872e-06 </td><td>&#x27;market for electricity, medium voltage&#x27; (kilowatt hour, KP, None)                                             </td></tr>\\n<tr><td>technosphere</td><td>electricity, medium voltage                         </td><td>kilowatt hour    </td><td style=\"text-align: right;\"> 2.86074e-05</td><td>&#x27;market for electricity, medium voltage&#x27; (kilowatt hour, CO, None)                                             </td></tr>\\n<tr><td>technosphere</td><td>electricity, medium voltage                         </td><td>kilowatt hour    </td><td style=\"text-align: right;\"> 5.6718e-06 </td><td>&#x27;market for electricity, medium voltage&#x27; (kilowatt hour, LB, None)                                             </td></tr>\\n<tr><td>technosphere</td><td>electricity, medium voltage                         </td><td>kilowatt hour    </td><td style=\"text-align: right;\"> 0.00311155 </td><td>&#x27;market group for electricity, medium voltage&#x27; (kilowatt hour, CN, None)                                       </td></tr>\\n<tr><td>technosphere</td><td>electricity, medium voltage                         </td><td>kilowatt hour    </td><td style=\"text-align: right;\"> 3.03236e-06</td><td>&#x27;market for electricity, medium voltage&#x27; (kilowatt hour, NP, None)                                             </td></tr>\\n<tr><td>technosphere</td><td>electricity, medium voltage                         </td><td>kilowatt hour    </td><td style=\"text-align: right;\"> 2.90908e-05</td><td>&#x27;market for electricity, medium voltage&#x27; (kilowatt hour, VE, None)                                             </td></tr>\\n<tr><td>technosphere</td><td>electricity, medium voltage                         </td><td>kilowatt hour    </td><td style=\"text-align: right;\"> 7.54899e-07</td><td>&#x27;market for electricity, medium voltage&#x27; (kilowatt hour, QA, None)                                             </td></tr>\\n<tr><td>technosphere</td><td>electricity, medium voltage                         </td><td>kilowatt hour    </td><td style=\"text-align: right;\"> 7.09874e-06</td><td>&#x27;market for electricity, medium voltage&#x27; (kilowatt hour, TM, None)                                             </td></tr>\\n<tr><td>technosphere</td><td>electricity, medium voltage                         </td><td>kilowatt hour    </td><td style=\"text-align: right;\"> 3.41802e-07</td><td>&#x27;market for electricity, medium voltage&#x27; (kilowatt hour, HT, None)                                             </td></tr>\\n<tr><td>technosphere</td><td>electricity, medium voltage                         </td><td>kilowatt hour    </td><td style=\"text-align: right;\"> 1.49999e-06</td><td>&#x27;market for electricity, medium voltage&#x27; (kilowatt hour, NI, None)                                             </td></tr>\\n<tr><td>technosphere</td><td>electricity, medium voltage                         </td><td>kilowatt hour    </td><td style=\"text-align: right;\"> 5.12537e-05</td><td>&#x27;market for electricity, medium voltage&#x27; (kilowatt hour, AR, None)                                             </td></tr>\\n<tr><td>technosphere</td><td>electricity, medium voltage                         </td><td>kilowatt hour    </td><td style=\"text-align: right;\"> 2.31264e-06</td><td>&#x27;market for electricity, medium voltage&#x27; (kilowatt hour, SV, None)                                             </td></tr>\\n<tr><td>technosphere</td><td>electricity, medium voltage                         </td><td>kilowatt hour    </td><td style=\"text-align: right;\"> 1.46729e-05</td><td>&#x27;market for electricity, medium voltage&#x27; (kilowatt hour, OM, None)                                             </td></tr>\\n<tr><td>technosphere</td><td>electricity, medium voltage                         </td><td>kilowatt hour    </td><td style=\"text-align: right;\"> 0.000217636</td><td>&#x27;market for electricity, medium voltage&#x27; (kilowatt hour, KR, None)                                             </td></tr>\\n<tr><td>technosphere</td><td>electricity, medium voltage                         </td><td>kilowatt hour    </td><td style=\"text-align: right;\"> 0.00166338 </td><td>&#x27;market group for electricity, medium voltage&#x27; (kilowatt hour, US, None)                                       </td></tr>\\n<tr><td>technosphere</td><td>electricity, medium voltage                         </td><td>kilowatt hour    </td><td style=\"text-align: right;\"> 5.94784e-06</td><td>&#x27;market for electricity, medium voltage&#x27; (kilowatt hour, LK, None)                                             </td></tr>\\n<tr><td>technosphere</td><td>electricity, medium voltage                         </td><td>kilowatt hour    </td><td style=\"text-align: right;\"> 4.39127e-06</td><td>&#x27;market for electricity, medium voltage&#x27; (kilowatt hour, UY, None)                                             </td></tr>\\n<tr><td>technosphere</td><td>electricity, medium voltage                         </td><td>kilowatt hour    </td><td style=\"text-align: right;\"> 6.68121e-06</td><td>&#x27;market for electricity, medium voltage&#x27; (kilowatt hour, JO, None)                                             </td></tr>\\n<tr><td>technosphere</td><td>electricity, medium voltage                         </td><td>kilowatt hour    </td><td style=\"text-align: right;\"> 2.60765e-06</td><td>&#x27;market for electricity, medium voltage&#x27; (kilowatt hour, AM, None)                                             </td></tr>\\n<tr><td>technosphere</td><td>electricity, medium voltage                         </td><td>kilowatt hour    </td><td style=\"text-align: right;\"> 0.00128075 </td><td>&#x27;market group for electricity, medium voltage&#x27; (kilowatt hour, Europe without Switzerland, None)               </td></tr>\\n<tr><td>technosphere</td><td>electricity, medium voltage                         </td><td>kilowatt hour    </td><td style=\"text-align: right;\"> 9.93219e-07</td><td>&#x27;market for electricity, medium voltage&#x27; (kilowatt hour, YE, None)                                             </td></tr>\\n<tr><td>technosphere</td><td>electricity, medium voltage                         </td><td>kilowatt hour    </td><td style=\"text-align: right;\"> 4.02611e-05</td><td>&#x27;market for electricity, medium voltage&#x27; (kilowatt hour, PH, None)                                             </td></tr>\\n<tr><td>technosphere</td><td>electricity, medium voltage                         </td><td>kilowatt hour    </td><td style=\"text-align: right;\"> 0.000348384</td><td>&#x27;market for electricity, medium voltage&#x27; (kilowatt hour, JP, None)                                             </td></tr>\\n<tr><td>technosphere</td><td>electricity, medium voltage                         </td><td>kilowatt hour    </td><td style=\"text-align: right;\"> 1.96748e-06</td><td>&#x27;market for electricity, medium voltage&#x27; (kilowatt hour, CY, None)                                             </td></tr>\\n<tr><td>technosphere</td><td>electricity, medium voltage                         </td><td>kilowatt hour    </td><td style=\"text-align: right;\"> 5.892e-06  </td><td>&#x27;market for electricity, medium voltage&#x27; (kilowatt hour, KG, None)                                             </td></tr>\\n<tr><td>technosphere</td><td>electricity, medium voltage                         </td><td>kilowatt hour    </td><td style=\"text-align: right;\"> 0.000398976</td><td>&#x27;market for electricity, medium voltage&#x27; (kilowatt hour, RU, None)                                             </td></tr>\\n<tr><td>technosphere</td><td>electricity, medium voltage                         </td><td>kilowatt hour    </td><td style=\"text-align: right;\"> 2.93417e-05</td><td>&#x27;market for electricity, medium voltage&#x27; (kilowatt hour, CL, None)                                             </td></tr>\\n<tr><td>technosphere</td><td>electricity, medium voltage                         </td><td>kilowatt hour    </td><td style=\"text-align: right;\"> 6.53527e-05</td><td>&#x27;market for electricity, medium voltage&#x27; (kilowatt hour, MY, None)                                             </td></tr>\\n<tr><td>technosphere</td><td>electricity, medium voltage                         </td><td>kilowatt hour    </td><td style=\"text-align: right;\"> 1.53541e-06</td><td>&#x27;market for electricity, medium voltage&#x27; (kilowatt hour, BN, None)                                             </td></tr>\\n<tr><td>technosphere</td><td>electricity, medium voltage                         </td><td>kilowatt hour    </td><td style=\"text-align: right;\"> 0.00013921 </td><td>&#x27;market group for electricity, medium voltage&#x27; (kilowatt hour, Canada without Quebec, None)                    </td></tr>\\n<tr><td>technosphere</td><td>electricity, medium voltage                         </td><td>kilowatt hour    </td><td style=\"text-align: right;\"> 2.84936e-05</td><td>&#x27;market for electricity, medium voltage&#x27; (kilowatt hour, BD, None)                                             </td></tr>\\n<tr><td>technosphere</td><td>electricity, medium voltage                         </td><td>kilowatt hour    </td><td style=\"text-align: right;\"> 8.6815e-06 </td><td>&#x27;market for electricity, medium voltage&#x27; (kilowatt hour, AZ, None)                                             </td></tr>\\n<tr><td>technosphere</td><td>electricity, medium voltage                         </td><td>kilowatt hour    </td><td style=\"text-align: right;\"> 2.11615e-05</td><td>&#x27;market for electricity, medium voltage&#x27; (kilowatt hour, PE, None)                                             </td></tr>\\n<tr><td>technosphere</td><td>electricity, medium voltage                         </td><td>kilowatt hour    </td><td style=\"text-align: right;\"> 2.52382e-05</td><td>&#x27;market for electricity, medium voltage&#x27; (kilowatt hour, UZ, None)                                             </td></tr>\\n<tr><td>technosphere</td><td>electricity, medium voltage                         </td><td>kilowatt hour    </td><td style=\"text-align: right;\"> 8.89122e-05</td><td>&#x27;market for electricity, medium voltage&#x27; (kilowatt hour, VN, None)                                             </td></tr>\\n<tr><td>technosphere</td><td>electricity, medium voltage                         </td><td>kilowatt hour    </td><td style=\"text-align: right;\"> 3.14647e-07</td><td>&#x27;market for electricity, medium voltage&#x27; (kilowatt hour, CW, None)                                             </td></tr>\\n<tr><td>technosphere</td><td>electricity, medium voltage                         </td><td>kilowatt hour    </td><td style=\"text-align: right;\"> 0.000104615</td><td>&#x27;market for electricity, medium voltage&#x27; (kilowatt hour, MX, None)                                             </td></tr>\\n<tr><td>technosphere</td><td>electricity, medium voltage                         </td><td>kilowatt hour    </td><td style=\"text-align: right;\"> 0.000294401</td><td>&#x27;market group for electricity, medium voltage&#x27; (kilowatt hour, RAF, None)                                      </td></tr>\\n<tr><td>technosphere</td><td>electricity, medium voltage                         </td><td>kilowatt hour    </td><td style=\"text-align: right;\"> 4.04814e-05</td><td>&#x27;market for electricity, medium voltage&#x27; (kilowatt hour, KZ, None)                                             </td></tr>\\n<tr><td>technosphere</td><td>electricity, medium voltage                         </td><td>kilowatt hour    </td><td style=\"text-align: right;\"> 7.23525e-06</td><td>&#x27;market for electricity, medium voltage&#x27; (kilowatt hour, CU, None)                                             </td></tr>\\n<tr><td>technosphere</td><td>electricity, medium voltage                         </td><td>kilowatt hour    </td><td style=\"text-align: right;\"> 7.04582e-06</td><td>&#x27;market for electricity, medium voltage&#x27; (kilowatt hour, TJ, None)                                             </td></tr>\\n<tr><td>technosphere</td><td>electricity, medium voltage                         </td><td>kilowatt hour    </td><td style=\"text-align: right;\"> 3.31098e-06</td><td>&#x27;market for electricity, medium voltage&#x27; (kilowatt hour, MN, None)                                             </td></tr>\\n<tr><td>technosphere</td><td>electricity, medium voltage                         </td><td>kilowatt hour    </td><td style=\"text-align: right;\"> 1.98122e-05</td><td>&#x27;market for electricity, medium voltage&#x27; (kilowatt hour, HK, None)                                             </td></tr>\\n<tr><td>technosphere</td><td>electricity, medium voltage                         </td><td>kilowatt hour    </td><td style=\"text-align: right;\"> 1.74694e-05</td><td>&#x27;market for electricity, medium voltage&#x27; (kilowatt hour, NZ, None)                                             </td></tr>\\n<tr><td>technosphere</td><td>electricity, medium voltage                         </td><td>kilowatt hour    </td><td style=\"text-align: right;\"> 4.67723e-06</td><td>&#x27;market for electricity, medium voltage&#x27; (kilowatt hour, GE, None)                                             </td></tr>\\n<tr><td>technosphere</td><td>electricity, medium voltage                         </td><td>kilowatt hour    </td><td style=\"text-align: right;\"> 4.63402e-06</td><td>&#x27;market for electricity, medium voltage&#x27; (kilowatt hour, KH, None)                                             </td></tr>\\n<tr><td>technosphere</td><td>electricity, medium voltage                         </td><td>kilowatt hour    </td><td style=\"text-align: right;\"> 9.20207e-05</td><td>&#x27;market for electricity, medium voltage&#x27; (kilowatt hour, TW, None)                                             </td></tr>\\n<tr><td>technosphere</td><td>electricity, medium voltage                         </td><td>kilowatt hour    </td><td style=\"text-align: right;\"> 5.08593e-05</td><td>&#x27;market for electricity, medium voltage&#x27; (kilowatt hour, PK, None)                                             </td></tr>\\n<tr><td>technosphere</td><td>electricity, medium voltage                         </td><td>kilowatt hour    </td><td style=\"text-align: right;\"> 1.88156e-05</td><td>&#x27;market for electricity, medium voltage&#x27; (kilowatt hour, SG, None)                                             </td></tr>\\n<tr><td>technosphere</td><td>electricity, medium voltage                         </td><td>kilowatt hour    </td><td style=\"text-align: right;\"> 3.6826e-06 </td><td>&#x27;market for electricity, medium voltage&#x27; (kilowatt hour, BO, None)                                             </td></tr>\\n<tr><td>technosphere</td><td>electricity, medium voltage                         </td><td>kilowatt hour    </td><td style=\"text-align: right;\"> 0.000106436</td><td>&#x27;market for electricity, medium voltage&#x27; (kilowatt hour, TR, None)                                             </td></tr>\\n<tr><td>technosphere</td><td>electricity, medium voltage                         </td><td>kilowatt hour    </td><td style=\"text-align: right;\"> 9.59093e-07</td><td>&#x27;market for electricity, medium voltage&#x27; (kilowatt hour, JM, None)                                             </td></tr>\\n<tr><td>technosphere</td><td>electricity, medium voltage                         </td><td>kilowatt hour    </td><td style=\"text-align: right;\"> 4.0547e-06 </td><td>&#x27;market for electricity, medium voltage&#x27; (kilowatt hour, PA, None)                                             </td></tr>\\n<tr><td>technosphere</td><td>electricity, medium voltage                         </td><td>kilowatt hour    </td><td style=\"text-align: right;\"> 7.34584e-06</td><td>&#x27;market for electricity, medium voltage&#x27; (kilowatt hour, BH, None)                                             </td></tr>\\n<tr><td>technosphere</td><td>electricity, medium voltage                         </td><td>kilowatt hour    </td><td style=\"text-align: right;\"> 8.87448e-06</td><td>&#x27;market for electricity, medium voltage&#x27; (kilowatt hour, MM, None)                                             </td></tr>\\n<tr><td>technosphere</td><td>electricity, medium voltage                         </td><td>kilowatt hour    </td><td style=\"text-align: right;\"> 2.81934e-06</td><td>&#x27;market for electricity, medium voltage&#x27; (kilowatt hour, HN, None)                                             </td></tr>\\n<tr><td>technosphere</td><td>electricity, medium voltage                         </td><td>kilowatt hour    </td><td style=\"text-align: right;\"> 5.99134e-06</td><td>&#x27;market for electricity, medium voltage&#x27; (kilowatt hour, SY, None)                                             </td></tr>\\n<tr><td>technosphere</td><td>electricity, medium voltage                         </td><td>kilowatt hour    </td><td style=\"text-align: right;\"> 4.58793e-05</td><td>&#x27;market for electricity, medium voltage&#x27; (kilowatt hour, TH, None)                                             </td></tr>\\n<tr><td>technosphere</td><td>gravel/sand quarry infrastructure                   </td><td>unit             </td><td style=\"text-align: right;\"> 4.75e-11   </td><td>&#x27;market for gravel/sand quarry infrastructure&#x27; (unit, GLO, None)                                               </td></tr>\\n<tr><td>technosphere</td><td>heat, central or small-scale, other than natural gas</td><td>megajoule        </td><td style=\"text-align: right;\"> 6.65255e-05</td><td>&#x27;market for heat, central or small-scale, other than natural gas&#x27; (megajoule, Europe without Switzerland, None)</td></tr>\\n<tr><td>technosphere</td><td>heat, central or small-scale, other than natural gas</td><td>megajoule        </td><td style=\"text-align: right;\"> 0.00484347 </td><td>&#x27;market for heat, central or small-scale, other than natural gas&#x27; (megajoule, RoW, None)                       </td></tr>\\n<tr><td>technosphere</td><td>industrial machine, heavy, unspecified              </td><td>kilogram         </td><td style=\"text-align: right;\"> 9.51e-05   </td><td>&#x27;market for industrial machine, heavy, unspecified&#x27; (kilogram, RoW, None)                                      </td></tr>\\n<tr><td>technosphere</td><td>lubricating oil                                     </td><td>kilogram         </td><td style=\"text-align: right;\"> 2.5e-06    </td><td>&#x27;market for lubricating oil&#x27; (kilogram, RoW, None)                                                             </td></tr>\\n<tr><td>technosphere</td><td>municipal solid waste                               </td><td>kilogram         </td><td style=\"text-align: right;\">-6.98167e-10</td><td>&#x27;market for municipal solid waste&#x27; (kilogram, CY, None)                                                        </td></tr>\\n<tr><td>technosphere</td><td>municipal solid waste                               </td><td>kilogram         </td><td style=\"text-align: right;\">-1.95961e-06</td><td>&#x27;market for municipal solid waste&#x27; (kilogram, RoW, None)                                                       </td></tr>\\n<tr><td>technosphere</td><td>municipal solid waste                               </td><td>kilogram         </td><td style=\"text-align: right;\">-1.59697e-07</td><td>&#x27;market group for municipal solid waste&#x27; (kilogram, Europe without Switzerland, None)                          </td></tr>\\n<tr><td>technosphere</td><td>recultivation, limestone mine                       </td><td>square meter     </td><td style=\"text-align: right;\"> 1.27e-06   </td><td>&#x27;market for recultivation, limestone mine&#x27; (square meter, GLO, None)                                           </td></tr>\\n<tr><td>technosphere</td><td>scrap steel                                         </td><td>kilogram         </td><td style=\"text-align: right;\">-3.85779e-05</td><td>&#x27;market for scrap steel&#x27; (kilogram, RoW, None)                                                                 </td></tr>\\n<tr><td>technosphere</td><td>scrap steel                                         </td><td>kilogram         </td><td style=\"text-align: right;\">-1.24221e-05</td><td>&#x27;market for scrap steel&#x27; (kilogram, Europe without Switzerland, None)                                          </td></tr>\\n<tr><td>technosphere</td><td>steel, low-alloyed, hot rolled                      </td><td>kilogram         </td><td style=\"text-align: right;\"> 5.1e-05    </td><td>&#x27;market for steel, low-alloyed, hot rolled&#x27; (kilogram, GLO, None)                                              </td></tr>\\n<tr><td>technosphere</td><td>synthetic rubber                                    </td><td>kilogram         </td><td style=\"text-align: right;\"> 4e-06      </td><td>&#x27;market for synthetic rubber&#x27; (kilogram, GLO, None)                                                            </td></tr>\\n<tr><td>technosphere</td><td>tap water                                           </td><td>kilogram         </td><td style=\"text-align: right;\"> 0.00517308 </td><td>&#x27;market for tap water&#x27; (kilogram, Europe without Switzerland, None)                                            </td></tr>\\n<tr><td>technosphere</td><td>tap water                                           </td><td>kilogram         </td><td style=\"text-align: right;\"> 4.48911e-05</td><td>&#x27;market for tap water&#x27; (kilogram, ZA, None)                                                                    </td></tr>\\n<tr><td>technosphere</td><td>tap water                                           </td><td>kilogram         </td><td style=\"text-align: right;\"> 2.4058e-05 </td><td>&#x27;market for tap water&#x27; (kilogram, CO, None)                                                                    </td></tr>\\n<tr><td>technosphere</td><td>tap water                                           </td><td>kilogram         </td><td style=\"text-align: right;\"> 1.57818e-05</td><td>&#x27;market for tap water&#x27; (kilogram, PE, None)                                                                    </td></tr>\\n<tr><td>technosphere</td><td>tap water                                           </td><td>kilogram         </td><td style=\"text-align: right;\"> 0.00694219 </td><td>&#x27;market for tap water&#x27; (kilogram, RoW, None)                                                                   </td></tr>\\n<tr><td>technosphere</td><td>waste mineral oil                                   </td><td>kilogram         </td><td style=\"text-align: right;\">-1.80908e-06</td><td>&#x27;market for waste mineral oil&#x27; (kilogram, RoW, None)                                                           </td></tr>\\n<tr><td>technosphere</td><td>waste mineral oil                                   </td><td>kilogram         </td><td style=\"text-align: right;\">-6.90923e-07</td><td>&#x27;market for waste mineral oil&#x27; (kilogram, Europe without Switzerland, None)                                    </td></tr>\\n<tr><td>technosphere</td><td>waste rubber, unspecified                           </td><td>kilogram         </td><td style=\"text-align: right;\">-2e-06      </td><td>&#x27;market for waste rubber, unspecified&#x27; (kilogram, RoW, None)                                                   </td></tr>\\n<tr><td>technosphere</td><td>waste rubber, unspecified                           </td><td>kilogram         </td><td style=\"text-align: right;\">-2e-06      </td><td>&#x27;market for waste rubber, unspecified&#x27; (kilogram, Europe without Switzerland, None)                            </td></tr>\\n<tr><td>biosphere   </td><td>Particulate Matter, &lt; 2.5 um                        </td><td>kilogram         </td><td style=\"text-align: right;\"> 4e-10      </td><td>&#x27;Particulate Matter, &lt; 2.5 um&#x27; (kilogram, None, (&#x27;air&#x27;, &#x27;non-urban air or from high stacks&#x27;))                  </td></tr>\\n<tr><td>biosphere   </td><td>Particulate Matter, &gt; 10 um                         </td><td>kilogram         </td><td style=\"text-align: right;\"> 5.6e-09    </td><td>&#x27;Particulate Matter, &gt; 10 um&#x27; (kilogram, None, (&#x27;air&#x27;, &#x27;non-urban air or from high stacks&#x27;))                   </td></tr>\\n<tr><td>biosphere   </td><td>Particulate Matter, &gt; 2.5 um and &lt; 10um             </td><td>kilogram         </td><td style=\"text-align: right;\"> 2e-09      </td><td>&#x27;Particulate Matter, &gt; 2.5 um and &lt; 10um&#x27; (kilogram, None, (&#x27;air&#x27;, &#x27;non-urban air or from high stacks&#x27;))       </td></tr>\\n<tr><td>biosphere   </td><td>Water                                               </td><td>cubic meter      </td><td style=\"text-align: right;\"> 0.000306585</td><td>&#x27;Water&#x27; (cubic meter, None, (&#x27;air&#x27;,))                                                                          </td></tr>\\n<tr><td>biosphere   </td><td>Water                                               </td><td>cubic meter      </td><td style=\"text-align: right;\"> 0.00081756 </td><td>&#x27;Water&#x27; (cubic meter, None, (&#x27;water&#x27;,))                                                                        </td></tr>\\n<tr><td>biosphere   </td><td>Gravel                                              </td><td>kilogram         </td><td style=\"text-align: right;\"> 1.04       </td><td>&#x27;Gravel&#x27; (kilogram, None, (&#x27;natural resource&#x27;, &#x27;in ground&#x27;))                                                   </td></tr>\\n<tr><td>biosphere   </td><td>Occupation, lake, artificial                        </td><td>square meter-year</td><td style=\"text-align: right;\"> 6.27e-05   </td><td>&#x27;Occupation, lake, artificial&#x27; (square meter-year, None, (&#x27;natural resource&#x27;, &#x27;land&#x27;))                         </td></tr>\\n<tr><td>biosphere   </td><td>Occupation, mineral extraction site                 </td><td>square meter-year</td><td style=\"text-align: right;\"> 0.000288   </td><td>&#x27;Occupation, mineral extraction site&#x27; (square meter-year, None, (&#x27;natural resource&#x27;, &#x27;land&#x27;))                  </td></tr>\\n<tr><td>biosphere   </td><td>Transformation, from unspecified                    </td><td>square meter     </td><td style=\"text-align: right;\"> 3.51e-05   </td><td>&#x27;Transformation, from unspecified&#x27; (square meter, None, (&#x27;natural resource&#x27;, &#x27;land&#x27;))                          </td></tr>\\n<tr><td>biosphere   </td><td>Transformation, to lake, artificial                 </td><td>square meter     </td><td style=\"text-align: right;\"> 6.27e-06   </td><td>&#x27;Transformation, to lake, artificial&#x27; (square meter, None, (&#x27;natural resource&#x27;, &#x27;land&#x27;))                       </td></tr>\\n<tr><td>biosphere   </td><td>Transformation, to mineral extraction site          </td><td>square meter     </td><td style=\"text-align: right;\"> 2.88e-05   </td><td>&#x27;Transformation, to mineral extraction site&#x27; (square meter, None, (&#x27;natural resource&#x27;, &#x27;land&#x27;))                </td></tr>\\n<tr><td>biosphere   </td><td>Water, unspecified natural origin                   </td><td>cubic meter      </td><td style=\"text-align: right;\"> 0.00111195 </td><td>&#x27;Water, unspecified natural origin&#x27; (cubic meter, None, (&#x27;natural resource&#x27;, &#x27;in water&#x27;))                      </td></tr>\\n</tbody>\\n</table>'"
      ]
     },
     "execution_count": 60,
     "metadata": {},
     "output_type": "execute_result"
    }
   ],
   "source": [
    "# Look at exhanges characterizing activity gravel_cs\n",
    "rows = []\n",
    "for exc in gravel_cs.exchanges():\n",
    "    exc_row = {\n",
    "        field: value\n",
    "        for field, value in exc.as_dict().items()\n",
    "        if field in [\"amount\", \"unit\", \"name\", \"type\"]\n",
    "    }\n",
    "    exchange_activity = bd.get_activity(exc[\"input\"])\n",
    "    exc_row[\"activity\"] = str(exchange_activity)\n",
    "    rows.append(exc_row)\n",
    "tabulate(rows, tablefmt=\"html\")"
   ]
  },
  {
   "cell_type": "code",
   "execution_count": 61,
   "id": "636ca1b6-61a0-4a4b-936c-2a483aaa34aa",
   "metadata": {
    "scrolled": true
   },
   "outputs": [
    {
     "data": {
      "text/plain": [
       "{'flow': '37eceabd-b33f-4757-a4b9-5c51dee1710d',\n",
       " 'type': 'production',\n",
       " 'name': 'gravel, crushed',\n",
       " 'classifications': {'CPC': ['15320: Pebbles, gravel, broken or crushed stone, macadam; granules, chippings and powder of stone']},\n",
       " 'production volume': 3684834500000.0,\n",
       " 'properties': {'carbon allocation': {'amount': 0.0, 'unit': 'kg'},\n",
       "  'carbon content': {'amount': 0.0, 'unit': 'dimensionless'},\n",
       "  'carbon content, fossil': {'amount': 0.0,\n",
       "   'comment': 'SiO2, ecoinvent v2.2 report 7, part I',\n",
       "   'unit': 'dimensionless'},\n",
       "  'carbon content, non-fossil': {'amount': 0.0,\n",
       "   'comment': 'SiO2, ecoinvent v2.2 report 7, part I',\n",
       "   'unit': 'dimensionless'},\n",
       "  'dry mass': {'amount': 1.0, 'unit': 'kg'},\n",
       "  'price': {'amount': 0.00446,\n",
       "   'comment': 'World market prices are estimated to be equal to USA prices, which are given according to http://minerals.usgs.gov/minerals/pubs/commodity/sand_&_gravel_construction/myb1-2007-sandc.xls, table 1, downloaded 21 April 2009. NOTE: The crushing process may incur an additional price, making this price higher, and sand and round gravel smaller than the average price given here.',\n",
       "   'unit': 'EUR2005'},\n",
       "  'water content': {'amount': 0.0,\n",
       "   'comment': 'water mass/dry mass',\n",
       "   'unit': 'dimensionless'},\n",
       "  'water in wet mass': {'amount': 0.0, 'unit': 'kg'},\n",
       "  'wet mass': {'amount': 1.0, 'unit': 'kg'}},\n",
       " 'activity': '597eca42-291d-5f97-ab75-a3defdd5194d',\n",
       " 'unit': 'kilogram',\n",
       " 'comment': 'EcoSpold01Location=CH',\n",
       " 'variable name': 'ref',\n",
       " 'amount': 1.0,\n",
       " 'uncertainty type': 0,\n",
       " 'loc': 1.0,\n",
       " 'input': ('ecoinvent-3.9.1-cutoff', '42df1106291240a5a3f1c8b7e22bb404'),\n",
       " 'output': ('ecoinvent-3.9.1-cutoff', '42df1106291240a5a3f1c8b7e22bb404')}"
      ]
     },
     "execution_count": 61,
     "metadata": {},
     "output_type": "execute_result"
    }
   ],
   "source": [
    "# detail look to exchanges of interest\n",
    "[\n",
    "    exc for exc in gravel_cs.exchanges() if exc.get(\"name\", \"\") == \"gravel, crushed\"\n",
    "].pop().as_dict()  # gravel, crushed"
   ]
  },
  {
   "cell_type": "markdown",
   "id": "920b0278-8160-4b02-854e-1eb42a490dd9",
   "metadata": {},
   "source": [
    "### Define new values for the exchanges"
   ]
  },
  {
   "cell_type": "code",
   "execution_count": 62,
   "id": "a8df5e3c-2434-4c8a-b8f7-089f1e5fd2e7",
   "metadata": {},
   "outputs": [],
   "source": [
    "# create dictionary with exchanges to keep\n",
    "gravel_cs_exc = [\n",
    "    {\"name\": \"gravel, crushed\", \"type\": \"production\"},\n",
    "    {\"name\": \"building, hall, steel construction\", \"type\": \"technosphere\"},\n",
    "    {\"name\": \"conveyor belt\", \"type\": \"technosphere\"},\n",
    "    {\"name\": \"Gravel\", \"type\": \"biosphere\"},\n",
    "    {\"name\": \"gravel/sand quarry infrastructure\", \"type\": \"technosphere\"},\n",
    "    {\"name\": \"industrial machine, heavy, unspecified\", \"type\": \"technosphere\"},\n",
    "    {\"name\": \"recultivation, limestone mine\", \"type\": \"technosphere\"},\n",
    "    {\"name\": \"steel, low-alloyed, hot rolled\", \"type\": \"technosphere\"},\n",
    "    {\"name\": \"synthetic rubber\", \"type\": \"technosphere\"},\n",
    "]"
   ]
  },
  {
   "cell_type": "markdown",
   "id": "cd9298ee-2e19-44cc-bb3d-5ece73c413ea",
   "metadata": {},
   "source": [
    "### Modify gravel_cs exchanges"
   ]
  },
  {
   "cell_type": "code",
   "execution_count": 63,
   "id": "6720a9c5-1467-49ad-99dc-7efc53f5ecfc",
   "metadata": {},
   "outputs": [],
   "source": [
    "# Iterate over exchanges in gravel_cs to delete exchanges that are not included in gravel_cs_exc\n",
    "for exc in gravel_cs.exchanges():\n",
    "    found = False\n",
    "    for item in gravel_cs_exc:\n",
    "        if exc[\"name\"] == item[\"name\"] and exc[\"type\"] == item[\"type\"]:\n",
    "            found = True\n",
    "            break\n",
    "    if not found:\n",
    "        exc.delete()\n",
    "        # exc.save()"
   ]
  },
  {
   "cell_type": "code",
   "execution_count": 64,
   "id": "35a6cf30-378c-40b0-9dc3-63b80f08b358",
   "metadata": {
    "scrolled": true
   },
   "outputs": [
    {
     "data": {
      "text/html": [
       "<table>\n",
       "<tbody>\n",
       "<tr><td>production  </td><td>gravel, crushed                       </td><td>kilogram    </td><td style=\"text-align: right;\">1       </td><td>&#x27;gravel production, crushed (for crushed stone)&#x27; (kilogram, RoW, None)   </td></tr>\n",
       "<tr><td>technosphere</td><td>building, hall, steel construction    </td><td>square meter</td><td style=\"text-align: right;\">2.85e-06</td><td>&#x27;market for building, hall, steel construction&#x27; (square meter, GLO, None)</td></tr>\n",
       "<tr><td>technosphere</td><td>conveyor belt                         </td><td>meter       </td><td style=\"text-align: right;\">9.51e-08</td><td>&#x27;market for conveyor belt&#x27; (meter, GLO, None)                            </td></tr>\n",
       "<tr><td>technosphere</td><td>gravel/sand quarry infrastructure     </td><td>unit        </td><td style=\"text-align: right;\">4.75e-11</td><td>&#x27;market for gravel/sand quarry infrastructure&#x27; (unit, GLO, None)         </td></tr>\n",
       "<tr><td>technosphere</td><td>industrial machine, heavy, unspecified</td><td>kilogram    </td><td style=\"text-align: right;\">9.51e-05</td><td>&#x27;market for industrial machine, heavy, unspecified&#x27; (kilogram, RoW, None)</td></tr>\n",
       "<tr><td>technosphere</td><td>recultivation, limestone mine         </td><td>square meter</td><td style=\"text-align: right;\">1.27e-06</td><td>&#x27;market for recultivation, limestone mine&#x27; (square meter, GLO, None)     </td></tr>\n",
       "<tr><td>technosphere</td><td>steel, low-alloyed, hot rolled        </td><td>kilogram    </td><td style=\"text-align: right;\">5.1e-05 </td><td>&#x27;market for steel, low-alloyed, hot rolled&#x27; (kilogram, GLO, None)        </td></tr>\n",
       "<tr><td>technosphere</td><td>synthetic rubber                      </td><td>kilogram    </td><td style=\"text-align: right;\">4e-06   </td><td>&#x27;market for synthetic rubber&#x27; (kilogram, GLO, None)                      </td></tr>\n",
       "<tr><td>biosphere   </td><td>Gravel                                </td><td>kilogram    </td><td style=\"text-align: right;\">1.04    </td><td>&#x27;Gravel&#x27; (kilogram, None, (&#x27;natural resource&#x27;, &#x27;in ground&#x27;))             </td></tr>\n",
       "</tbody>\n",
       "</table>"
      ],
      "text/plain": [
       "'<table>\\n<tbody>\\n<tr><td>production  </td><td>gravel, crushed                       </td><td>kilogram    </td><td style=\"text-align: right;\">1       </td><td>&#x27;gravel production, crushed (for crushed stone)&#x27; (kilogram, RoW, None)   </td></tr>\\n<tr><td>technosphere</td><td>building, hall, steel construction    </td><td>square meter</td><td style=\"text-align: right;\">2.85e-06</td><td>&#x27;market for building, hall, steel construction&#x27; (square meter, GLO, None)</td></tr>\\n<tr><td>technosphere</td><td>conveyor belt                         </td><td>meter       </td><td style=\"text-align: right;\">9.51e-08</td><td>&#x27;market for conveyor belt&#x27; (meter, GLO, None)                            </td></tr>\\n<tr><td>technosphere</td><td>gravel/sand quarry infrastructure     </td><td>unit        </td><td style=\"text-align: right;\">4.75e-11</td><td>&#x27;market for gravel/sand quarry infrastructure&#x27; (unit, GLO, None)         </td></tr>\\n<tr><td>technosphere</td><td>industrial machine, heavy, unspecified</td><td>kilogram    </td><td style=\"text-align: right;\">9.51e-05</td><td>&#x27;market for industrial machine, heavy, unspecified&#x27; (kilogram, RoW, None)</td></tr>\\n<tr><td>technosphere</td><td>recultivation, limestone mine         </td><td>square meter</td><td style=\"text-align: right;\">1.27e-06</td><td>&#x27;market for recultivation, limestone mine&#x27; (square meter, GLO, None)     </td></tr>\\n<tr><td>technosphere</td><td>steel, low-alloyed, hot rolled        </td><td>kilogram    </td><td style=\"text-align: right;\">5.1e-05 </td><td>&#x27;market for steel, low-alloyed, hot rolled&#x27; (kilogram, GLO, None)        </td></tr>\\n<tr><td>technosphere</td><td>synthetic rubber                      </td><td>kilogram    </td><td style=\"text-align: right;\">4e-06   </td><td>&#x27;market for synthetic rubber&#x27; (kilogram, GLO, None)                      </td></tr>\\n<tr><td>biosphere   </td><td>Gravel                                </td><td>kilogram    </td><td style=\"text-align: right;\">1.04    </td><td>&#x27;Gravel&#x27; (kilogram, None, (&#x27;natural resource&#x27;, &#x27;in ground&#x27;))             </td></tr>\\n</tbody>\\n</table>'"
      ]
     },
     "execution_count": 64,
     "metadata": {},
     "output_type": "execute_result"
    }
   ],
   "source": [
    "# verify new exchanges for gravel_cs\n",
    "rows = []\n",
    "for exc in gravel_cs.exchanges():\n",
    "    exc_row = {\n",
    "        field: value\n",
    "        for field, value in exc.as_dict().items()\n",
    "        if field in [\"amount\", \"unit\", \"name\", \"type\"]\n",
    "    }\n",
    "    exchange_activity = bd.get_activity(exc[\"input\"])\n",
    "    exc_row[\"activity\"] = str(exchange_activity)\n",
    "    rows.append(exc_row)\n",
    "tabulate(rows, tablefmt=\"html\")"
   ]
  },
  {
   "cell_type": "markdown",
   "id": "697c4a45-7e3e-4cd0-a47f-1d0dedfcab42",
   "metadata": {},
   "source": [
    "## Adding cellullose fibre production modified process\n",
    "\n",
    "This processs is based on the following ecoinvent process:\n",
    "\n",
    "- cellulose fibre production - RoW\n",
    "\n",
    "The new process is modified to exclude the *borax, anhydrous, powder* and *boric acid, anhydrous, powder* technosphere exchanges.\n",
    "\n",
    "The name of the new process is set to:\n",
    "\n",
    "- cellulose fibre production (without borax and boric acid) - RoW"
   ]
  },
  {
   "cell_type": "code",
   "execution_count": 65,
   "id": "491eb5c8-fe19-46b0-905f-299af1278c20",
   "metadata": {},
   "outputs": [
    {
     "name": "stdout",
     "output_type": "stream",
     "text": [
      "'cellulose fibre production (without borax and boric acid)' (kilogram, RoW, None)\n"
     ]
    }
   ],
   "source": [
    "# Delete the cellulose fibre production (without borax and boric acid) in case we ran this notebook multiple times\n",
    "res = EI_DB.search(\"cellulose fibre production (without borax and boric acid) RoW\")\n",
    "for r in res:\n",
    "    if r.get(\n",
    "        \"name\", \"\"\n",
    "    ) == \"cellulose fibre production (without borax and boric acid)\" and (\n",
    "        r.get(\"location\", \"\") == \"RoW\"\n",
    "    ):\n",
    "        print(r)\n",
    "        r.delete()"
   ]
  },
  {
   "cell_type": "code",
   "execution_count": 66,
   "id": "9486feee-3465-4ce7-8768-81e72350516c",
   "metadata": {},
   "outputs": [
    {
     "data": {
      "text/plain": [
       "['cellulose fibre production' (kilogram, RoW, None)]"
      ]
     },
     "execution_count": 66,
     "metadata": {},
     "output_type": "execute_result"
    }
   ],
   "source": [
    "# Search for cellulose fibre production in background database\n",
    "EI_DB.search(\"cellulose fibre production RoW\")"
   ]
  },
  {
   "cell_type": "markdown",
   "id": "0b3e6499-bde7-433c-980f-100ee9019a25",
   "metadata": {},
   "source": [
    "### Copy existing cellulose fibre process"
   ]
  },
  {
   "cell_type": "code",
   "execution_count": 67,
   "id": "c60350d4-aaa2-4ae5-b091-1633c0674eb0",
   "metadata": {},
   "outputs": [
    {
     "name": "stdout",
     "output_type": "stream",
     "text": [
      "'cellulose fibre production' (kilogram, RoW, None)\n"
     ]
    }
   ],
   "source": [
    "# Copy existing cellulose fibre process\n",
    "cellulose = EI_DB.search(\"cellulose fibre production\")[1]\n",
    "q = Query()\n",
    "filter_name = Filter(\"name\", \"is\", \"cellulose fibre production\")\n",
    "filter_location = Filter(\"location\", \"is\", \"RoW\")\n",
    "res = q(eidb_data)\n",
    "if len(res) == 1:\n",
    "    cellulose = bd.get_activity(list(res).pop())\n",
    "print(cellulose)"
   ]
  },
  {
   "cell_type": "code",
   "execution_count": 68,
   "id": "7132b32c-fd65-40ed-bc25-53afe9c137bb",
   "metadata": {},
   "outputs": [],
   "source": [
    "cellulose_mod = cellulose.copy(\n",
    "    name=\"cellulose fibre production (without borax and boric acid)\"\n",
    ")"
   ]
  },
  {
   "cell_type": "code",
   "execution_count": 69,
   "id": "42c7035c-320b-438a-9c7f-6a25321d3405",
   "metadata": {},
   "outputs": [
    {
     "data": {
      "text/plain": [
       "['cellulose fibre production (without borax and boric acid)' (kilogram, RoW, None)]"
      ]
     },
     "execution_count": 69,
     "metadata": {},
     "output_type": "execute_result"
    }
   ],
   "source": [
    "# Verify that the new cellulose fibre process was recorded\n",
    "EI_DB.search(\"cellulose fibre production (without borax and boric acid)\")"
   ]
  },
  {
   "cell_type": "code",
   "execution_count": 70,
   "id": "73485d51-b675-4e0e-b17e-1ee967066419",
   "metadata": {},
   "outputs": [
    {
     "data": {
      "text/html": [
       "<table>\n",
       "<tbody>\n",
       "<tr><td>technosphere</td><td>aluminium hydroxide                      </td><td>kilogram     </td><td style=\"text-align: right;\"> 0.04       </td><td>&#x27;market for aluminium hydroxide&#x27; (kilogram, GLO, None)                                              </td></tr>\n",
       "<tr><td>technosphere</td><td>boric acid, anhydrous, powder            </td><td>kilogram     </td><td style=\"text-align: right;\"> 0.04       </td><td>&#x27;market for boric acid, anhydrous, powder&#x27; (kilogram, GLO, None)                                    </td></tr>\n",
       "<tr><td>technosphere</td><td>building, hall, steel construction       </td><td>square meter </td><td style=\"text-align: right;\"> 4.24e-06   </td><td>&#x27;market for building, hall, steel construction&#x27; (square meter, GLO, None)                           </td></tr>\n",
       "<tr><td>technosphere</td><td>electricity, medium voltage              </td><td>kilowatt hour</td><td style=\"text-align: right;\"> 0.00119392 </td><td>&#x27;market for electricity, medium voltage&#x27; (kilowatt hour, AU, None)                                  </td></tr>\n",
       "<tr><td>technosphere</td><td>electricity, medium voltage              </td><td>kilowatt hour</td><td style=\"text-align: right;\"> 0.0720916  </td><td>&#x27;market group for electricity, medium voltage&#x27; (kilowatt hour, RAS, None)                           </td></tr>\n",
       "<tr><td>technosphere</td><td>electricity, medium voltage              </td><td>kilowatt hour</td><td style=\"text-align: right;\"> 0.00785732 </td><td>&#x27;market group for electricity, medium voltage&#x27; (kilowatt hour, RLA, None)                           </td></tr>\n",
       "<tr><td>technosphere</td><td>electricity, medium voltage              </td><td>kilowatt hour</td><td style=\"text-align: right;\"> 0.0171548  </td><td>&#x27;market group for electricity, medium voltage&#x27; (kilowatt hour, Europe without Switzerland, None)    </td></tr>\n",
       "<tr><td>technosphere</td><td>electricity, medium voltage              </td><td>kilowatt hour</td><td style=\"text-align: right;\"> 0.00534402 </td><td>&#x27;market for electricity, medium voltage&#x27; (kilowatt hour, RU, None)                                  </td></tr>\n",
       "<tr><td>technosphere</td><td>electricity, medium voltage              </td><td>kilowatt hour</td><td style=\"text-align: right;\"> 0.0251811  </td><td>&#x27;market group for electricity, medium voltage&#x27; (kilowatt hour, RNA, None)                           </td></tr>\n",
       "<tr><td>technosphere</td><td>electricity, medium voltage              </td><td>kilowatt hour</td><td style=\"text-align: right;\"> 0.0039433  </td><td>&#x27;market group for electricity, medium voltage&#x27; (kilowatt hour, RAF, None)                           </td></tr>\n",
       "<tr><td>technosphere</td><td>electricity, medium voltage              </td><td>kilowatt hour</td><td style=\"text-align: right;\"> 0.000233991</td><td>&#x27;market for electricity, medium voltage&#x27; (kilowatt hour, NZ, None)                                  </td></tr>\n",
       "<tr><td>technosphere</td><td>heat, district or industrial, natural gas</td><td>megajoule    </td><td style=\"text-align: right;\"> 0.0462426  </td><td>&#x27;market for heat, district or industrial, natural gas&#x27; (megajoule, RoW, None)                       </td></tr>\n",
       "<tr><td>technosphere</td><td>heat, district or industrial, natural gas</td><td>megajoule    </td><td style=\"text-align: right;\"> 0.000759884</td><td>&#x27;market for heat, district or industrial, natural gas&#x27; (megajoule, CA-QC, None)                     </td></tr>\n",
       "<tr><td>technosphere</td><td>heat, district or industrial, natural gas</td><td>megajoule    </td><td style=\"text-align: right;\"> 0.0170776  </td><td>&#x27;market for heat, district or industrial, natural gas&#x27; (megajoule, Europe without Switzerland, None)</td></tr>\n",
       "<tr><td>technosphere</td><td>industrial machine, heavy, unspecified   </td><td>kilogram     </td><td style=\"text-align: right;\"> 0.000484   </td><td>&#x27;market for industrial machine, heavy, unspecified&#x27; (kilogram, RoW, None)                           </td></tr>\n",
       "<tr><td>technosphere</td><td>municipal solid waste                    </td><td>kilogram     </td><td style=\"text-align: right;\">-1.6963e-06 </td><td>&#x27;market for municipal solid waste&#x27; (kilogram, CY, None)                                             </td></tr>\n",
       "<tr><td>technosphere</td><td>municipal solid waste                    </td><td>kilogram     </td><td style=\"text-align: right;\">-0.00476114 </td><td>&#x27;market for municipal solid waste&#x27; (kilogram, RoW, None)                                            </td></tr>\n",
       "<tr><td>technosphere</td><td>municipal solid waste                    </td><td>kilogram     </td><td style=\"text-align: right;\">-2.42411e-06</td><td>&#x27;market for municipal solid waste&#x27; (kilogram, IN, None)                                             </td></tr>\n",
       "<tr><td>technosphere</td><td>municipal solid waste                    </td><td>kilogram     </td><td style=\"text-align: right;\">-0.000388006</td><td>&#x27;market group for municipal solid waste&#x27; (kilogram, Europe without Switzerland, None)               </td></tr>\n",
       "<tr><td>technosphere</td><td>municipal solid waste                    </td><td>kilogram     </td><td style=\"text-align: right;\">-6.73201e-06</td><td>&#x27;market for municipal solid waste&#x27; (kilogram, CA-QC, None)                                          </td></tr>\n",
       "<tr><td>technosphere</td><td>waste paper, sorted                      </td><td>kilogram     </td><td style=\"text-align: right;\"> 0.92       </td><td>&#x27;market for waste paper, sorted&#x27; (kilogram, GLO, None)                                              </td></tr>\n",
       "</tbody>\n",
       "</table>"
      ],
      "text/plain": [
       "'<table>\\n<tbody>\\n<tr><td>technosphere</td><td>aluminium hydroxide                      </td><td>kilogram     </td><td style=\"text-align: right;\"> 0.04       </td><td>&#x27;market for aluminium hydroxide&#x27; (kilogram, GLO, None)                                              </td></tr>\\n<tr><td>technosphere</td><td>boric acid, anhydrous, powder            </td><td>kilogram     </td><td style=\"text-align: right;\"> 0.04       </td><td>&#x27;market for boric acid, anhydrous, powder&#x27; (kilogram, GLO, None)                                    </td></tr>\\n<tr><td>technosphere</td><td>building, hall, steel construction       </td><td>square meter </td><td style=\"text-align: right;\"> 4.24e-06   </td><td>&#x27;market for building, hall, steel construction&#x27; (square meter, GLO, None)                           </td></tr>\\n<tr><td>technosphere</td><td>electricity, medium voltage              </td><td>kilowatt hour</td><td style=\"text-align: right;\"> 0.00119392 </td><td>&#x27;market for electricity, medium voltage&#x27; (kilowatt hour, AU, None)                                  </td></tr>\\n<tr><td>technosphere</td><td>electricity, medium voltage              </td><td>kilowatt hour</td><td style=\"text-align: right;\"> 0.0720916  </td><td>&#x27;market group for electricity, medium voltage&#x27; (kilowatt hour, RAS, None)                           </td></tr>\\n<tr><td>technosphere</td><td>electricity, medium voltage              </td><td>kilowatt hour</td><td style=\"text-align: right;\"> 0.00785732 </td><td>&#x27;market group for electricity, medium voltage&#x27; (kilowatt hour, RLA, None)                           </td></tr>\\n<tr><td>technosphere</td><td>electricity, medium voltage              </td><td>kilowatt hour</td><td style=\"text-align: right;\"> 0.0171548  </td><td>&#x27;market group for electricity, medium voltage&#x27; (kilowatt hour, Europe without Switzerland, None)    </td></tr>\\n<tr><td>technosphere</td><td>electricity, medium voltage              </td><td>kilowatt hour</td><td style=\"text-align: right;\"> 0.00534402 </td><td>&#x27;market for electricity, medium voltage&#x27; (kilowatt hour, RU, None)                                  </td></tr>\\n<tr><td>technosphere</td><td>electricity, medium voltage              </td><td>kilowatt hour</td><td style=\"text-align: right;\"> 0.0251811  </td><td>&#x27;market group for electricity, medium voltage&#x27; (kilowatt hour, RNA, None)                           </td></tr>\\n<tr><td>technosphere</td><td>electricity, medium voltage              </td><td>kilowatt hour</td><td style=\"text-align: right;\"> 0.0039433  </td><td>&#x27;market group for electricity, medium voltage&#x27; (kilowatt hour, RAF, None)                           </td></tr>\\n<tr><td>technosphere</td><td>electricity, medium voltage              </td><td>kilowatt hour</td><td style=\"text-align: right;\"> 0.000233991</td><td>&#x27;market for electricity, medium voltage&#x27; (kilowatt hour, NZ, None)                                  </td></tr>\\n<tr><td>technosphere</td><td>heat, district or industrial, natural gas</td><td>megajoule    </td><td style=\"text-align: right;\"> 0.0462426  </td><td>&#x27;market for heat, district or industrial, natural gas&#x27; (megajoule, RoW, None)                       </td></tr>\\n<tr><td>technosphere</td><td>heat, district or industrial, natural gas</td><td>megajoule    </td><td style=\"text-align: right;\"> 0.000759884</td><td>&#x27;market for heat, district or industrial, natural gas&#x27; (megajoule, CA-QC, None)                     </td></tr>\\n<tr><td>technosphere</td><td>heat, district or industrial, natural gas</td><td>megajoule    </td><td style=\"text-align: right;\"> 0.0170776  </td><td>&#x27;market for heat, district or industrial, natural gas&#x27; (megajoule, Europe without Switzerland, None)</td></tr>\\n<tr><td>technosphere</td><td>industrial machine, heavy, unspecified   </td><td>kilogram     </td><td style=\"text-align: right;\"> 0.000484   </td><td>&#x27;market for industrial machine, heavy, unspecified&#x27; (kilogram, RoW, None)                           </td></tr>\\n<tr><td>technosphere</td><td>municipal solid waste                    </td><td>kilogram     </td><td style=\"text-align: right;\">-1.6963e-06 </td><td>&#x27;market for municipal solid waste&#x27; (kilogram, CY, None)                                             </td></tr>\\n<tr><td>technosphere</td><td>municipal solid waste                    </td><td>kilogram     </td><td style=\"text-align: right;\">-0.00476114 </td><td>&#x27;market for municipal solid waste&#x27; (kilogram, RoW, None)                                            </td></tr>\\n<tr><td>technosphere</td><td>municipal solid waste                    </td><td>kilogram     </td><td style=\"text-align: right;\">-2.42411e-06</td><td>&#x27;market for municipal solid waste&#x27; (kilogram, IN, None)                                             </td></tr>\\n<tr><td>technosphere</td><td>municipal solid waste                    </td><td>kilogram     </td><td style=\"text-align: right;\">-0.000388006</td><td>&#x27;market group for municipal solid waste&#x27; (kilogram, Europe without Switzerland, None)               </td></tr>\\n<tr><td>technosphere</td><td>municipal solid waste                    </td><td>kilogram     </td><td style=\"text-align: right;\">-6.73201e-06</td><td>&#x27;market for municipal solid waste&#x27; (kilogram, CA-QC, None)                                          </td></tr>\\n<tr><td>technosphere</td><td>waste paper, sorted                      </td><td>kilogram     </td><td style=\"text-align: right;\"> 0.92       </td><td>&#x27;market for waste paper, sorted&#x27; (kilogram, GLO, None)                                              </td></tr>\\n</tbody>\\n</table>'"
      ]
     },
     "execution_count": 70,
     "metadata": {},
     "output_type": "execute_result"
    }
   ],
   "source": [
    "# Look at technosphere exhanges characterizing activity cellulose_mod\n",
    "rows = []\n",
    "for exc in cellulose_mod.technosphere():\n",
    "    exc_row = {\n",
    "        field: value\n",
    "        for field, value in exc.as_dict().items()\n",
    "        if field in [\"amount\", \"unit\", \"name\", \"type\"]\n",
    "    }\n",
    "    exchange_activity = bd.get_activity(exc[\"input\"])\n",
    "    exc_row[\"activity\"] = str(exchange_activity)\n",
    "    rows.append(exc_row)\n",
    "tabulate(rows, tablefmt=\"html\")"
   ]
  },
  {
   "cell_type": "code",
   "execution_count": 71,
   "id": "bacdcf2a-952c-47ed-8a85-b074ac256908",
   "metadata": {},
   "outputs": [],
   "source": [
    "# Iterate over exchanges in cellulose_mod to delete borax, anhydrous, powder and boric acid, anhydrous, powder technosphere exchanges\n",
    "for exc in cellulose_mod.technosphere():\n",
    "    if exc[\"name\"] == \"borax, anhydrous, powder\":\n",
    "        exc.delete()\n",
    "        # exc.save()\n",
    "    elif exc[\"name\"] == \"boric acid, anhydrous, powder\":\n",
    "        exc.delete()\n",
    "        # exc.save()"
   ]
  },
  {
   "cell_type": "code",
   "execution_count": 72,
   "id": "dda4e646-2c4a-47c4-840d-ac031a5ef0a3",
   "metadata": {},
   "outputs": [
    {
     "data": {
      "text/html": [
       "<table>\n",
       "<tbody>\n",
       "<tr><td>technosphere</td><td>aluminium hydroxide                      </td><td>kilogram     </td><td style=\"text-align: right;\"> 0.04       </td><td>&#x27;market for aluminium hydroxide&#x27; (kilogram, GLO, None)                                              </td></tr>\n",
       "<tr><td>technosphere</td><td>building, hall, steel construction       </td><td>square meter </td><td style=\"text-align: right;\"> 4.24e-06   </td><td>&#x27;market for building, hall, steel construction&#x27; (square meter, GLO, None)                           </td></tr>\n",
       "<tr><td>technosphere</td><td>electricity, medium voltage              </td><td>kilowatt hour</td><td style=\"text-align: right;\"> 0.00119392 </td><td>&#x27;market for electricity, medium voltage&#x27; (kilowatt hour, AU, None)                                  </td></tr>\n",
       "<tr><td>technosphere</td><td>electricity, medium voltage              </td><td>kilowatt hour</td><td style=\"text-align: right;\"> 0.0720916  </td><td>&#x27;market group for electricity, medium voltage&#x27; (kilowatt hour, RAS, None)                           </td></tr>\n",
       "<tr><td>technosphere</td><td>electricity, medium voltage              </td><td>kilowatt hour</td><td style=\"text-align: right;\"> 0.00785732 </td><td>&#x27;market group for electricity, medium voltage&#x27; (kilowatt hour, RLA, None)                           </td></tr>\n",
       "<tr><td>technosphere</td><td>electricity, medium voltage              </td><td>kilowatt hour</td><td style=\"text-align: right;\"> 0.0171548  </td><td>&#x27;market group for electricity, medium voltage&#x27; (kilowatt hour, Europe without Switzerland, None)    </td></tr>\n",
       "<tr><td>technosphere</td><td>electricity, medium voltage              </td><td>kilowatt hour</td><td style=\"text-align: right;\"> 0.00534402 </td><td>&#x27;market for electricity, medium voltage&#x27; (kilowatt hour, RU, None)                                  </td></tr>\n",
       "<tr><td>technosphere</td><td>electricity, medium voltage              </td><td>kilowatt hour</td><td style=\"text-align: right;\"> 0.0251811  </td><td>&#x27;market group for electricity, medium voltage&#x27; (kilowatt hour, RNA, None)                           </td></tr>\n",
       "<tr><td>technosphere</td><td>electricity, medium voltage              </td><td>kilowatt hour</td><td style=\"text-align: right;\"> 0.0039433  </td><td>&#x27;market group for electricity, medium voltage&#x27; (kilowatt hour, RAF, None)                           </td></tr>\n",
       "<tr><td>technosphere</td><td>electricity, medium voltage              </td><td>kilowatt hour</td><td style=\"text-align: right;\"> 0.000233991</td><td>&#x27;market for electricity, medium voltage&#x27; (kilowatt hour, NZ, None)                                  </td></tr>\n",
       "<tr><td>technosphere</td><td>heat, district or industrial, natural gas</td><td>megajoule    </td><td style=\"text-align: right;\"> 0.0462426  </td><td>&#x27;market for heat, district or industrial, natural gas&#x27; (megajoule, RoW, None)                       </td></tr>\n",
       "<tr><td>technosphere</td><td>heat, district or industrial, natural gas</td><td>megajoule    </td><td style=\"text-align: right;\"> 0.000759884</td><td>&#x27;market for heat, district or industrial, natural gas&#x27; (megajoule, CA-QC, None)                     </td></tr>\n",
       "<tr><td>technosphere</td><td>heat, district or industrial, natural gas</td><td>megajoule    </td><td style=\"text-align: right;\"> 0.0170776  </td><td>&#x27;market for heat, district or industrial, natural gas&#x27; (megajoule, Europe without Switzerland, None)</td></tr>\n",
       "<tr><td>technosphere</td><td>industrial machine, heavy, unspecified   </td><td>kilogram     </td><td style=\"text-align: right;\"> 0.000484   </td><td>&#x27;market for industrial machine, heavy, unspecified&#x27; (kilogram, RoW, None)                           </td></tr>\n",
       "<tr><td>technosphere</td><td>municipal solid waste                    </td><td>kilogram     </td><td style=\"text-align: right;\">-1.6963e-06 </td><td>&#x27;market for municipal solid waste&#x27; (kilogram, CY, None)                                             </td></tr>\n",
       "<tr><td>technosphere</td><td>municipal solid waste                    </td><td>kilogram     </td><td style=\"text-align: right;\">-0.00476114 </td><td>&#x27;market for municipal solid waste&#x27; (kilogram, RoW, None)                                            </td></tr>\n",
       "<tr><td>technosphere</td><td>municipal solid waste                    </td><td>kilogram     </td><td style=\"text-align: right;\">-2.42411e-06</td><td>&#x27;market for municipal solid waste&#x27; (kilogram, IN, None)                                             </td></tr>\n",
       "<tr><td>technosphere</td><td>municipal solid waste                    </td><td>kilogram     </td><td style=\"text-align: right;\">-0.000388006</td><td>&#x27;market group for municipal solid waste&#x27; (kilogram, Europe without Switzerland, None)               </td></tr>\n",
       "<tr><td>technosphere</td><td>municipal solid waste                    </td><td>kilogram     </td><td style=\"text-align: right;\">-6.73201e-06</td><td>&#x27;market for municipal solid waste&#x27; (kilogram, CA-QC, None)                                          </td></tr>\n",
       "<tr><td>technosphere</td><td>waste paper, sorted                      </td><td>kilogram     </td><td style=\"text-align: right;\"> 0.92       </td><td>&#x27;market for waste paper, sorted&#x27; (kilogram, GLO, None)                                              </td></tr>\n",
       "</tbody>\n",
       "</table>"
      ],
      "text/plain": [
       "'<table>\\n<tbody>\\n<tr><td>technosphere</td><td>aluminium hydroxide                      </td><td>kilogram     </td><td style=\"text-align: right;\"> 0.04       </td><td>&#x27;market for aluminium hydroxide&#x27; (kilogram, GLO, None)                                              </td></tr>\\n<tr><td>technosphere</td><td>building, hall, steel construction       </td><td>square meter </td><td style=\"text-align: right;\"> 4.24e-06   </td><td>&#x27;market for building, hall, steel construction&#x27; (square meter, GLO, None)                           </td></tr>\\n<tr><td>technosphere</td><td>electricity, medium voltage              </td><td>kilowatt hour</td><td style=\"text-align: right;\"> 0.00119392 </td><td>&#x27;market for electricity, medium voltage&#x27; (kilowatt hour, AU, None)                                  </td></tr>\\n<tr><td>technosphere</td><td>electricity, medium voltage              </td><td>kilowatt hour</td><td style=\"text-align: right;\"> 0.0720916  </td><td>&#x27;market group for electricity, medium voltage&#x27; (kilowatt hour, RAS, None)                           </td></tr>\\n<tr><td>technosphere</td><td>electricity, medium voltage              </td><td>kilowatt hour</td><td style=\"text-align: right;\"> 0.00785732 </td><td>&#x27;market group for electricity, medium voltage&#x27; (kilowatt hour, RLA, None)                           </td></tr>\\n<tr><td>technosphere</td><td>electricity, medium voltage              </td><td>kilowatt hour</td><td style=\"text-align: right;\"> 0.0171548  </td><td>&#x27;market group for electricity, medium voltage&#x27; (kilowatt hour, Europe without Switzerland, None)    </td></tr>\\n<tr><td>technosphere</td><td>electricity, medium voltage              </td><td>kilowatt hour</td><td style=\"text-align: right;\"> 0.00534402 </td><td>&#x27;market for electricity, medium voltage&#x27; (kilowatt hour, RU, None)                                  </td></tr>\\n<tr><td>technosphere</td><td>electricity, medium voltage              </td><td>kilowatt hour</td><td style=\"text-align: right;\"> 0.0251811  </td><td>&#x27;market group for electricity, medium voltage&#x27; (kilowatt hour, RNA, None)                           </td></tr>\\n<tr><td>technosphere</td><td>electricity, medium voltage              </td><td>kilowatt hour</td><td style=\"text-align: right;\"> 0.0039433  </td><td>&#x27;market group for electricity, medium voltage&#x27; (kilowatt hour, RAF, None)                           </td></tr>\\n<tr><td>technosphere</td><td>electricity, medium voltage              </td><td>kilowatt hour</td><td style=\"text-align: right;\"> 0.000233991</td><td>&#x27;market for electricity, medium voltage&#x27; (kilowatt hour, NZ, None)                                  </td></tr>\\n<tr><td>technosphere</td><td>heat, district or industrial, natural gas</td><td>megajoule    </td><td style=\"text-align: right;\"> 0.0462426  </td><td>&#x27;market for heat, district or industrial, natural gas&#x27; (megajoule, RoW, None)                       </td></tr>\\n<tr><td>technosphere</td><td>heat, district or industrial, natural gas</td><td>megajoule    </td><td style=\"text-align: right;\"> 0.000759884</td><td>&#x27;market for heat, district or industrial, natural gas&#x27; (megajoule, CA-QC, None)                     </td></tr>\\n<tr><td>technosphere</td><td>heat, district or industrial, natural gas</td><td>megajoule    </td><td style=\"text-align: right;\"> 0.0170776  </td><td>&#x27;market for heat, district or industrial, natural gas&#x27; (megajoule, Europe without Switzerland, None)</td></tr>\\n<tr><td>technosphere</td><td>industrial machine, heavy, unspecified   </td><td>kilogram     </td><td style=\"text-align: right;\"> 0.000484   </td><td>&#x27;market for industrial machine, heavy, unspecified&#x27; (kilogram, RoW, None)                           </td></tr>\\n<tr><td>technosphere</td><td>municipal solid waste                    </td><td>kilogram     </td><td style=\"text-align: right;\">-1.6963e-06 </td><td>&#x27;market for municipal solid waste&#x27; (kilogram, CY, None)                                             </td></tr>\\n<tr><td>technosphere</td><td>municipal solid waste                    </td><td>kilogram     </td><td style=\"text-align: right;\">-0.00476114 </td><td>&#x27;market for municipal solid waste&#x27; (kilogram, RoW, None)                                            </td></tr>\\n<tr><td>technosphere</td><td>municipal solid waste                    </td><td>kilogram     </td><td style=\"text-align: right;\">-2.42411e-06</td><td>&#x27;market for municipal solid waste&#x27; (kilogram, IN, None)                                             </td></tr>\\n<tr><td>technosphere</td><td>municipal solid waste                    </td><td>kilogram     </td><td style=\"text-align: right;\">-0.000388006</td><td>&#x27;market group for municipal solid waste&#x27; (kilogram, Europe without Switzerland, None)               </td></tr>\\n<tr><td>technosphere</td><td>municipal solid waste                    </td><td>kilogram     </td><td style=\"text-align: right;\">-6.73201e-06</td><td>&#x27;market for municipal solid waste&#x27; (kilogram, CA-QC, None)                                          </td></tr>\\n<tr><td>technosphere</td><td>waste paper, sorted                      </td><td>kilogram     </td><td style=\"text-align: right;\"> 0.92       </td><td>&#x27;market for waste paper, sorted&#x27; (kilogram, GLO, None)                                              </td></tr>\\n</tbody>\\n</table>'"
      ]
     },
     "execution_count": 72,
     "metadata": {},
     "output_type": "execute_result"
    }
   ],
   "source": [
    "# verify new technosphere exchanges for cellulose_mod\n",
    "rows = []\n",
    "for exc in cellulose_mod.technosphere():\n",
    "    exc_row = {\n",
    "        field: value\n",
    "        for field, value in exc.as_dict().items()\n",
    "        if field in [\"amount\", \"unit\", \"name\", \"type\"]\n",
    "    }\n",
    "    exchange_activity = bd.get_activity(exc[\"input\"])\n",
    "    exc_row[\"activity\"] = str(exchange_activity)\n",
    "    rows.append(exc_row)\n",
    "tabulate(rows, tablefmt=\"html\")"
   ]
  },
  {
   "cell_type": "markdown",
   "id": "bc17f15b-9e0d-4064-8166-b3d2f8cbf2c9",
   "metadata": {},
   "source": [
    "## Final verification of the modified background procs"
   ]
  },
  {
   "cell_type": "code",
   "execution_count": 73,
   "id": "a723d6cf-c1af-4152-9023-551041080eb5",
   "metadata": {},
   "outputs": [],
   "source": [
    "new_proc_names = [\n",
    "    \"A5, diesel, burned in building machine\",\n",
    "    \"C1, diesel, burned in building machine\",\n",
    "    \"B, transport, freight, lorry 7.5-16 metric ton, EURO5\",\n",
    "    \"B, transport, passenger car, medium size, petrol, EURO 5\",\n",
    "    \"basalt quarry operation (for crushed stone)\",\n",
    "    \"gravel production, crushed (for crushed stone)\",\n",
    "    \"cellulose fibre production (without borax and boric acid)\",\n",
    "]"
   ]
  },
  {
   "cell_type": "code",
   "execution_count": 74,
   "id": "9d926106-a585-4df1-a7da-f0363b3e6b0a",
   "metadata": {},
   "outputs": [],
   "source": [
    "eidb_data = EI_DB.load()"
   ]
  },
  {
   "cell_type": "code",
   "execution_count": 75,
   "id": "7cc51c03-fc7b-4798-99b1-bab901c0b497",
   "metadata": {},
   "outputs": [
    {
     "name": "stdout",
     "output_type": "stream",
     "text": [
      "✅ Found: 'A5, diesel, burned in building machine' (megajoule, GLO, None)\n",
      "✅ Found: 'C1, diesel, burned in building machine' (megajoule, GLO, None)\n",
      "✅ Found: 'B, transport, freight, lorry 7.5-16 metric ton, EURO5' (ton kilometer, RER, None)\n",
      "✅ Found: 'B, transport, passenger car, medium size, petrol, EURO 5' (kilometer, RER, None)\n",
      "✅ Found: 'basalt quarry operation (for crushed stone)' (kilogram, RER, None)\n",
      "✅ Found: 'gravel production, crushed (for crushed stone)' (kilogram, RoW, None)\n",
      "✅ Found: 'cellulose fibre production (without borax and boric acid)' (kilogram, RoW, None)\n"
     ]
    }
   ],
   "source": [
    "new_procs_found = []\n",
    "for new_proc_name in new_proc_names:\n",
    "    q = Query()\n",
    "    filter_name = Filter(\"name\", \"is\", new_proc_name)\n",
    "    q.add(filter_name)\n",
    "    res = q(eidb_data)\n",
    "    if len(res) == 1:\n",
    "        print(f\"✅ Found: {bd.get_activity(list(res).pop())}\")\n",
    "        new_procs_found.append(res)\n",
    "    else:\n",
    "        print(f\"❓ Multiple results ({len(res)}) found for {new_proc_name} - {res}\")\n",
    "assert len(new_procs_found) == len(new_proc_names)"
   ]
  }
 ],
 "metadata": {
  "kernelspec": {
   "display_name": "Python 3 (ipykernel)",
   "language": "python",
   "name": "python3"
  },
  "language_info": {
   "codemirror_mode": {
    "name": "ipython",
    "version": 3
   },
   "file_extension": ".py",
   "mimetype": "text/x-python",
   "name": "python",
   "nbconvert_exporter": "python",
   "pygments_lexer": "ipython3",
   "version": "3.11.8"
  }
 },
 "nbformat": 4,
 "nbformat_minor": 5
}
