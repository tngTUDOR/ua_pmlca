{
 "cells": [
  {
   "cell_type": "markdown",
   "id": "182c2100-4f5e-4572-8c0a-187a5b9f5909",
   "metadata": {},
   "source": [
    "# Foreground Database Import\n",
    "\n",
    "This notebook contains the required steps to import the foreground datatabase. The database comes originally as an [excel file](Foreground.xlsx)."
   ]
  },
  {
   "cell_type": "code",
   "execution_count": 1,
   "id": "fea58a79-b871-49e8-b79e-2d0b32976ec8",
   "metadata": {},
   "outputs": [],
   "source": [
    "from pathlib import Path\n",
    "from pprint import pprint"
   ]
  },
  {
   "cell_type": "code",
   "execution_count": 2,
   "id": "be939319-3702-4a00-ab3f-1bc40af9bfb8",
   "metadata": {},
   "outputs": [],
   "source": [
    "import bw2data as bd\n",
    "import bw2io as bi"
   ]
  },
  {
   "cell_type": "code",
   "execution_count": 3,
   "id": "27dc4412-7201-46af-8023-52dec54fa6b7",
   "metadata": {},
   "outputs": [],
   "source": [
    "# Importing the variables with the project name and background db\n",
    "from project_details import EI_DB_NAME, PROJECT_NAME"
   ]
  },
  {
   "cell_type": "code",
   "execution_count": 4,
   "id": "d788c1b8-e6e1-4e9b-b14b-c7f7b46d1fea",
   "metadata": {},
   "outputs": [
    {
     "data": {
      "text/plain": [
       "Databases dictionary with 2 object(s):\n",
       "\tbiosphere3\n",
       "\tecoinvent-3.9.1-cutoff"
      ]
     },
     "execution_count": 4,
     "metadata": {},
     "output_type": "execute_result"
    }
   ],
   "source": [
    "bd.projects.set_current(PROJECT_NAME)\n",
    "bd.databases"
   ]
  },
  {
   "cell_type": "code",
   "execution_count": 5,
   "id": "399279d6-4740-46fa-a51c-ab41064d0962",
   "metadata": {},
   "outputs": [],
   "source": [
    "# to erase databases\n",
    "# asphalt = bd.Database(\"asphalt\")\n",
    "# del bd.databases[asphalt.name]"
   ]
  },
  {
   "cell_type": "code",
   "execution_count": 6,
   "id": "64049366-d881-4b1a-8cd4-cf7960b9e073",
   "metadata": {},
   "outputs": [],
   "source": [
    "# Is the background database name the same as the one we wrote in `project_details.py`?\n",
    "assert EI_DB_NAME in bd.databases"
   ]
  },
  {
   "cell_type": "markdown",
   "id": "8bcb1ec8-493e-4cea-b1cc-f28af3aa90da",
   "metadata": {},
   "source": [
    "## Extract foreground inventory data"
   ]
  },
  {
   "cell_type": "code",
   "execution_count": 7,
   "id": "2ea82342-e1ac-494f-bc75-8597cec6f7ea",
   "metadata": {},
   "outputs": [
    {
     "name": "stdout",
     "output_type": "stream",
     "text": [
      "Extracted 1 worksheets in 0.02 seconds\n"
     ]
    }
   ],
   "source": [
    "# Include the path to the foreground database\n",
    "FG_DB = Path(\"./Foreground_unique.xlsx\")\n",
    "\n",
    "# Import your LCI\n",
    "lci = bi.ExcelImporter(FG_DB)"
   ]
  },
  {
   "cell_type": "markdown",
   "id": "def30e75-0dbe-4131-832f-63745a2fda23",
   "metadata": {},
   "source": [
    "## Transform the data from xlsx format to Brightway format"
   ]
  },
  {
   "cell_type": "markdown",
   "id": "c6ca4a82-e047-46fc-a1e8-4c495908e539",
   "metadata": {},
   "source": [
    "### Match the foreground database to itself"
   ]
  },
  {
   "cell_type": "code",
   "execution_count": 8,
   "id": "80ba3f59-510b-4611-a389-5646828b7622",
   "metadata": {},
   "outputs": [
    {
     "name": "stdout",
     "output_type": "stream",
     "text": [
      "Applying strategy: link_iterable_by_fields\n"
     ]
    }
   ],
   "source": [
    "# Need to match FG_DB to itself\n",
    "lci.match_database(fields=[\"name\", \"unit\", \"location\"])"
   ]
  },
  {
   "cell_type": "markdown",
   "id": "a7b679f6-b031-4ccc-97b5-e2a57cbdb4a0",
   "metadata": {},
   "source": [
    "### Match the FG_DB to the background db"
   ]
  },
  {
   "cell_type": "code",
   "execution_count": 9,
   "id": "f8baea9e-5ebf-4c69-a7a8-005eb1ace3ef",
   "metadata": {},
   "outputs": [
    {
     "name": "stdout",
     "output_type": "stream",
     "text": [
      "Applying strategy: link_iterable_by_fields\n"
     ]
    }
   ],
   "source": [
    "# Need to match FG_DB to the biosphere\n",
    "lci.match_database(EI_DB_NAME, fields=[\"name\", \"reference product\", \"location\", \"unit\"])"
   ]
  },
  {
   "cell_type": "markdown",
   "id": "a12e5019-77da-474a-b5e7-1d3df75195d5",
   "metadata": {},
   "source": [
    "### Match the FG_DB to the biosphere3 database"
   ]
  },
  {
   "cell_type": "code",
   "execution_count": 10,
   "id": "2f944bc3-001e-4716-b48c-9ba3ff0466ad",
   "metadata": {},
   "outputs": [
    {
     "name": "stdout",
     "output_type": "stream",
     "text": [
      "Applying strategy: link_iterable_by_fields\n"
     ]
    }
   ],
   "source": [
    "# Need to match FG_DB to the biosphere\n",
    "lci.match_database(\"biosphere3\", fields=[\"name\", \"categories\"])"
   ]
  },
  {
   "cell_type": "code",
   "execution_count": 11,
   "id": "f0402056-6061-4baa-a083-0becf2600fce",
   "metadata": {},
   "outputs": [
    {
     "name": "stdout",
     "output_type": "stream",
     "text": [
      "Applying strategy: csv_restore_tuples\n",
      "Applying strategy: csv_restore_booleans\n",
      "Applying strategy: csv_numerize\n",
      "Applying strategy: csv_drop_unknown\n",
      "Applying strategy: csv_add_missing_exchanges_section\n",
      "Applying strategy: normalize_units\n",
      "Applying strategy: normalize_biosphere_categories\n",
      "Applying strategy: normalize_biosphere_names\n",
      "Applying strategy: strip_biosphere_exc_locations\n",
      "Applying strategy: set_code_by_activity_hash\n",
      "Applying strategy: link_iterable_by_fields\n",
      "Applying strategy: assign_only_product_as_production\n",
      "Applying strategy: link_technosphere_by_activity_hash\n",
      "Applying strategy: drop_falsey_uncertainty_fields_but_keep_zeros\n",
      "Applying strategy: convert_uncertainty_types_to_integers\n",
      "Applying strategy: convert_activity_parameters_to_list\n",
      "Applied 16 strategies in 6.57 seconds\n",
      "36 datasets\n",
      "185 exchanges\n",
      "0 unlinked exchanges\n",
      "  \n"
     ]
    },
    {
     "data": {
      "text/plain": [
       "(36, 185, 0)"
      ]
     },
     "execution_count": 11,
     "metadata": {},
     "output_type": "execute_result"
    }
   ],
   "source": [
    "bi.create_core_migrations()\n",
    "# Once your package is imported we need to apply strategies\n",
    "lci.apply_strategies()\n",
    "\n",
    "# We need to match databases - name and categories but ATTENTION! the categories in\n",
    "# the excel file is \"None\" so we willlci.write_excel() also need to match against unit.\n",
    "\n",
    "lci.statistics()"
   ]
  },
  {
   "cell_type": "code",
   "execution_count": 12,
   "id": "c35a8ad7-12e1-41ed-aca1-094f4480127f",
   "metadata": {},
   "outputs": [
    {
     "name": "stderr",
     "output_type": "stream",
     "text": [
      "100%|█████████████████████████████████████████████████████████████████████████████████████████████████████████████████████████████████████████████████████████████████████████████| 36/36 [00:00<00:00, 8023.54it/s]"
     ]
    },
    {
     "name": "stdout",
     "output_type": "stream",
     "text": [
      "Vacuuming database \n"
     ]
    },
    {
     "name": "stderr",
     "output_type": "stream",
     "text": [
      "\n"
     ]
    },
    {
     "name": "stdout",
     "output_type": "stream",
     "text": [
      "Created database: asphalt\n"
     ]
    },
    {
     "data": {
      "text/plain": [
       "Databases dictionary with 3 object(s):\n",
       "\tasphalt\n",
       "\tbiosphere3\n",
       "\tecoinvent-3.9.1-cutoff"
      ]
     },
     "execution_count": 12,
     "metadata": {},
     "output_type": "execute_result"
    }
   ],
   "source": [
    "import_statistics = lci.statistics(print_stats=False)\n",
    "\n",
    "# If all exchanges have been linked, proceed to write the database\n",
    "if import_statistics[2] == 0:\n",
    "    lci.write_database()\n",
    "else:\n",
    "    print(f\"There are unlinked exchanges {import_statistics}\")\n",
    "    lci.write_excel()\n",
    "    for unlinked_exchange in lci.unlinked:\n",
    "        pprint(unlinked_exchange)\n",
    "\n",
    "bd.databases"
   ]
  },
  {
   "cell_type": "markdown",
   "id": "98e04015-67eb-41c4-a115-2fda798bd518",
   "metadata": {},
   "source": [
    "## DB structure checks"
   ]
  },
  {
   "cell_type": "code",
   "execution_count": 13,
   "id": "9579f61f-e2e6-4a94-8fcb-d3d7100c9661",
   "metadata": {},
   "outputs": [],
   "source": [
    "import bw2analyzer as bwa"
   ]
  },
  {
   "cell_type": "code",
   "execution_count": 14,
   "id": "81419602-0208-4edf-b6ce-b4a016244d43",
   "metadata": {},
   "outputs": [],
   "source": [
    "FG_DB_NAME = \"asphalt\""
   ]
  },
  {
   "cell_type": "code",
   "execution_count": 15,
   "id": "1b2383d0-57fd-4e21-9324-4f1f3e7451a2",
   "metadata": {},
   "outputs": [],
   "source": [
    "pavement_complete_a = bd.Database(FG_DB_NAME).get(\"DZOAB, A\")"
   ]
  },
  {
   "cell_type": "code",
   "execution_count": 16,
   "id": "5540d1dd-479d-45f7-b588-7627e6069791",
   "metadata": {},
   "outputs": [
    {
     "name": "stdout",
     "output_type": "stream",
     "text": [
      "1: 'DZOAB, A' (kilogram, NL, None)\n",
      "  1: 'A1, pavement, materials, A (excl. own material)' (kilogram, NL, None)\n",
      "  1: 'A1, pavement, materials, A (own material)' (kilogram, NL, None)\n",
      "  1: 'A2, pavement, transport to plant, A (bitumen)' (kilogram, NL, None)\n",
      "  1: 'A2, pavement, transport to plant, A (crushed stone)' (kilogram, NL, None)\n",
      "  1: 'A2, pavement, transport to plant, A (own material)' (kilogram, NL, None)\n",
      "  1: 'A2, pavement, transport to plant, A (crushed sand)' (kilogram, NL, None)\n",
      "  1: 'A2, pavement, transport to plant, A (drip resistant material)' (kilogram, NL, None)\n",
      "  1: 'A2, pavement, transport to plant, A (filler)' (kilogram, NL, None)\n",
      "  1: 'A3, pavement, production, A' (kilogram, NL, None)\n",
      "  1: 'A4, pavement, transport to site' (kilogram, NL, None)\n",
      "  1: 'A5, pavement, construction' (kilogram, NL, None)\n",
      "  1: 'C1, pavement, demolition' (kilogram, NL, None)\n",
      "  1: 'C2, pavement, transport to processing' (kilogram, NL, None)\n",
      "  1: 'C3, pavement, processing (crane and shovel)' (kilogram, NL, None)\n",
      "  1: 'C3, pavement, processing (breaking)' (kilogram, NL, None)\n"
     ]
    }
   ],
   "source": [
    "bwa.print_recursive_supply_chain(pavement_complete_a, max_level=1)"
   ]
  },
  {
   "cell_type": "code",
   "execution_count": 17,
   "id": "60d1eab4-f08d-4978-ae91-95436c91e071",
   "metadata": {},
   "outputs": [
    {
     "name": "stdout",
     "output_type": "stream",
     "text": [
      "1: 'DZOAB, A' (kilogram, NL, None)\n",
      "  1: 'A1, pavement, materials, A (excl. own material)' (kilogram, NL, None)\n",
      "    0.3: 'asphalt granulate, free of burden' (kilogram, NL, None)\n",
      "    0.0412: 'bitumen adhesive compound production, hot' (kilogram, RER, None)\n",
      "    0.586: 'crushed stone, from quarry in Europe, excluding transport to the Netherlands' (kilogram, NL, None)\n",
      "    0.0342: 'gravel production, crushed' (kilogram, RoW, None)\n",
      "    0.0021: 'cellulose fibre production (without borax and boric acid)' (kilogram, RoW, None)\n",
      "    0.027: 'medium filler' (kilogram, NL, None)\n",
      "  1: 'A1, pavement, materials, A (own material)' (kilogram, NL, None)\n",
      "    0.0094: 'crushed stone, from quarry in Europe, excluding transport to the Netherlands' (kilogram, NL, None)\n",
      "  1: 'A2, pavement, transport to plant, A (bitumen)' (kilogram, NL, None)\n",
      "    0.0103: 'market for transport, freight, lorry, unspecified' (ton kilometer, RER, None)\n",
      "  1: 'A2, pavement, transport to plant, A (crushed stone)' (kilogram, NL, None)\n",
      "    0.547: 'market for transport, freight, sea, ferry' (ton kilometer, GLO, None)\n",
      "    0.0311: 'market for transport, freight, inland waterways, barge' (ton kilometer, RER, None)\n",
      "    0.0147: 'market for transport, freight, lorry, unspecified' (ton kilometer, RER, None)\n",
      "  1: 'A2, pavement, transport to plant, A (own material)' (kilogram, NL, None)\n",
      "    0.000498: 'market for transport, freight, inland waterways, barge' (ton kilometer, RER, None)\n",
      "    0.000235: 'market for transport, freight, lorry, unspecified' (ton kilometer, RER, None)\n",
      "  1: 'A2, pavement, transport to plant, A (crushed sand)' (kilogram, NL, None)\n",
      "    0.0226: 'market for transport, freight, inland waterways, barge' (ton kilometer, RER, None)\n",
      "    0.000855: 'market for transport, freight, lorry, unspecified' (ton kilometer, RER, None)\n",
      "  1: 'A2, pavement, transport to plant, A (drip resistant material)' (kilogram, NL, None)\n",
      "    0.000372: 'market for transport, freight, lorry, unspecified' (ton kilometer, RER, None)\n",
      "  1: 'A2, pavement, transport to plant, A (filler)' (kilogram, NL, None)\n",
      "    0.00367: 'market for transport, freight, lorry, unspecified' (ton kilometer, RER, None)\n",
      "  1: 'A3, pavement, production, A' (kilogram, NL, None)\n",
      "    0.00561: 'market for electricity, low voltage' (kilowatt hour, NL, None)\n",
      "    0.253: 'heat production, natural gas, at industrial furnace >100kW' (megajoule, Europe without Switzerland, None)\n",
      "    0.0043: 'diesel, burned in building machine' (megajoule, GLO, None)\n",
      "  1: 'A4, pavement, transport to site' (kilogram, NL, None)\n",
      "    0.0333: 'transport, freight, lorry >32 metric ton, EURO5' (ton kilometer, RER, None)\n",
      "    0.0111: 'transport, freight, lorry >32 metric ton, EURO6' (ton kilometer, RER, None)\n",
      "  1: 'A5, pavement, construction' (kilogram, NL, None)\n",
      "    0.0115: 'A5, diesel, burned in building machine' (megajoule, GLO, None)\n",
      "  1: 'C1, pavement, demolition' (kilogram, NL, None)\n",
      "    0.0276: 'C1, diesel, burned in building machine' (megajoule, GLO, None)\n",
      "  1: 'C2, pavement, transport to processing' (kilogram, NL, None)\n",
      "    0.0333: 'transport, freight, lorry >32 metric ton, EURO5' (ton kilometer, RER, None)\n",
      "    0.0111: 'transport, freight, lorry >32 metric ton, EURO6' (ton kilometer, RER, None)\n",
      "  1: 'C3, pavement, processing (crane and shovel)' (kilogram, NL, None)\n",
      "    0.00662: 'diesel, burned in building machine' (megajoule, GLO, None)\n",
      "  1: 'C3, pavement, processing (breaking)' (kilogram, NL, None)\n",
      "    0.00662: 'diesel, burned in building machine' (megajoule, GLO, None)\n"
     ]
    }
   ],
   "source": [
    "bwa.print_recursive_supply_chain(pavement_complete_a, max_level=2)"
   ]
  },
  {
   "cell_type": "code",
   "execution_count": null,
   "id": "b7a87e81-608b-47c1-9d2c-bead25ca5eb2",
   "metadata": {},
   "outputs": [],
   "source": []
  }
 ],
 "metadata": {
  "kernelspec": {
   "display_name": "Python 3 (ipykernel)",
   "language": "python",
   "name": "python3"
  },
  "language_info": {
   "codemirror_mode": {
    "name": "ipython",
    "version": 3
   },
   "file_extension": ".py",
   "mimetype": "text/x-python",
   "name": "python",
   "nbconvert_exporter": "python",
   "pygments_lexer": "ipython3",
   "version": "3.11.8"
  }
 },
 "nbformat": 4,
 "nbformat_minor": 5
}
