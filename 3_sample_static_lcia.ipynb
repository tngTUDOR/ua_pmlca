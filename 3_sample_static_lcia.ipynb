{
 "cells": [
  {
   "cell_type": "markdown",
   "id": "759cfe25-bd91-44b7-9b98-ced89647cf77",
   "metadata": {},
   "source": [
    "# Sample static LCIA results\n"
   ]
  },
  {
   "cell_type": "code",
   "execution_count": 1,
   "id": "10484993-37f8-42b7-9597-b442012d0354",
   "metadata": {},
   "outputs": [],
   "source": [
    "import bw2analyzer as bwa\n",
    "import bw2calc as bc\n",
    "import bw2data as bd\n",
    "import bw2io as bi\n",
    "import ipywidgets as widgets\n",
    "import pandas as pd\n",
    "from bw2data.query import Filter, Query\n",
    "from IPython.display import display"
   ]
  },
  {
   "cell_type": "code",
   "execution_count": 2,
   "id": "3df37afb-5324-400c-9883-9bc120e604a2",
   "metadata": {},
   "outputs": [],
   "source": [
    "from project_details import EI_DB_NAME, PROJECT_NAME"
   ]
  },
  {
   "cell_type": "code",
   "execution_count": 3,
   "id": "ae3bd5cd-1ec9-44dc-bf3d-98652d7b8215",
   "metadata": {},
   "outputs": [
    {
     "data": {
      "text/plain": [
       "Databases dictionary with 3 object(s):\n",
       "\tasphalt\n",
       "\tbiosphere3\n",
       "\tecoinvent-3.9.1-cutoff"
      ]
     },
     "execution_count": 3,
     "metadata": {},
     "output_type": "execute_result"
    }
   ],
   "source": [
    "bd.projects.set_current(PROJECT_NAME)\n",
    "bd.databases"
   ]
  },
  {
   "cell_type": "code",
   "execution_count": 4,
   "id": "5d2072a9-5593-46f8-a24f-4b5d667841b1",
   "metadata": {},
   "outputs": [],
   "source": [
    "# Is the background database name the same as the one we wrote in `propject_details.py`?\n",
    "assert EI_DB_NAME in bd.databases"
   ]
  },
  {
   "cell_type": "code",
   "execution_count": 5,
   "id": "b44637e2-fcb8-48f4-97e1-afc1b394453e",
   "metadata": {},
   "outputs": [],
   "source": [
    "FG_DB_NAME = \"asphalt\""
   ]
  },
  {
   "cell_type": "code",
   "execution_count": 6,
   "id": "cff10a96-e295-4cff-ba57-ee21dfc5557f",
   "metadata": {},
   "outputs": [],
   "source": [
    "db_asphalt = bd.Database(FG_DB_NAME)"
   ]
  },
  {
   "cell_type": "code",
   "execution_count": 7,
   "id": "3e969719-613a-4674-b6d6-fcfd7853c831",
   "metadata": {},
   "outputs": [],
   "source": [
    "pavement_complete_a = db_asphalt.get(\"DZOAB, A\")"
   ]
  },
  {
   "cell_type": "code",
   "execution_count": 8,
   "id": "3dfd8581-a8e2-4aeb-99ac-f53387657e5b",
   "metadata": {},
   "outputs": [
    {
     "name": "stdout",
     "output_type": "stream",
     "text": [
      "1: 'DZOAB, A' (kilogram, NL, None)\n",
      "  1: 'A1, pavement, materials, A' (kilogram, NL, None)\n",
      "  1: 'A2, pavement, transport to plant, A' (kilogram, NL, None)\n",
      "  1: 'A3, pavement, production, A' (kilogram, NL, None)\n",
      "  1: 'A4, pavement, transport to site' (kilogram, NL, None)\n",
      "  1: 'A5, pavement, construction' (kilogram, NL, None)\n",
      "  1: 'C1, pavement, demolition' (kilogram, NL, None)\n",
      "  1: 'C2, pavement, transport to processing' (kilogram, NL, None)\n",
      "  1: 'C3, pavement, processing' (kilogram, NL, None)\n"
     ]
    }
   ],
   "source": [
    "bwa.print_recursive_supply_chain(pavement_complete_a, max_level=1)"
   ]
  },
  {
   "cell_type": "code",
   "execution_count": 9,
   "id": "6885d6e1-1f4c-4f88-b9c6-dba4c7e8152d",
   "metadata": {},
   "outputs": [
    {
     "name": "stdout",
     "output_type": "stream",
     "text": [
      "1: 'DZOAB, A' (kilogram, NL, None)\n",
      "  1: 'A1, pavement, materials, A' (kilogram, NL, None)\n",
      "    0.3: 'asphalt granulate, free of burden' (kilogram, NL, None)\n",
      "    0.0412: 'bitumen adhesive compound production, hot' (kilogram, RER, None)\n",
      "    0.586: 'crushed stone, from quarry in Europe, excluding transport to the Netherlands' (kilogram, NL, None)\n",
      "    0.0094: 'crushed stone, from quarry in Europe, excluding transport to the Netherlands' (kilogram, NL, None)\n",
      "    0.0342: 'gravel production, crushed' (kilogram, RoW, None)\n",
      "    0.0021: 'cellulose fibre production' (kilogram, RoW, None)\n",
      "    0.027: 'medium filler' (kilogram, NL, None)\n",
      "  1: 'A2, pavement, transport to plant, A' (kilogram, NL, None)\n",
      "    0.0103: 'market for transport, freight, lorry, unspecified' (ton kilometer, RER, None)\n",
      "    0.547: 'market for transport, freight, sea, ferry' (ton kilometer, GLO, None)\n",
      "    0.0311: 'market for transport, freight, inland waterways, barge' (ton kilometer, RER, None)\n",
      "    0.0147: 'market for transport, freight, lorry, unspecified' (ton kilometer, RER, None)\n",
      "    0.000498: 'market for transport, freight, inland waterways, barge' (ton kilometer, RER, None)\n",
      "    0.000235: 'market for transport, freight, lorry, unspecified' (ton kilometer, RER, None)\n",
      "    0.0226: 'market for transport, freight, inland waterways, barge' (ton kilometer, RER, None)\n",
      "    0.000855: 'market for transport, freight, lorry, unspecified' (ton kilometer, RER, None)\n",
      "    0.000372: 'market for transport, freight, lorry, unspecified' (ton kilometer, RER, None)\n",
      "    0.00367: 'market for transport, freight, lorry, unspecified' (ton kilometer, RER, None)\n",
      "  1: 'A3, pavement, production, A' (kilogram, NL, None)\n",
      "    0.00561: 'market for electricity, low voltage' (kilowatt hour, NL, None)\n",
      "    0.253: 'heat production, natural gas, at industrial furnace >100kW' (megajoule, Europe without Switzerland, None)\n",
      "    0.0043: 'diesel, burned in building machine' (megajoule, GLO, None)\n",
      "  1: 'A4, pavement, transport to site' (kilogram, NL, None)\n",
      "    0.0333: 'transport, freight, lorry >32 metric ton, EURO5' (ton kilometer, RER, None)\n",
      "    0.0111: 'transport, freight, lorry >32 metric ton, EURO6' (ton kilometer, RER, None)\n",
      "  1: 'A5, pavement, construction' (kilogram, NL, None)\n",
      "    0.0115: 'diesel, burned in building machine' (megajoule, GLO, None)\n",
      "  1: 'C1, pavement, demolition' (kilogram, NL, None)\n",
      "    0.0276: 'diesel, burned in building machine' (megajoule, GLO, None)\n",
      "  1: 'C2, pavement, transport to processing' (kilogram, NL, None)\n",
      "    0.0333: 'transport, freight, lorry >32 metric ton, EURO5' (ton kilometer, RER, None)\n",
      "    0.0111: 'transport, freight, lorry >32 metric ton, EURO6' (ton kilometer, RER, None)\n",
      "  1: 'C3, pavement, processing' (kilogram, NL, None)\n",
      "    0.00662: 'diesel, burned in building machine' (megajoule, GLO, None)\n",
      "    0.00662: 'diesel, burned in building machine' (megajoule, GLO, None)\n"
     ]
    }
   ],
   "source": [
    "bwa.print_recursive_supply_chain(pavement_complete_a, max_level=2)"
   ]
  },
  {
   "cell_type": "markdown",
   "id": "0c7a42f2-d536-4c38-94c2-16e405523bc2",
   "metadata": {},
   "source": [
    "## Find the activities in the db providing \"pavement, complete\" as ref prod"
   ]
  },
  {
   "cell_type": "code",
   "execution_count": 10,
   "id": "fb41b132-0616-4a45-8a14-6b202b50519e",
   "metadata": {},
   "outputs": [],
   "source": [
    "asphalt_db_data = db_asphalt.load()"
   ]
  },
  {
   "cell_type": "code",
   "execution_count": 11,
   "id": "d8dd574c-c28c-4e28-a793-589a4a950977",
   "metadata": {},
   "outputs": [],
   "source": [
    "query = Query()\n",
    "filter_refprod = Filter(\"reference product\", \"is\", \"pavement, complete\")\n",
    "query.add(filter_refprod)"
   ]
  },
  {
   "cell_type": "code",
   "execution_count": 12,
   "id": "b1fe5d31-dc76-4a9e-942c-ab99922b471a",
   "metadata": {},
   "outputs": [],
   "source": [
    "res = query(asphalt_db_data)"
   ]
  },
  {
   "cell_type": "code",
   "execution_count": 13,
   "id": "ab8bc0fb-3754-4fb4-b2fd-cd551155e975",
   "metadata": {},
   "outputs": [
    {
     "name": "stdout",
     "output_type": "stream",
     "text": [
      "'DZOAB, B, PVI' (kilogram, NL, None)\n",
      "'DZOAB, B' (kilogram, NL, None)\n",
      "'DZOAB, A' (kilogram, NL, None)\n",
      "'DZOAB, A, PVI' (kilogram, NL, None)\n"
     ]
    }
   ],
   "source": [
    "for res_key, res_act in res.items():\n",
    "    print(bd.get_activity(res_key))"
   ]
  },
  {
   "cell_type": "markdown",
   "id": "4b7effcb-0776-4cb0-bac6-c5bbd02145b9",
   "metadata": {},
   "source": [
    "## LCIA"
   ]
  },
  {
   "cell_type": "markdown",
   "id": "66921c0e-422f-4663-a43f-888f750a502c",
   "metadata": {},
   "source": [
    "### Functional units"
   ]
  },
  {
   "cell_type": "code",
   "execution_count": 14,
   "id": "c4b3dcc1-3173-47ad-870e-66ba6060d792",
   "metadata": {},
   "outputs": [
    {
     "data": {
      "text/plain": [
       "[{'DZOAB, B, PVI' (kilogram, NL, None): 1},\n",
       " {'DZOAB, B' (kilogram, NL, None): 1},\n",
       " {'DZOAB, A' (kilogram, NL, None): 1},\n",
       " {'DZOAB, A, PVI' (kilogram, NL, None): 1}]"
      ]
     },
     "execution_count": 14,
     "metadata": {},
     "output_type": "execute_result"
    }
   ],
   "source": [
    "# Use the found activities providing \"pavement, complete\" as functional units for a multi lca\n",
    "functional_units = [{bd.get_activity(res_a): 1} for res_a, _ in res.items()]\n",
    "functional_units"
   ]
  },
  {
   "cell_type": "code",
   "execution_count": 15,
   "id": "43d1cdcb-442f-4db5-a594-ae44e5038529",
   "metadata": {},
   "outputs": [
    {
     "data": {
      "text/plain": [
       "[{'DZOAB, A' (kilogram, NL, None): 1},\n",
       " {'DZOAB, A, PVI' (kilogram, NL, None): 1},\n",
       " {'DZOAB, B' (kilogram, NL, None): 1},\n",
       " {'DZOAB, B, PVI' (kilogram, NL, None): 1}]"
      ]
     },
     "execution_count": 15,
     "metadata": {},
     "output_type": "execute_result"
    }
   ],
   "source": [
    "# We sort the obtained functional units by code + ref prod\n",
    "functional_units = sorted(\n",
    "    functional_units,\n",
    "    key=lambda fu: [\n",
    "        list(fu.keys())[0][\"code\"],\n",
    "        list(fu.keys())[0][\"reference product\"],\n",
    "    ],\n",
    ")\n",
    "functional_units"
   ]
  },
  {
   "cell_type": "markdown",
   "id": "6aafdba8-5056-4bec-8132-a883d598f58f",
   "metadata": {},
   "source": [
    "### LCIA Methods"
   ]
  },
  {
   "cell_type": "code",
   "execution_count": 16,
   "id": "f377410e-323c-4af8-8834-12c19828b304",
   "metadata": {},
   "outputs": [
    {
     "data": {
      "text/plain": [
       "[('EF v3.1', 'acidification', 'accumulated exceedance (AE)'),\n",
       " ('EF v3.1', 'climate change', 'global warming potential (GWP100)'),\n",
       " ('EF v3.1', 'climate change: biogenic', 'global warming potential (GWP100)'),\n",
       " ('EF v3.1', 'climate change: fossil', 'global warming potential (GWP100)'),\n",
       " ('EF v3.1',\n",
       "  'climate change: land use and land use change',\n",
       "  'global warming potential (GWP100)'),\n",
       " ('EF v3.1',\n",
       "  'ecotoxicity: freshwater',\n",
       "  'comparative toxic unit for ecosystems (CTUe)'),\n",
       " ('EF v3.1',\n",
       "  'ecotoxicity: freshwater, inorganics',\n",
       "  'comparative toxic unit for ecosystems (CTUe)'),\n",
       " ('EF v3.1',\n",
       "  'ecotoxicity: freshwater, organics',\n",
       "  'comparative toxic unit for ecosystems (CTUe)'),\n",
       " ('EF v3.1',\n",
       "  'energy resources: non-renewable',\n",
       "  'abiotic depletion potential (ADP): fossil fuels'),\n",
       " ('EF v3.1',\n",
       "  'eutrophication: freshwater',\n",
       "  'fraction of nutrients reaching freshwater end compartment (P)'),\n",
       " ('EF v3.1',\n",
       "  'eutrophication: marine',\n",
       "  'fraction of nutrients reaching marine end compartment (N)'),\n",
       " ('EF v3.1', 'eutrophication: terrestrial', 'accumulated exceedance (AE)'),\n",
       " ('EF v3.1',\n",
       "  'human toxicity: carcinogenic',\n",
       "  'comparative toxic unit for human (CTUh)'),\n",
       " ('EF v3.1',\n",
       "  'human toxicity: carcinogenic, inorganics',\n",
       "  'comparative toxic unit for human (CTUh)'),\n",
       " ('EF v3.1',\n",
       "  'human toxicity: carcinogenic, organics',\n",
       "  'comparative toxic unit for human (CTUh)'),\n",
       " ('EF v3.1',\n",
       "  'human toxicity: non-carcinogenic',\n",
       "  'comparative toxic unit for human (CTUh)'),\n",
       " ('EF v3.1',\n",
       "  'human toxicity: non-carcinogenic, inorganics',\n",
       "  'comparative toxic unit for human (CTUh)'),\n",
       " ('EF v3.1',\n",
       "  'human toxicity: non-carcinogenic, organics',\n",
       "  'comparative toxic unit for human (CTUh)'),\n",
       " ('EF v3.1',\n",
       "  'ionising radiation: human health',\n",
       "  'human exposure efficiency relative to u235'),\n",
       " ('EF v3.1', 'land use', 'soil quality index'),\n",
       " ('EF v3.1',\n",
       "  'material resources: metals/minerals',\n",
       "  'abiotic depletion potential (ADP): elements (ultimate reserves)'),\n",
       " ('EF v3.1', 'ozone depletion', 'ozone depletion potential (ODP)'),\n",
       " ('EF v3.1', 'particulate matter formation', 'impact on human health'),\n",
       " ('EF v3.1',\n",
       "  'photochemical oxidant formation: human health',\n",
       "  'tropospheric ozone concentration increase'),\n",
       " ('EF v3.1',\n",
       "  'water use',\n",
       "  'user deprivation potential (deprivation-weighted water consumption)')]"
      ]
     },
     "execution_count": 16,
     "metadata": {},
     "output_type": "execute_result"
    }
   ],
   "source": [
    "ef_methods = [m for m in bd.methods if m[0] == \"EF v3.1\"]\n",
    "ef_methods"
   ]
  },
  {
   "cell_type": "code",
   "execution_count": 17,
   "id": "817a37ce-cebb-4087-83ed-86ff0ee2e894",
   "metadata": {},
   "outputs": [],
   "source": [
    "bd.calculation_setups[\"asphalt_pavement_complete\"] = {\n",
    "    \"inv\": functional_units,\n",
    "    \"ia\": ef_methods,\n",
    "}"
   ]
  },
  {
   "cell_type": "code",
   "execution_count": 18,
   "id": "45d69b88-b862-4f28-8083-05f95a6a4660",
   "metadata": {},
   "outputs": [],
   "source": [
    "# `mlca.results`, is a NumPy array of LCA scores,\n",
    "# with rows of functional units and\n",
    "# columns of LCIA methods. Ordering is the same as in the `calculation_setup`.\n",
    "mlca = bc.MultiLCA(\"asphalt_pavement_complete\")"
   ]
  },
  {
   "cell_type": "code",
   "execution_count": 19,
   "id": "d7605cac-3a4b-4b91-a08d-7751da9ba948",
   "metadata": {},
   "outputs": [],
   "source": [
    "def format_results(mlca):\n",
    "    formatted_results = []\n",
    "    for i, scores in enumerate(mlca.results):  # the results for a fu\n",
    "        for j, method_key in enumerate(mlca.methods):  # the result for each method\n",
    "            demand = list(mlca.func_units[i].values())[0]\n",
    "            activity = list(mlca.func_units[i].keys())[0]\n",
    "            method = bd.Method(method_key)\n",
    "            a_result = {\n",
    "                \"activity\": repr(activity),\n",
    "                \"demand\": demand,\n",
    "                \"method\": method_key[0],\n",
    "                \"category\": method_key[1],\n",
    "                \"subcategory\": method_key[2],\n",
    "                \"score\": scores[j],\n",
    "                \"unit\": method.metadata[\"unit\"],\n",
    "            }\n",
    "            formatted_results.append(a_result)\n",
    "    return formatted_results"
   ]
  },
  {
   "cell_type": "code",
   "execution_count": 20,
   "id": "0dfae844-a6c2-4965-aa77-04d6d82fd49a",
   "metadata": {},
   "outputs": [
    {
     "data": {
      "text/html": [
       "<div>\n",
       "<style scoped>\n",
       "    .dataframe tbody tr th:only-of-type {\n",
       "        vertical-align: middle;\n",
       "    }\n",
       "\n",
       "    .dataframe tbody tr th {\n",
       "        vertical-align: top;\n",
       "    }\n",
       "\n",
       "    .dataframe thead th {\n",
       "        text-align: right;\n",
       "    }\n",
       "</style>\n",
       "<table border=\"1\" class=\"dataframe\">\n",
       "  <thead>\n",
       "    <tr style=\"text-align: right;\">\n",
       "      <th></th>\n",
       "      <th>activity</th>\n",
       "      <th>demand</th>\n",
       "      <th>method</th>\n",
       "      <th>category</th>\n",
       "      <th>subcategory</th>\n",
       "      <th>score</th>\n",
       "      <th>unit</th>\n",
       "    </tr>\n",
       "  </thead>\n",
       "  <tbody>\n",
       "    <tr>\n",
       "      <th>0</th>\n",
       "      <td>'DZOAB, A' (kilogram, NL, None)</td>\n",
       "      <td>1</td>\n",
       "      <td>EF v3.1</td>\n",
       "      <td>acidification</td>\n",
       "      <td>accumulated exceedance (AE)</td>\n",
       "      <td>2.347444e-03</td>\n",
       "      <td>mol H+-Eq</td>\n",
       "    </tr>\n",
       "    <tr>\n",
       "      <th>1</th>\n",
       "      <td>'DZOAB, A' (kilogram, NL, None)</td>\n",
       "      <td>1</td>\n",
       "      <td>EF v3.1</td>\n",
       "      <td>climate change</td>\n",
       "      <td>global warming potential (GWP100)</td>\n",
       "      <td>1.644502e-01</td>\n",
       "      <td>kg CO2-Eq</td>\n",
       "    </tr>\n",
       "    <tr>\n",
       "      <th>2</th>\n",
       "      <td>'DZOAB, A' (kilogram, NL, None)</td>\n",
       "      <td>1</td>\n",
       "      <td>EF v3.1</td>\n",
       "      <td>climate change: biogenic</td>\n",
       "      <td>global warming potential (GWP100)</td>\n",
       "      <td>2.055493e-04</td>\n",
       "      <td>kg CO2-Eq</td>\n",
       "    </tr>\n",
       "    <tr>\n",
       "      <th>3</th>\n",
       "      <td>'DZOAB, A' (kilogram, NL, None)</td>\n",
       "      <td>1</td>\n",
       "      <td>EF v3.1</td>\n",
       "      <td>climate change: fossil</td>\n",
       "      <td>global warming potential (GWP100)</td>\n",
       "      <td>1.641591e-01</td>\n",
       "      <td>kg CO2-Eq</td>\n",
       "    </tr>\n",
       "    <tr>\n",
       "      <th>4</th>\n",
       "      <td>'DZOAB, A' (kilogram, NL, None)</td>\n",
       "      <td>1</td>\n",
       "      <td>EF v3.1</td>\n",
       "      <td>climate change: land use and land use change</td>\n",
       "      <td>global warming potential (GWP100)</td>\n",
       "      <td>8.557848e-05</td>\n",
       "      <td>kg CO2-Eq</td>\n",
       "    </tr>\n",
       "    <tr>\n",
       "      <th>...</th>\n",
       "      <td>...</td>\n",
       "      <td>...</td>\n",
       "      <td>...</td>\n",
       "      <td>...</td>\n",
       "      <td>...</td>\n",
       "      <td>...</td>\n",
       "      <td>...</td>\n",
       "    </tr>\n",
       "    <tr>\n",
       "      <th>95</th>\n",
       "      <td>'DZOAB, B, PVI' (kilogram, NL, None)</td>\n",
       "      <td>1</td>\n",
       "      <td>EF v3.1</td>\n",
       "      <td>material resources: metals/minerals</td>\n",
       "      <td>abiotic depletion potential (ADP): elements (u...</td>\n",
       "      <td>4.327943e-06</td>\n",
       "      <td>kg Sb-Eq</td>\n",
       "    </tr>\n",
       "    <tr>\n",
       "      <th>96</th>\n",
       "      <td>'DZOAB, B, PVI' (kilogram, NL, None)</td>\n",
       "      <td>1</td>\n",
       "      <td>EF v3.1</td>\n",
       "      <td>ozone depletion</td>\n",
       "      <td>ozone depletion potential (ODP)</td>\n",
       "      <td>2.074895e-08</td>\n",
       "      <td>kg CFC-11-Eq</td>\n",
       "    </tr>\n",
       "    <tr>\n",
       "      <th>97</th>\n",
       "      <td>'DZOAB, B, PVI' (kilogram, NL, None)</td>\n",
       "      <td>1</td>\n",
       "      <td>EF v3.1</td>\n",
       "      <td>particulate matter formation</td>\n",
       "      <td>impact on human health</td>\n",
       "      <td>4.289613e-08</td>\n",
       "      <td>disease incidence</td>\n",
       "    </tr>\n",
       "    <tr>\n",
       "      <th>98</th>\n",
       "      <td>'DZOAB, B, PVI' (kilogram, NL, None)</td>\n",
       "      <td>1</td>\n",
       "      <td>EF v3.1</td>\n",
       "      <td>photochemical oxidant formation: human health</td>\n",
       "      <td>tropospheric ozone concentration increase</td>\n",
       "      <td>5.372999e-03</td>\n",
       "      <td>kg NMVOC-Eq</td>\n",
       "    </tr>\n",
       "    <tr>\n",
       "      <th>99</th>\n",
       "      <td>'DZOAB, B, PVI' (kilogram, NL, None)</td>\n",
       "      <td>1</td>\n",
       "      <td>EF v3.1</td>\n",
       "      <td>water use</td>\n",
       "      <td>user deprivation potential (deprivation-weight...</td>\n",
       "      <td>7.813429e-02</td>\n",
       "      <td>m3 world eq. deprived</td>\n",
       "    </tr>\n",
       "  </tbody>\n",
       "</table>\n",
       "<p>100 rows × 7 columns</p>\n",
       "</div>"
      ],
      "text/plain": [
       "                                activity  demand   method  \\\n",
       "0        'DZOAB, A' (kilogram, NL, None)       1  EF v3.1   \n",
       "1        'DZOAB, A' (kilogram, NL, None)       1  EF v3.1   \n",
       "2        'DZOAB, A' (kilogram, NL, None)       1  EF v3.1   \n",
       "3        'DZOAB, A' (kilogram, NL, None)       1  EF v3.1   \n",
       "4        'DZOAB, A' (kilogram, NL, None)       1  EF v3.1   \n",
       "..                                   ...     ...      ...   \n",
       "95  'DZOAB, B, PVI' (kilogram, NL, None)       1  EF v3.1   \n",
       "96  'DZOAB, B, PVI' (kilogram, NL, None)       1  EF v3.1   \n",
       "97  'DZOAB, B, PVI' (kilogram, NL, None)       1  EF v3.1   \n",
       "98  'DZOAB, B, PVI' (kilogram, NL, None)       1  EF v3.1   \n",
       "99  'DZOAB, B, PVI' (kilogram, NL, None)       1  EF v3.1   \n",
       "\n",
       "                                         category  \\\n",
       "0                                   acidification   \n",
       "1                                  climate change   \n",
       "2                        climate change: biogenic   \n",
       "3                          climate change: fossil   \n",
       "4    climate change: land use and land use change   \n",
       "..                                            ...   \n",
       "95            material resources: metals/minerals   \n",
       "96                                ozone depletion   \n",
       "97                   particulate matter formation   \n",
       "98  photochemical oxidant formation: human health   \n",
       "99                                      water use   \n",
       "\n",
       "                                          subcategory         score  \\\n",
       "0                         accumulated exceedance (AE)  2.347444e-03   \n",
       "1                   global warming potential (GWP100)  1.644502e-01   \n",
       "2                   global warming potential (GWP100)  2.055493e-04   \n",
       "3                   global warming potential (GWP100)  1.641591e-01   \n",
       "4                   global warming potential (GWP100)  8.557848e-05   \n",
       "..                                                ...           ...   \n",
       "95  abiotic depletion potential (ADP): elements (u...  4.327943e-06   \n",
       "96                    ozone depletion potential (ODP)  2.074895e-08   \n",
       "97                             impact on human health  4.289613e-08   \n",
       "98          tropospheric ozone concentration increase  5.372999e-03   \n",
       "99  user deprivation potential (deprivation-weight...  7.813429e-02   \n",
       "\n",
       "                     unit  \n",
       "0               mol H+-Eq  \n",
       "1               kg CO2-Eq  \n",
       "2               kg CO2-Eq  \n",
       "3               kg CO2-Eq  \n",
       "4               kg CO2-Eq  \n",
       "..                    ...  \n",
       "95               kg Sb-Eq  \n",
       "96           kg CFC-11-Eq  \n",
       "97      disease incidence  \n",
       "98            kg NMVOC-Eq  \n",
       "99  m3 world eq. deprived  \n",
       "\n",
       "[100 rows x 7 columns]"
      ]
     },
     "execution_count": 20,
     "metadata": {},
     "output_type": "execute_result"
    }
   ],
   "source": [
    "df_results = pd.DataFrame(format_results(mlca))\n",
    "df_results"
   ]
  },
  {
   "cell_type": "code",
   "execution_count": 21,
   "id": "9b440a64-ceee-4244-aa1a-b475c69f3313",
   "metadata": {},
   "outputs": [],
   "source": [
    "df_results.to_excel(\"asphalt_lcia_results.xlsx\")"
   ]
  },
  {
   "cell_type": "code",
   "execution_count": 22,
   "id": "e1d3a3a8-8ddf-4f50-8168-ce78f2998aa6",
   "metadata": {},
   "outputs": [],
   "source": [
    "def filter_fu(fu_name):\n",
    "    return df_results[df_results.activity == fu_name]"
   ]
  },
  {
   "cell_type": "code",
   "execution_count": 23,
   "id": "3dd35b69-f300-4fe2-8c40-cc2313b2f4ed",
   "metadata": {},
   "outputs": [
    {
     "data": {
      "application/vnd.jupyter.widget-view+json": {
       "model_id": "b916d2ae03d44c47ae63d234e2a1b00e",
       "version_major": 2,
       "version_minor": 0
      },
      "text/plain": [
       "interactive(children=(Dropdown(description='fu_name', options=(\"'DZOAB, A' (kilogram, NL, None)\", \"'DZOAB, A, …"
      ]
     },
     "metadata": {},
     "output_type": "display_data"
    },
    {
     "data": {
      "text/plain": [
       "<function __main__.filter_fu(fu_name)>"
      ]
     },
     "execution_count": 23,
     "metadata": {},
     "output_type": "execute_result"
    }
   ],
   "source": [
    "avail_fu_names = [repr(list(fu_a.keys())[0]) for fu_a in functional_units]\n",
    "select_w = widgets.Dropdown(options=avail_fu_names)\n",
    "widgets.interact(filter_fu, fu_name=avail_fu_names)"
   ]
  }
 ],
 "metadata": {
  "kernelspec": {
   "display_name": "Python 3 (ipykernel)",
   "language": "python",
   "name": "python3"
  },
  "language_info": {
   "codemirror_mode": {
    "name": "ipython",
    "version": 3
   },
   "file_extension": ".py",
   "mimetype": "text/x-python",
   "name": "python",
   "nbconvert_exporter": "python",
   "pygments_lexer": "ipython3",
   "version": "3.11.8"
  }
 },
 "nbformat": 4,
 "nbformat_minor": 5
}
